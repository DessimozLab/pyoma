{
 "cells": [
  {
   "cell_type": "markdown",
   "metadata": {
    "run_control": {
     "frozen": false,
     "read_only": false
    }
   },
   "source": [
    "- This notebook is to compare some summary statistics between oma releases (number and size of OMA Groups, HOGs, added or removed genomes/taxa levels, number of homoeolog pairs, etc)\n",
    "- By: Natasha Glover\n",
    "- Last updated: \n",
    "   - Natasha: 13 Aug 2018\n",
    "   - Adrian:  12 Jul 2019\n",
    "   - Adrian:  04 Jan 2021\n"
   ]
  },
  {
   "cell_type": "markdown",
   "metadata": {
    "run_control": {
     "frozen": false,
     "read_only": false
    }
   },
   "source": [
    "# Setup"
   ]
  },
  {
   "cell_type": "code",
   "execution_count": null,
   "metadata": {
    "ExecuteTime": {
     "end_time": "2018-12-20T19:01:20.630965Z",
     "start_time": "2018-12-20T19:01:18.486862Z"
    },
    "run_control": {
     "frozen": false,
     "read_only": false
    }
   },
   "outputs": [],
   "source": [
    "# Scientific libraries\n",
    "import numpy as np\n",
    "#from scipy import stats\n",
    "import pandas as pd\n",
    "import tables\n",
    "import pandas\n",
    "\n",
    "#basic python libraries\n",
    "import re\n",
    "import os\n",
    "from datetime import datetime\n",
    "\n",
    "# Pyoma libraries\n",
    "from pyoma.browser import sanitychecks\n",
    "\n",
    "# Graphic libraries\n",
    "import matplotlib\n",
    "import matplotlib.pyplot as plt\n",
    "import seaborn as sns"
   ]
  },
  {
   "cell_type": "markdown",
   "metadata": {
    "run_control": {
     "frozen": false,
     "read_only": false
    }
   },
   "source": [
    "## Aesthetics"
   ]
  },
  {
   "cell_type": "code",
   "execution_count": null,
   "metadata": {
    "ExecuteTime": {
     "end_time": "2018-09-26T15:45:59.390685Z",
     "start_time": "2018-09-26T15:45:59.378670Z"
    },
    "run_control": {
     "frozen": false,
     "read_only": false
    }
   },
   "outputs": [],
   "source": [
    "# Extra options\n",
    "pd.set_option('max_colwidth',200)\n",
    "pd.options.display.max_rows = 150\n",
    "\n",
    "#style options\n",
    "%matplotlib inline\n",
    "plt.style.use('ggplot')\n",
    "plt.rcParams['figure.figsize'] = (12.0, 8.0)\n",
    "\n",
    "#seaborn options\n",
    "sns.set(rc={'axes.facecolor':'white', 'figure.facecolor':'white'}, font_scale=1.5)\n",
    "sns.set_style('whitegrid')\n",
    "palette=\"husl\""
   ]
  },
  {
   "cell_type": "markdown",
   "metadata": {
    "run_control": {
     "frozen": false,
     "read_only": false
    }
   },
   "source": [
    "## Mounting the oma browser directory"
   ]
  },
  {
   "cell_type": "markdown",
   "metadata": {
    "run_control": {
     "frozen": false,
     "read_only": false
    }
   },
   "source": [
    "To compare oma browser releases, I use the hdf5 file from each. However, since they are so big (~50 Gb each), I mount the directory on vital-it where they are contained. This is done with sshfs and needs to be mounted before the following analyses. The following command is done from command line:\n",
    "- sshfs nglover@prd.vital-it.ch:/data/ul/projects/cdessimo/oma-browser ~/oma_mount"
   ]
  },
  {
   "cell_type": "markdown",
   "metadata": {
    "run_control": {
     "frozen": false,
     "read_only": false
    }
   },
   "source": [
    "## Parameters"
   ]
  },
  {
   "cell_type": "markdown",
   "metadata": {
    "run_control": {
     "frozen": false,
     "read_only": false
    }
   },
   "source": [
    "TODO: Make it so that it just detects all the databases automatically and then we can run the notebook automatically after each release."
   ]
  },
  {
   "cell_type": "code",
   "execution_count": null,
   "metadata": {
    "ExecuteTime": {
     "end_time": "2018-08-13T09:43:44.205365Z",
     "start_time": "2018-08-13T09:43:44.199355Z"
    },
    "run_control": {
     "frozen": false,
     "read_only": false
    }
   },
   "outputs": [],
   "source": [
    "#directory containing the different oma browser releases\n",
    "oma_browser_dir = os.path.expanduser(os.getenv(\"DARWIN_BROWSER_SHARE\", \"~/oma_mount/\"))\n",
    "prefix = \"All.\"\n",
    "cand_releases = [z for z in os.listdir(oma_browser_dir)\n",
    "                 if z.startswith(prefix) and os.path.isdir(os.path.join(oma_browser_dir, z))]\n",
    "releases = sorted(cand_releases, key=lambda x: datetime.strptime(x, prefix+\"%b%Y\"))[-4:]\n",
    "print(releases)\n",
    "\n",
    "#list of 4 releases (strings) to be compared (only exactly 4 for now)\n",
    "#note they will be plotted and presented in the order specified in list\n",
    "#releases = [\"All.Dec2018\", \"All.Jun2019\", \"All.Aug2020\", \"All.Apr2021\"]"
   ]
  },
  {
   "cell_type": "markdown",
   "metadata": {
    "run_control": {
     "frozen": false,
     "read_only": false
    }
   },
   "source": [
    "# Running the sanity checks"
   ]
  },
  {
   "cell_type": "markdown",
   "metadata": {
    "run_control": {
     "frozen": false,
     "read_only": false
    }
   },
   "source": [
    "The following code does all the heavy lifting and uses the sanitychecks2 library from pyoma. Since this involves making many computations, especially from the Entries table in each database, this could take a while to run (~40 minutes)."
   ]
  },
  {
   "cell_type": "code",
   "execution_count": null,
   "metadata": {
    "ExecuteTime": {
     "end_time": "2018-08-13T10:19:57.063213Z",
     "start_time": "2018-08-13T09:43:47.988823Z"
    },
    "run_control": {
     "frozen": true,
     "read_only": true
    }
   },
   "outputs": [],
   "source": [
    "#import importlib\n",
    "#importlib.reload(sanitychecks)\n",
    "\n",
    "#list of sanity (release) objects, each one corresponding to a different release\n",
    "sanity_sessions = []\n",
    "\n",
    "for release in releases:\n",
    "    release_obj = sanitychecks.SanitySession(oma_browser_dir, release)\n",
    "    sanity_sessions.append(release_obj)"
   ]
  },
  {
   "cell_type": "markdown",
   "metadata": {
    "run_control": {
     "frozen": false,
     "read_only": false
    }
   },
   "source": [
    "# Functions"
   ]
  },
  {
   "cell_type": "code",
   "execution_count": null,
   "metadata": {
    "run_control": {
     "frozen": false,
     "read_only": false
    }
   },
   "outputs": [],
   "source": [
    "#TODO add these functions to the sanity checks module"
   ]
  },
  {
   "cell_type": "code",
   "execution_count": null,
   "metadata": {
    "ExecuteTime": {
     "end_time": "2018-08-13T16:35:02.316857Z",
     "start_time": "2018-08-13T16:35:01.446425Z"
    },
    "run_control": {
     "frozen": false,
     "read_only": false
    }
   },
   "outputs": [],
   "source": [
    "def _return_group_object(release_obj, group):\n",
    "    if group == \"hog\":\n",
    "        group_obj = release_obj.all_hogs\n",
    "    if group == \"omagroup\":\n",
    "        group_obj = release_obj.omagroups\n",
    "    return group_obj\n",
    "\n",
    "def count_nb_groups(release_obj, group):\n",
    "    df = pd.DataFrame.from_dict(_return_group_object(release_obj, group), orient='index')\n",
    "    df['release'] = release_obj.release    \n",
    "    return df.groupby('release').size().item()\n",
    "\n",
    "def get_nb_genes_per_group_df(release_obj, group):\n",
    "    df = pd.DataFrame.from_dict(_return_group_object(release_obj, group), orient='index')\n",
    "    df['release'] = release_obj.release\n",
    "    df.reset_index(inplace=True) \n",
    "    df.rename({0:\"nb_genes\", \"index\":group}, inplace=True, axis=1)    \n",
    "    return df\n",
    "\n",
    "def sort_df_by_release(df):\n",
    "    rel_dtype = pd.CategoricalDtype(categories=releases, ordered=True)\n",
    "    df.release = df.release.astype(rel_dtype)\n",
    "    df.sort_values('release', inplace=True)\n",
    "    return df\n",
    "\n",
    "def cum_bin_cnts_by_release(df, column, bin_width=10):\n",
    "    \"\"\"return the cumulative counts of the number of groups that have\n",
    "    at least the size of the bin value\"\"\"\n",
    "    bins = np.arange(0, max(df[column])+bin_width, bin_width)\n",
    "    dfq = pandas.DataFrame({rel: np.histogram(df[df['release']==rel][column], bins)[0] \n",
    "                            for rel in df['release'].unique()})\n",
    "    cum = dfq.iloc[::-1].cumsum()\n",
    "    cum['bin'] = bins[:-1][::-1]\n",
    "    cum['lab'] = np.array(list(\">{}\".format(z) for z in bins[:-1]))[::-1]\n",
    "    return cum\n",
    "\n",
    "def make_countplot_by_release(df, releases, title=\"Don't forget a title\"):\n",
    "    fig, ax = plt.subplots(nrows=1, ncols=1, figsize=(12,8))\n",
    "    ax = sns.countplot(x=\"release\", data=df, order=releases, palette=\"husl\")\n",
    "    ax.set_title(title)\n",
    "    return ax\n",
    "\n",
    "def get_differences_in_genomes_or_taxa(df, old_release, new_release, genomes_or_taxa):\n",
    "    '''old_release and new_release should be sanity session objects'''\n",
    "    \n",
    "    if genomes_or_taxa == \"genomes\":\n",
    "        added = list(set(new_release.species) - set(old_release.species))\n",
    "        removed = list(set(old_release.species) - set(new_release.species))\n",
    "        \n",
    "    if genomes_or_taxa == \"taxa\":\n",
    "        added = list(set(new_release.all_hog_lvls) - set(old_release.all_hog_lvls))\n",
    "        removed = list(set(old_release.all_hog_lvls) - set(new_release.all_hog_lvls))\n",
    "        added = [x.decode(\"utf-8\") for x in added]\n",
    "        removed = [x.decode(\"utf-8\") for x in removed]\n",
    "    res = {'added':added, 'removed': removed}\n",
    "    return res\n",
    "\n",
    "def decode_column_in_df(df, column_to_decode):\n",
    "    df[column_to_decode] = df.apply(lambda x: x[column_to_decode].decode(\"utf-8\"), axis=1)\n",
    "    return df\n",
    "\n",
    "def make_boxplot_by_release(df, releases, column_to_plot, title=\"Don't forget a title\"):\n",
    "    fig, ax = plt.subplots(nrows=1, ncols=2, figsize=(14,4))\n",
    "    sns.boxplot(x=\"release\", y=column_to_plot, data=df, ax=ax[0], palette=palette, order=releases)\n",
    "    ax[0].set_title(\"Outliers shown\")\n",
    "    sns.boxplot(x=\"release\", y=column_to_plot, data=df, ax=ax[1], showfliers=False, palette=palette, order=releases)\n",
    "    ax[1].set_title(\"No outliers shown\")\n",
    "    plt.suptitle(title)\n",
    "    plt.subplots_adjust(top=0.75)\n",
    "    plt.show()\n",
    "    \n",
    "def make_cumbiggerthan_plot_by_release(cum_df, releases, title=\"Don't forget a title\", xlabel=\"Size\", ylabel=\"Cumulative counts\"):\n",
    "    pal = matplotlib.colors.ListedColormap(sns.color_palette(palette, len(releases)))\n",
    "    fig, ax = plt.subplots()\n",
    "    for num, rel in enumerate(releases):\n",
    "        plt.plot('bin', rel, data=cum_df, marker='', color=pal(num), linewidth=2.4, alpha=0.9, label=rel)\n",
    "    plt.semilogy()\n",
    "    xstep = max(1,len(cum_df)//20)\n",
    "    if cum_df['bin'][0]>0:\n",
    "        xstep = -xstep\n",
    "    plt.xticks(cum_df['bin'][::xstep], fontsize=15, rotation=45)\n",
    "    plt.legend()\n",
    "    plt.xlabel(xlabel)\n",
    "    plt.ylabel(ylabel)\n",
    "    plt.title(title, fontsize=15)\n",
    "    plt.show()\n",
    "    \n",
    "def get_prop_with_n_genes(df, releases, nb_genes=2):\n",
    "    '''get number of groups per release\n",
    "    param releases is the list of string releases'''\n",
    "    df1 = df.groupby('release').size().reset_index()\n",
    "    df1.rename({0:'total_nb_groups'}, axis=1, inplace=True)\n",
    "\n",
    "    #get groups with n genes\n",
    "    df2 = df[df['nb_genes']==nb_genes].groupby('release').size().reset_index()\n",
    "    df2.rename({0:'nb_groups_with_'+str(nb_genes)+'_genes'}, axis=1, inplace=True)\n",
    "    \n",
    "    #get proportion\n",
    "    df3 = pd.merge(left=df1, right=df2, how=\"left\", on=\"release\")\n",
    "    df3['prop_groups_'+str(nb_genes)+'_genes'] = df3['nb_groups_with_'+str(nb_genes)+'_genes']/ df3['total_nb_groups']\n",
    "    df3.set_index(\"release\", inplace=True)\n",
    "    df3 = df3.reindex(releases)\n",
    "    df3.reset_index(level=0, inplace=True)\n",
    "    return df3\n",
    "\n",
    "def get_total_nb_groups(df):\n",
    "    df = df.groupby('release').size().reset_index()\n",
    "    df.rename({0:\"nb_genomes\"}, axis=1, inplace=True)\n",
    "    df = sort_df_by_release(df) \n",
    "    return df\n",
    "\n",
    "def get_summary_stats(df, column_to_summarize):\n",
    "    df= df[['release',column_to_summarize]].groupby('release').describe().reset_index()\n",
    "    df.columns = df.columns.droplevel()\n",
    "    df = df.rename({'':'release'}, axis=1)\n",
    "    df = sort_df_by_release(df)\n",
    "    return df\n",
    "\n",
    "def plot_proportions_of_groups_with_n_genes(low_genes_df, list_of_columns_to_plot,\\\n",
    "                                            title=\"Don't forget a title\", rename_cols=False):\n",
    "    \n",
    "    if rename_cols==True:\n",
    "        low_genes_df = rename_proportion_columns(low_genes_df)\n",
    "        list_of_columns_to_plot = rename_proportion_columns(low_genes_df).columns[1:5]\n",
    "        \n",
    "    \n",
    "    #melt dataframe\n",
    "    melted_low_genes_df = pd.melt(low_genes_df, id_vars=['release'], \\\n",
    "                                  value_vars=list_of_columns_to_plot)\n",
    "    melted_low_genes_df.rename({\"variable\": \"nb genes in group\", \"value\": \"proportion of groups\"}, \\\n",
    "                               axis=1, inplace=True)\n",
    "    \n",
    "    #make plot\n",
    "    fig, ax= plt.subplots(figsize=(10,10))\n",
    "    sns.pointplot(x=\"release\", y=\"proportion of groups\", hue=\"nb genes in group\", data=melted_low_genes_df, \\\n",
    "                 palette=palette)\n",
    "    #plt.legend(loc=\"upper right\")\n",
    "    plt.ylim(0,.7)\n",
    "    plt.title(title)\n",
    "    plt.show()\n",
    "\n",
    "def get_low_genes_df(df, releases, list_of_gene_numbers=[2,3,4,5]):\n",
    "    '''makes a dataframe with proportion of genes with n number for each release.'''\n",
    "    low_genes_df = pd.DataFrame.from_dict({'release': releases})\n",
    "\n",
    "    for i in range(list_of_gene_numbers[0],list_of_gene_numbers[-1]+1):\n",
    "        tmp_df = pd.DataFrame(get_prop_with_n_genes(df, releases, i))\n",
    "        low_genes_df = pd.merge(left=low_genes_df, right=tmp_df[['release',tmp_df.columns[-1]]],\\\n",
    "                                how=\"left\", on=\"release\")\n",
    "\n",
    "    low_genes_df['total_nb_groups'] = get_prop_with_n_genes(df, releases, 2)['total_nb_groups']\n",
    "    return low_genes_df\n",
    "\n",
    "def rename_proportion_columns(df):\n",
    "    columns = df.columns\n",
    "    new_columns = {}\n",
    "    for column in columns:\n",
    "        if \"prop_groups\" in column:\n",
    "            matchObj = re.match(r'prop_groups_(.*)_genes', column)\n",
    "            try:\n",
    "                new_column = matchObj.group(1)\n",
    "                new_columns[column] = new_column\n",
    "            except:\n",
    "                print(\"no match\")\n",
    "    \n",
    "    df = df.rename(new_columns, axis=1)\n",
    "    return df\n"
   ]
  },
  {
   "cell_type": "markdown",
   "metadata": {
    "heading_collapsed": true,
    "run_control": {
     "frozen": false,
     "read_only": false
    }
   },
   "source": [
    "# Compare Genomes"
   ]
  },
  {
   "cell_type": "code",
   "execution_count": null,
   "metadata": {
    "ExecuteTime": {
     "end_time": "2018-08-13T11:06:10.225592Z",
     "start_time": "2018-08-13T11:06:10.124363Z"
    },
    "hidden": true,
    "run_control": {
     "frozen": false,
     "read_only": false
    }
   },
   "outputs": [],
   "source": [
    "#get genome dataframe\n",
    "tmp_dfs = []\n",
    "for release in sanity_sessions:\n",
    "    tmp_df = pd.DataFrame.from_dict({'genomes': release.species})\n",
    "    tmp_df['release'] = release.release\n",
    "    tmp_dfs.append(tmp_df)\n",
    "genome_df = pd.concat(tmp_dfs, ignore_index=True)\n",
    "del tmp_dfs"
   ],
   "outputs": []
  },
  {
   "cell_type": "markdown",
   "metadata": {
    "hidden": true,
    "run_control": {
     "frozen": false,
     "read_only": false
    }
   },
   "source": [
    "## Nb of genomes"
   ]
  },
  {
   "cell_type": "code",
   "execution_count": null,
   "metadata": {
    "ExecuteTime": {
     "end_time": "2018-08-13T11:06:18.600502Z",
     "start_time": "2018-08-13T11:06:18.463260Z"
    },
    "hidden": true,
    "run_control": {
     "frozen": false,
     "read_only": false
    }
   },
   "outputs": [],
   "source": [
    "get_total_nb_groups(genome_df)"
   ]
  },
  {
   "cell_type": "code",
   "execution_count": null,
   "metadata": {
    "ExecuteTime": {
     "end_time": "2018-08-13T13:38:32.895747Z",
     "start_time": "2018-08-13T13:38:32.572564Z"
    },
    "hidden": true,
    "run_control": {
     "frozen": false,
     "read_only": false
    }
   },
   "outputs": [],
   "source": [
    "make_countplot_by_release(genome_df, releases, \"Number of Genomes\")"
   ]
  },
  {
   "cell_type": "markdown",
   "metadata": {
    "ExecuteTime": {
     "end_time": "2018-08-11T19:31:14.295640Z",
     "start_time": "2018-08-11T19:31:14.276998Z"
    },
    "hidden": true,
    "run_control": {
     "frozen": false,
     "read_only": false
    }
   },
   "source": [
    "## Genomes added"
   ]
  },
  {
   "cell_type": "code",
   "execution_count": null,
   "metadata": {
    "ExecuteTime": {
     "end_time": "2018-08-13T11:09:46.940507Z",
     "start_time": "2018-08-13T11:09:46.684463Z"
    },
    "hidden": true,
    "run_control": {
     "frozen": false,
     "read_only": false
    },
    "scrolled": true
   },
   "outputs": [],
   "source": [
    "#latest genomes added\n",
    "genome1_df = pd.DataFrame(sanity_sessions[-2].genome_table.read())\n",
    "genome1_df = decode_column_in_df(genome1_df, \"UniProtSpeciesCode\")\n",
    "genome2_df = pd.DataFrame(sanity_sessions[-1].genome_table.read())\n",
    "genome2_df = decode_column_in_df(genome2_df, \"UniProtSpeciesCode\")\n",
    "\n",
    "diff = get_differences_in_genomes_or_taxa(genome_df, sanity_sessions[-2], sanity_sessions[-1], \"genomes\")\n",
    "genome2_df.loc[genome2_df['UniProtSpeciesCode'].isin(diff['added'])] "
   ]
  },
  {
   "cell_type": "code",
   "execution_count": null,
   "metadata": {},
   "outputs": [],
   "source": [
    "print(\"In total there were {:d} new genomes in the latest release\".format(len(diff['added'])))"
   ]
  },
  {
   "cell_type": "markdown",
   "metadata": {
    "hidden": true,
    "run_control": {
     "frozen": false,
     "read_only": false
    }
   },
   "source": [
    "## Genomes removed"
   ]
  },
  {
   "cell_type": "code",
   "execution_count": null,
   "metadata": {
    "ExecuteTime": {
     "end_time": "2018-08-13T11:10:07.210526Z",
     "start_time": "2018-08-13T11:10:07.178865Z"
    },
    "hidden": true,
    "run_control": {
     "frozen": false,
     "read_only": false
    },
    "scrolled": true
   },
   "outputs": [],
   "source": [
    "genome1_df.loc[genome1_df['UniProtSpeciesCode'].isin(diff['removed'])] "
   ]
  },
  {
   "cell_type": "code",
   "execution_count": null,
   "metadata": {},
   "outputs": [],
   "source": [
    "print(\"In total there were {:d} removed genomes in the latest release\".format(len(diff['removed'])))"
   ]
  },
  {
   "cell_type": "markdown",
   "metadata": {
    "heading_collapsed": true,
    "run_control": {
     "frozen": false,
     "read_only": false
    }
   },
   "source": [
    "# Compare number of proteins"
   ]
  },
  {
   "cell_type": "code",
   "execution_count": null,
   "metadata": {
    "ExecuteTime": {
     "end_time": "2018-08-13T11:10:22.076388Z",
     "start_time": "2018-08-13T11:10:22.006242Z"
    },
    "hidden": true,
    "run_control": {
     "frozen": false,
     "read_only": false
    }
   },
   "outputs": [],
   "source": [
    "#note this include ASVs\n",
    "df = pd.DataFrame([[r.release, int(r.entries_table.attrs.NROWS)] for r in sanity_sessions],\n",
    "                  columns=['release', 'nr_entries'])\n",
    "sort_df_by_release(df)"
   ]
  },
  {
   "cell_type": "code",
   "execution_count": null,
   "metadata": {
    "ExecuteTime": {
     "end_time": "2018-08-13T13:38:47.019083Z",
     "start_time": "2018-08-13T13:38:46.764214Z"
    },
    "hidden": true,
    "run_control": {
     "frozen": false,
     "read_only": false
    }
   },
   "outputs": [],
   "source": [
    "sns.stripplot(x=\"release\", y=\"nb_entries\",data=df, order=releases, size=15, palette=\"husl\")\n",
    "plt.title(\"Number of Entries\")\n",
    "plt.ticklabel_format(style='plain', axis='y')"
   ]
  },
  {
   "cell_type": "markdown",
   "metadata": {
    "ExecuteTime": {
     "end_time": "2018-08-09T13:12:14.660926Z",
     "start_time": "2018-08-09T13:12:14.654678Z"
    },
    "run_control": {
     "frozen": false,
     "read_only": false
    }
   },
   "source": [
    "# Compare OMA Groups"
   ]
  },
  {
   "cell_type": "code",
   "execution_count": null,
   "metadata": {
    "ExecuteTime": {
     "end_time": "2018-08-13T11:14:15.635403Z",
     "start_time": "2018-08-13T11:14:13.494832Z"
    },
    "run_control": {
     "frozen": false,
     "read_only": false
    }
   },
   "outputs": [],
   "source": [
    "#get omagroups df\n",
    "omagroups_df = pd.concat([get_nb_genes_per_group_df(release, \"omagroup\") for release in sanity_sessions], ignore_index=True)"
   ],
   "outputs": []
  },
  {
   "cell_type": "markdown",
   "metadata": {
    "run_control": {
     "frozen": false,
     "read_only": false
    }
   },
   "source": [
    "## Nb of omagroups"
   ]
  },
  {
   "cell_type": "code",
   "execution_count": null,
   "metadata": {
    "ExecuteTime": {
     "end_time": "2018-08-13T11:17:21.676415Z",
     "start_time": "2018-08-13T11:17:21.373901Z"
    },
    "run_control": {
     "frozen": false,
     "read_only": false
    }
   },
   "outputs": [],
   "source": [
    "#total number of omagroups\n",
    "get_total_nb_groups(omagroups_df)"
   ]
  },
  {
   "cell_type": "code",
   "execution_count": null,
   "metadata": {
    "ExecuteTime": {
     "end_time": "2018-08-13T13:38:51.212807Z",
     "start_time": "2018-08-13T13:38:50.386958Z"
    },
    "run_control": {
     "frozen": false,
     "read_only": false
    }
   },
   "outputs": [],
   "source": [
    "make_countplot_by_release(omagroups_df, releases, title=\"Total Number of OMA Groups\")"
   ]
  },
  {
   "cell_type": "markdown",
   "metadata": {
    "run_control": {
     "frozen": false,
     "read_only": false
    }
   },
   "source": [
    "## Nb genes per OMA Groups summary stats"
   ]
  },
  {
   "cell_type": "code",
   "execution_count": null,
   "metadata": {
    "ExecuteTime": {
     "end_time": "2018-08-13T11:17:54.736724Z",
     "start_time": "2018-08-13T11:17:53.863185Z"
    },
    "run_control": {
     "frozen": false,
     "read_only": false
    }
   },
   "outputs": [],
   "source": [
    "get_summary_stats(omagroups_df, \"nb_genes\")"
   ]
  },
  {
   "cell_type": "markdown",
   "metadata": {
    "run_control": {
     "frozen": false,
     "read_only": false
    }
   },
   "source": [
    "## Plot distributions"
   ]
  },
  {
   "cell_type": "code",
   "execution_count": null,
   "metadata": {
    "ExecuteTime": {
     "end_time": "2018-08-13T13:39:48.871501Z",
     "start_time": "2018-08-13T13:39:41.245905Z"
    },
    "run_control": {
     "frozen": false,
     "read_only": false
    }
   },
   "outputs": [],
   "source": [
    "make_boxplot_by_release(omagroups_df, releases, \"nb_genes\",\"Number of genes per OMA Group\")"
   ]
  },
  {
   "cell_type": "code",
   "execution_count": null,
   "metadata": {},
   "outputs": [],
   "source": [
    "cum = cum_bin_cnts_by_release(omagroups_df, 'nb_genes')\n",
    "make_cumbiggerthan_plot_by_release(cum, releases, 'Number of groups with at least x member genes')"
   ]
  },
  {
   "cell_type": "markdown",
   "metadata": {
    "run_control": {
     "frozen": false,
     "read_only": false
    }
   },
   "source": [
    "## Groups with low numbers of genes"
   ]
  },
  {
   "cell_type": "code",
   "execution_count": null,
   "metadata": {
    "ExecuteTime": {
     "end_time": "2018-08-13T15:00:51.488549Z",
     "start_time": "2018-08-13T15:00:49.798543Z"
    }
   },
   "outputs": [],
   "source": [
    "low_genes_df = get_low_genes_df(omagroups_df, releases)\n",
    "low_genes_df"
   ]
  },
  {
   "cell_type": "code",
   "execution_count": null,
   "metadata": {
    "ExecuteTime": {
     "end_time": "2018-08-13T15:01:58.930905Z",
     "start_time": "2018-08-13T15:01:58.504198Z"
    }
   },
   "outputs": [],
   "source": [
    "low_genes_df.rename({'prop_groups_2_genes':\"2\",'prop_groups_3_genes':\"3\",\\\n",
    "                     'prop_groups_4_genes':\"4\",'prop_groups_5_genes':\"5\"}, axis=1, inplace=True)\n",
    "\n",
    "\n",
    "plot_proportions_of_groups_with_n_genes(low_genes_df, low_genes_df.columns[1:5],\\\n",
    "                                        \"Proportion of OMA Groups with n number of genes\")"
   ]
  },
  {
   "cell_type": "markdown",
   "metadata": {
    "ExecuteTime": {
     "end_time": "2018-08-09T14:21:31.330032Z",
     "start_time": "2018-08-09T14:21:30.784477Z"
    },
    "run_control": {
     "frozen": false,
     "read_only": false
    }
   },
   "source": [
    "# Compare HOGs (subhogs)"
   ]
  },
  {
   "cell_type": "code",
   "execution_count": null,
   "metadata": {
    "ExecuteTime": {
     "end_time": "2018-08-13T15:02:32.812136Z",
     "start_time": "2018-08-13T15:02:23.613349Z"
    },
    "run_control": {
     "frozen": false,
     "read_only": false
    },
    "scrolled": true
   },
   "outputs": [],
   "source": [
    "#get hog df\n",
    "fam_re = re.compile(rb'HOG:(?P<rel>[A-Z]?)(?P<fam>\\d+)')\n",
    "hog_df = pd.concat([get_nb_genes_per_group_df(release, \"hog\") for release in sanity_sessions], ignore_index=True)\n",
    "hog_df['depth'] = hog_df['hog'].apply(lambda x: x.count(b'.'))\n",
    "hog_df['fam'] = hog_df['hog'].apply(lambda x: int(fam_re.match(x).group('fam')))"
   ]
  },
  {
   "cell_type": "markdown",
   "metadata": {
    "run_control": {
     "frozen": false,
     "read_only": false
    }
   },
   "source": [
    "## Nb of hogs"
   ]
  },
  {
   "cell_type": "code",
   "execution_count": null,
   "metadata": {
    "ExecuteTime": {
     "end_time": "2018-08-13T15:03:48.076820Z",
     "start_time": "2018-08-13T15:03:46.506081Z"
    },
    "run_control": {
     "frozen": false,
     "read_only": false
    }
   },
   "outputs": [],
   "source": [
    "#total number of hogs\n",
    "get_total_nb_groups(hog_df)"
   ]
  },
  {
   "cell_type": "code",
   "execution_count": null,
   "metadata": {
    "ExecuteTime": {
     "end_time": "2018-08-13T15:03:53.600706Z",
     "start_time": "2018-08-13T15:03:51.892559Z"
    },
    "run_control": {
     "frozen": false,
     "read_only": false
    }
   },
   "outputs": [],
   "source": [
    "make_countplot_by_release(hog_df, releases, title=\"Total Number of HOGs\")"
   ]
  },
  {
   "cell_type": "markdown",
   "metadata": {
    "run_control": {
     "frozen": false,
     "read_only": false
    }
   },
   "source": [
    "## Nb genes per HOG summary stats"
   ]
  },
  {
   "cell_type": "code",
   "execution_count": null,
   "metadata": {
    "ExecuteTime": {
     "end_time": "2018-08-13T15:04:12.733102Z",
     "start_time": "2018-08-13T15:04:10.024754Z"
    },
    "run_control": {
     "frozen": false,
     "read_only": false
    }
   },
   "outputs": [],
   "source": [
    "get_summary_stats(hog_df, \"nb_genes\")"
   ]
  },
  {
   "cell_type": "code",
   "execution_count": null,
   "metadata": {
    "pycharm": {
     "name": "#%%\n"
    }
   },
   "outputs": [],
   "source": [
    "get_summary_stats(hog_df, \"depth\")"
   ]
  },
  {
   "cell_type": "markdown",
   "metadata": {
    "run_control": {
     "frozen": false,
     "read_only": false
    }
   },
   "source": [
    "## Plot distributions"
   ]
  },
  {
   "cell_type": "code",
   "execution_count": null,
   "metadata": {
    "ExecuteTime": {
     "end_time": "2018-08-13T16:35:30.694547Z",
     "start_time": "2018-08-13T16:35:25.004370Z"
    },
    "run_control": {
     "frozen": false,
     "read_only": false
    }
   },
   "outputs": [],
   "source": [
    "make_boxplot_by_release(hog_df, releases, \"nb_genes\", \"Number of genes per HOG\")"
   ]
  },
  {
   "cell_type": "code",
   "execution_count": null,
   "metadata": {},
   "outputs": [],
   "source": [
    "cum_hog = cum_bin_cnts_by_release(hog_df, 'nb_genes', bin_width=10)\n",
    "make_cumbiggerthan_plot_by_release(cum_hog, releases, 'Number of groups with at least x member genes')"
   ]
  },
  {
   "cell_type": "code",
   "execution_count": null,
   "metadata": {
    "pycharm": {
     "name": "#%%\n"
    }
   },
   "outputs": [],
   "source": [
    "hog_depth = pd.DataFrame({rel: np.histogram(hog_df[hog_df['release']==rel]['depth'],bins=np.arange(0, max(hog_df['depth']+2), 1))[0] for rel in df['release'].unique()})\n",
    "hog_depth['bin'] = np.arange(0, max(hog_df['depth']+1), 1)\n",
    "make_cumbiggerthan_plot_by_release(hog_depth, releases, \"Number of hogs with a certain nesting depth x\", xlabel=\"hog depth\", ylabel=\"Counts of HOGs\")"
   ]
  },
  {
   "cell_type": "markdown",
   "metadata": {
    "ExecuteTime": {
     "end_time": "2018-08-10T09:34:08.189144Z",
     "start_time": "2018-08-10T09:34:08.164001Z"
    },
    "run_control": {
     "frozen": false,
     "read_only": false
    }
   },
   "source": [
    "## HOGs with low numbers"
   ]
  },
  {
   "cell_type": "code",
   "execution_count": null,
   "metadata": {
    "ExecuteTime": {
     "end_time": "2018-08-13T15:11:54.223538Z",
     "start_time": "2018-08-13T15:11:49.461353Z"
    },
    "run_control": {
     "frozen": false,
     "read_only": false
    }
   },
   "outputs": [],
   "source": [
    "low_genes_df = get_low_genes_df(hog_df, releases, [1,2,3,4])\n",
    "low_genes_df"
   ]
  },
  {
   "cell_type": "code",
   "execution_count": null,
   "metadata": {
    "ExecuteTime": {
     "end_time": "2018-08-13T16:35:46.652010Z",
     "start_time": "2018-08-13T16:35:46.223755Z"
    }
   },
   "outputs": [],
   "source": [
    "plot_proportions_of_groups_with_n_genes(low_genes_df, low_genes_df.columns[1:5],\\\n",
    "                                        \"Proportion of Subhogs with n number of genes\",\\\n",
    "                                       rename_cols=True)"
   ]
  },
  {
   "cell_type": "markdown",
   "metadata": {
    "ExecuteTime": {
     "end_time": "2018-08-10T08:56:11.822133Z",
     "start_time": "2018-08-10T08:56:11.419237Z"
    },
    "run_control": {
     "frozen": false,
     "read_only": false
    }
   },
   "source": [
    "# Compare families (root hogs)"
   ]
  },
  {
   "cell_type": "code",
   "execution_count": null,
   "metadata": {
    "ExecuteTime": {
     "end_time": "2018-08-13T16:30:37.032683Z",
     "start_time": "2018-08-13T16:27:42.700713Z"
    },
    "run_control": {
     "frozen": false,
     "read_only": false
    }
   },
   "outputs": [],
   "source": [
    "fam_df = hog_df[hog_df['depth']==0]\n",
    "fam_df.reset_index();"
   ]
  },
  {
   "cell_type": "markdown",
   "metadata": {
    "run_control": {
     "frozen": false,
     "read_only": false
    }
   },
   "source": [
    "## Nb of families"
   ]
  },
  {
   "cell_type": "code",
   "execution_count": null,
   "metadata": {
    "ExecuteTime": {
     "end_time": "2018-08-13T16:30:55.100292Z",
     "start_time": "2018-08-13T16:30:54.865811Z"
    },
    "run_control": {
     "frozen": false,
     "read_only": false
    }
   },
   "outputs": [],
   "source": [
    "#total number of families\n",
    "get_total_nb_groups(fam_df)"
   ]
  },
  {
   "cell_type": "markdown",
   "metadata": {
    "run_control": {
     "frozen": false,
     "read_only": false
    }
   },
   "source": [
    "## Nb genes per fam summary stats"
   ]
  },
  {
   "cell_type": "code",
   "execution_count": null,
   "metadata": {
    "ExecuteTime": {
     "end_time": "2018-08-13T16:31:36.512010Z",
     "start_time": "2018-08-13T16:31:12.998667Z"
    },
    "run_control": {
     "frozen": false,
     "read_only": false
    }
   },
   "outputs": [],
   "source": [
    "get_summary_stats(fam_df, \"nb_genes\")"
   ]
  },
  {
   "cell_type": "code",
   "execution_count": null,
   "metadata": {
    "ExecuteTime": {
     "end_time": "2018-08-13T16:32:21.571351Z",
     "start_time": "2018-08-13T16:32:20.949618Z"
    },
    "run_control": {
     "frozen": false,
     "read_only": false
    }
   },
   "outputs": [],
   "source": [
    "make_countplot_by_release(fam_df, releases, title=\"Number of families\")"
   ]
  },
  {
   "cell_type": "markdown",
   "metadata": {
    "run_control": {
     "frozen": false,
     "read_only": false
    }
   },
   "source": [
    "## Plot distributions"
   ]
  },
  {
   "cell_type": "code",
   "execution_count": null,
   "metadata": {
    "ExecuteTime": {
     "end_time": "2018-08-13T16:37:10.749669Z",
     "start_time": "2018-08-13T16:37:09.524998Z"
    },
    "run_control": {
     "frozen": false,
     "read_only": false
    }
   },
   "outputs": [],
   "source": [
    "make_boxplot_by_release(fam_df, releases, \"nb_genes\",\"Number of genes per Family\")"
   ]
  },
  {
   "cell_type": "code",
   "execution_count": null,
   "metadata": {},
   "outputs": [],
   "source": [
    "cum_fam = cum_bin_cnts_by_release(fam_df, 'nb_genes')\n",
    "make_cumbiggerthan_plot_by_release(cum_fam, releases, 'Number of groups with at least x member genes')"
   ]
  },
  {
   "cell_type": "markdown",
   "metadata": {
    "run_control": {
     "frozen": false,
     "read_only": false
    }
   },
   "source": [
    "## Families with low numbers"
   ]
  },
  {
   "cell_type": "code",
   "execution_count": null,
   "metadata": {
    "ExecuteTime": {
     "end_time": "2018-08-13T16:40:21.000328Z",
     "start_time": "2018-08-13T16:40:20.001307Z"
    },
    "run_control": {
     "frozen": false,
     "read_only": false
    }
   },
   "outputs": [],
   "source": [
    "low_genes_df = get_low_genes_df(fam_df, releases, [2,3,4,5])\n",
    "low_genes_df"
   ]
  },
  {
   "cell_type": "code",
   "execution_count": null,
   "metadata": {
    "ExecuteTime": {
     "end_time": "2018-08-13T16:40:27.030758Z",
     "start_time": "2018-08-13T16:40:26.587002Z"
    },
    "run_control": {
     "frozen": false,
     "read_only": false
    }
   },
   "outputs": [],
   "source": [
    "plot_proportions_of_groups_with_n_genes(low_genes_df, low_genes_df.columns[1:5],\\\n",
    "                                        \"Proportion of Root Hogs with n number of genes\",\\\n",
    "                                       rename_cols=True)\n"
   ]
  },
  {
   "cell_type": "markdown",
   "metadata": {},
   "source": [
    "# Track HOGs for a few key genes"
   ]
  },
  {
   "cell_type": "code",
   "execution_count": null,
   "metadata": {
    "pycharm": {
     "name": "#%%\n"
    }
   },
   "outputs": [],
   "source": [
    "# cases reported once by BASF\n",
    "query_genes = [\"P53_HUMAN\", ]\n",
    "# a few random ARATH genes\n",
    "query_genes.extend([\"PME34_ARATH\", \"CYSK1_ARATH\", \"TO202_ARATH\", \"RIBA1_ARATH\"])\n",
    "# opsin gene where OMA doesn't work well (until Aug2020 at least)\n",
    "query_genes.extend([\"ENSG00000102076\"])\n",
    "import pyoma.browser.db\n",
    "data = []\n",
    "for release in sanity_sessions:\n",
    "    db = pyoma.browser.db.Database(release.db_path)\n",
    "    for query in query_genes:\n",
    "        try:\n",
    "            members = db.member_of_fam(db.hog_family(db.ensure_entry(db.id_resolver.resolve(query))))\n",
    "        except pyoma.browser.db.InvalidId:\n",
    "            print(\"{} does not contain an xref to {}\".format(release.release, query))\n",
    "            members = []\n",
    "        except pyoma.browser.db.Singleton:\n",
    "            print(\"{} is a singleton in {}\".format(query, release.release))\n",
    "            members = [1]\n",
    "        data.append((query, release.release, len(members)))\n",
    "    db.close()\n",
    "case_df = pd.DataFrame(data, columns=[\"gene\", \"release\", \"size\"])"
   ]
  },
  {
   "cell_type": "code",
   "execution_count": null,
   "metadata": {
    "pycharm": {
     "name": "#%%\n"
    }
   },
   "outputs": [],
   "source": [
    "fig, ax= plt.subplots(figsize=(10,10))\n",
    "sns.pointplot(x=\"release\", y=\"size\", hue=\"gene\", data=case_df, palette=palette)\n",
    "plt.title('Roothog-size for a few families')\n",
    "plt.show()"
   ]
  },
  {
   "cell_type": "markdown",
   "metadata": {
    "run_control": {
     "frozen": false,
     "read_only": false
    }
   },
   "source": [
    "# Compare at different taxa levels"
   ]
  },
  {
   "cell_type": "code",
   "execution_count": null,
   "metadata": {
    "ExecuteTime": {
     "end_time": "2018-08-13T16:43:13.497023Z",
     "start_time": "2018-08-13T16:43:13.014796Z"
    },
    "run_control": {
     "frozen": false,
     "read_only": false
    },
    "scrolled": true
   },
   "outputs": [],
   "source": [
    "tmp_dfs = []\n",
    "for release in sanity_sessions:\n",
    "    tmp_df = pd.DataFrame.from_dict(release.all_hog_lvls, orient=\"index\")\n",
    "    tmp_df = tmp_df.rename({0:'nb_hogs'}, axis=1)\n",
    "    tmp_df = tmp_df.reset_index()\n",
    "    tmp_df['release'] = release.release\n",
    "    tmp_dfs.append(tmp_df)\n",
    "tax_df = pd.concat(tmp_dfs, ignore_index=True)\n",
    "del tmp_dfs\n",
    "\n",
    "tax_df.rename({'index':'taxa'}, axis=1, inplace=True)\n",
    "tax_df['taxa'] = tax_df.apply(lambda x: x['taxa'].decode(\"utf-8\"), axis=1)"
   ]
  },
  {
   "cell_type": "markdown",
   "metadata": {
    "run_control": {
     "frozen": false,
     "read_only": false
    }
   },
   "source": [
    "## Nb of taxa levels"
   ]
  },
  {
   "cell_type": "code",
   "execution_count": null,
   "metadata": {
    "ExecuteTime": {
     "end_time": "2018-08-13T16:43:17.054209Z",
     "start_time": "2018-08-13T16:43:17.037589Z"
    },
    "run_control": {
     "frozen": false,
     "read_only": false
    }
   },
   "outputs": [],
   "source": [
    "get_total_nb_groups(tax_df)"
   ]
  },
  {
   "cell_type": "code",
   "execution_count": null,
   "metadata": {
    "ExecuteTime": {
     "end_time": "2018-08-13T16:43:51.964287Z",
     "start_time": "2018-08-13T16:43:51.709855Z"
    },
    "run_control": {
     "frozen": false,
     "read_only": false
    }
   },
   "outputs": [],
   "source": [
    "#number of taxa\n",
    "make_countplot_by_release(tax_df, releases, title=\"Number of taxonomic levels\")"
   ]
  },
  {
   "cell_type": "markdown",
   "metadata": {
    "run_control": {
     "frozen": false,
     "read_only": false
    }
   },
   "source": [
    "## Nb hogs per taxa summary stats"
   ]
  },
  {
   "cell_type": "code",
   "execution_count": null,
   "metadata": {
    "ExecuteTime": {
     "end_time": "2018-08-13T16:44:04.636031Z",
     "start_time": "2018-08-13T16:44:04.579796Z"
    },
    "run_control": {
     "frozen": false,
     "read_only": false
    }
   },
   "outputs": [],
   "source": [
    "#number of hogs per taxonomic level summary stats\n",
    "get_summary_stats(tax_df, 'nb_hogs')"
   ]
  },
  {
   "cell_type": "code",
   "execution_count": null,
   "metadata": {
    "ExecuteTime": {
     "end_time": "2018-08-13T16:44:11.431982Z",
     "start_time": "2018-08-13T16:44:10.963503Z"
    },
    "run_control": {
     "frozen": false,
     "read_only": false
    }
   },
   "outputs": [],
   "source": [
    "#distribution of number of hogs per taxa level\n",
    "make_boxplot_by_release(tax_df, releases, 'nb_hogs', \"Number of HOGS per taxa\")"
   ]
  },
  {
   "cell_type": "markdown",
   "metadata": {
    "run_control": {
     "frozen": false,
     "read_only": false
    }
   },
   "source": [
    "## Taxa added"
   ]
  },
  {
   "cell_type": "code",
   "execution_count": null,
   "metadata": {
    "ExecuteTime": {
     "end_time": "2018-08-13T19:20:09.657408Z",
     "start_time": "2018-08-13T19:20:09.645643Z"
    },
    "run_control": {
     "frozen": false,
     "read_only": false
    },
    "scrolled": true
   },
   "outputs": [],
   "source": [
    "old_release = sanity_sessions[-2]\n",
    "new_release = sanity_sessions[-1]\n",
    "get_differences_in_genomes_or_taxa(tax_df, old_release, new_release, \"taxa\")['added']"
   ]
  },
  {
   "cell_type": "markdown",
   "metadata": {
    "ExecuteTime": {
     "end_time": "2018-08-11T17:50:15.224930Z",
     "start_time": "2018-08-11T17:50:15.207544Z"
    },
    "run_control": {
     "frozen": false,
     "read_only": false
    }
   },
   "source": [
    "## Taxa removed"
   ]
  },
  {
   "cell_type": "code",
   "execution_count": null,
   "metadata": {
    "ExecuteTime": {
     "end_time": "2018-08-13T19:20:14.014457Z",
     "start_time": "2018-08-13T19:20:14.003563Z"
    },
    "run_control": {
     "frozen": false,
     "read_only": false
    },
    "scrolled": true
   },
   "outputs": [],
   "source": [
    "get_differences_in_genomes_or_taxa(tax_df, old_release, new_release, \"taxa\")['removed']"
   ]
  },
  {
   "cell_type": "markdown",
   "metadata": {},
   "source": [
    "## Taxa with 2 genes in family"
   ]
  },
  {
   "cell_type": "markdown",
   "metadata": {},
   "source": [
    "The following analysis uses the latest release. TODO: THIS IS NOT TRUE I THINK"
   ]
  },
  {
   "cell_type": "code",
   "execution_count": null,
   "metadata": {
    "ExecuteTime": {
     "end_time": "2018-08-13T18:25:13.931546Z",
     "start_time": "2018-08-13T18:25:13.685355Z"
    },
    "scrolled": true
   },
   "outputs": [],
   "source": [
    "#get families with 2 genes\n",
    "families_2_genes = fam_df[(fam_df['nb_genes']==2) & (fam_df['release']==releases[3])]['fam']\n",
    "\n",
    "#open up latest h5 file\n",
    "with tables.open_file(oma_browser_dir+\"/\"+releases[3]+\"/data/OmaServer.h5\", \"r\") as h5file:\n",
    "    #read hog level table and make df\n",
    "    hog_level_df = pd.DataFrame(h5file.root.HogLevel.read())"
   ]
  },
  {
   "cell_type": "code",
   "execution_count": null,
   "metadata": {
    "ExecuteTime": {
     "end_time": "2018-08-13T19:01:33.062855Z",
     "start_time": "2018-08-13T19:01:30.264183Z"
    }
   },
   "outputs": [],
   "source": [
    "#get rows with rootlevel taxa matching list of families w/ 2 genes\n",
    "taxa_2_genes_at_root_df = hog_level_df[hog_level_df['Fam'].isin(families_2_genes)].\\\n",
    "                                                            drop_duplicates(subset='Fam').\\\n",
    "                                                            groupby('Level').\\\n",
    "                                                            size().\\\n",
    "                                                            reset_index().\\\n",
    "                                                            sort_values(0, ascending=False)\n",
    "taxa_2_genes_at_root_df = taxa_2_genes_at_root_df.rename({0:\"nb_families\"}, axis=1)\n",
    "taxa_2_genes_at_root_df = decode_column_in_df(taxa_2_genes_at_root_df, \"Level\")"
   ]
  },
  {
   "cell_type": "code",
   "execution_count": null,
   "metadata": {
    "ExecuteTime": {
     "end_time": "2018-08-13T19:41:13.419461Z",
     "start_time": "2018-08-13T19:41:13.407786Z"
    }
   },
   "outputs": [],
   "source": [
    "#top 20 taxa with the most families consisting of 2 genes\n",
    "taxa_2_genes_at_root_df[:20]"
   ]
  },
  {
   "cell_type": "markdown",
   "metadata": {
    "collapsed": true,
    "pycharm": {
     "name": "#%% md\n"
    }
   },
   "source": [
    "\n",
    "# Compare Cross-references"
   ]
  },
  {
   "cell_type": "code",
   "execution_count": null,
   "metadata": {
    "pycharm": {
     "name": "#%%\n"
    }
   },
   "outputs": [],
   "source": [
    "tmp_dfs = []\n",
    "for session in sanity_sessions:\n",
    "    tmp_df = session.xref_df\n",
    "    tmp_df['release'] = session.release\n",
    "    tmp_dfs.append(tmp_df)\n",
    "xref_df = pd.concat(tmp_dfs, ignore_index=True)\n",
    "del tmp_dfs"
   ],
   "outputs": []
  },
  {
   "cell_type": "markdown",
   "metadata": {},
   "source": [
    "## Total number of Crossreferences in dataset"
   ]
  },
  {
   "cell_type": "code",
   "execution_count": null,
   "metadata": {
    "pycharm": {
     "name": "#%%\n"
    }
   },
   "outputs": [],
   "source": [
    "sns.barplot(data=xref_df.groupby(['release'])['Counts'].sum().reset_index(),\n",
    "            x=\"release\", y=\"Counts\", order=releases, palette=\"husl\")"
   ]
  },
  {
   "cell_type": "markdown",
   "metadata": {},
   "source": [
    "## Nr of xrefs per source"
   ]
  },
  {
   "cell_type": "markdown",
   "metadata": {},
   "source": [
    "We can distringuish between the different sources of cross-references. In general the number of cross-references should be more or less stable accross the different releases."
   ]
  },
  {
   "cell_type": "code",
   "execution_count": null,
   "metadata": {
    "pycharm": {
     "name": "#%%\n"
    }
   },
   "outputs": [],
   "source": [
    "ax = sns.barplot(data=xref_df.groupby(['release', \"Source\"])['Counts'].sum().reset_index(),\n",
    "             x=\"release\", y=\"Counts\", hue=\"Source\", palette=\"gist_earth\", order=releases)\n",
    "ax.legend(bbox_to_anchor=(1.05, 1), loc='upper left', borderaxespad=0.)"
   ]
  },
  {
   "cell_type": "markdown",
   "metadata": {},
   "source": [
    "## Nr of xrefs per genome"
   ]
  },
  {
   "cell_type": "code",
   "execution_count": null,
   "metadata": {
    "pycharm": {
     "name": "#%%\n"
    }
   },
   "outputs": [],
   "source": [
    "ax = sns.barplot(data=xref_df.groupby([\"release\", \"Species\"])[\"Counts\"].sum().reset_index(),\n",
    "                x=\"release\", y=\"Counts\", hue=\"Species\", palette=\"gist_earth\", order=releases)\n",
    "ax.legend(bbox_to_anchor=(-0.2, -0.12), ncol=7, loc='upper left', borderaxespad=0.)"
   ]
  },
  {
   "cell_type": "markdown",
   "metadata": {},
   "source": [
    "The above picture is not easy to read, but it shows the spread of crossreferences among the different species. More interpretable is the following figure. It shows the relative change in the number of crossreferences per species between the last two releases. Negative values mean that there are fewer crossreference in the newer release, positive indicate the oposite"
   ]
  },
  {
   "cell_type": "code",
   "execution_count": null,
   "metadata": {
    "pycharm": {
     "name": "#%%\n"
    }
   },
   "outputs": [],
   "source": [
    "old = sanity_sessions[-2].xref_df.groupby(['Species'])['Counts'].sum()\n",
    "new = sanity_sessions[-1].xref_df.groupby(['Species'])['Counts'].sum()\n",
    "rel_diff = ((new-old)/old).reset_index()\n",
    "rel_diff.rename(columns={'Counts':\"Rel_diff\"}, inplace=True)\n",
    "ax = sns.scatterplot(data=rel_diff, x=\"Species\", y=\"Rel_diff\")\n",
    "plt.xticks(rotation=90, fontsize=9)\n",
    "ax.set_ylabel(\"Relative difference between {} and {}\".format(releases[-2], releases[-1]));\n"
   ]
  },
  {
   "cell_type": "code",
   "execution_count": null,
   "metadata": {
    "pycharm": {
     "name": "#%%\n"
    }
   },
   "outputs": [],
   "source": [
    "sign_drop = rel_diff[rel_diff['Rel_diff'] < -0.15]\n",
    "if len(sign_drop) > 0.2 * len(rel_diff):\n",
    "    print(\"WARNING: {:.1f}% of all species have at least 15% less crossreferences!!\".format(100*len(sign_drop)/len(rel_diff)))\n",
    "print(\"In {} release, {} species have fewer crossreference than in {} release\".format(releases[-1], len(rel_diff[rel_diff['Rel_diff']<0]), releases[-2]))"
   ]
  },
  {
   "cell_type": "markdown",
   "metadata": {},
   "source": [
    "## GO annotations"
   ]
  },
  {
   "cell_type": "code",
   "execution_count": null,
   "metadata": {
    "pycharm": {
     "name": "#%%\n"
    }
   },
   "outputs": [],
   "source": [
    "go_df = pd.DataFrame([(rel.release, len(rel.h5_handle.root.Annotations.GeneOntology)) for rel in sanity_sessions],\n",
    "                     columns=[\"release\", \"Annotations\"])\n",
    "sns.barplot(data=go_df, x=\"release\", y=\"Annotations\", order=releases, palette=\"husl\")"
   ]
  },
  {
   "cell_type": "markdown",
   "metadata": {},
   "source": [
    "## EC annotations"
   ]
  },
  {
   "cell_type": "code",
   "execution_count": null,
   "metadata": {
    "pycharm": {
     "name": "#%%\n"
    }
   },
   "outputs": [],
   "source": [
    "ec_df = pd.DataFrame([(rel.release, len(rel.h5_handle.root.Annotations.EC)) for rel in sanity_sessions],\n",
    "                     columns=[\"release\", \"Annotations\"])\n",
    "sns.barplot(data=ec_df, x=\"release\", y=\"Annotations\", order=releases, palette=\"husl\")"
   ]
  },
  {
   "cell_type": "markdown",
   "metadata": {},
   "source": [
    "## Domain Annotations"
   ]
  },
  {
   "cell_type": "code",
   "execution_count": null,
   "metadata": {
    "pycharm": {
     "name": "#%%\n"
    }
   },
   "outputs": [],
   "source": [
    "dom_df = pd.DataFrame([(rel.release, len(rel.h5_handle.root.Annotations.Domains)) for rel in sanity_sessions],\n",
    "                     columns=[\"release\", \"Annotations\"])\n",
    "sns.barplot(data=dom_df, x=\"release\", y=\"Annotations\", order=releases, palette=\"husl\")"
   ]
  },
  {
   "cell_type": "code",
   "execution_count": null,
   "metadata": {},
   "outputs": [],
   "source": []
  }
 ],
 "metadata": {
  "kernelspec": {
   "display_name": "oma",
   "language": "python",
   "name": "oma"
  },
  "language_info": {
   "codemirror_mode": {
    "name": "ipython",
    "version": 3
   },
   "file_extension": ".py",
   "mimetype": "text/x-python",
   "name": "python",
   "nbconvert_exporter": "python",
   "pygments_lexer": "ipython3",
   "version": "3.8.8"
  },
  "toc": {
   "colors": {
    "hover_highlight": "#DAA520",
    "running_highlight": "#FF0000",
    "selected_highlight": "#FFD700"
   },
   "moveMenuLeft": true,
   "nav_menu": {
    "height": "512px",
    "width": "252px"
   },
   "navigate_menu": true,
   "number_sections": true,
   "sideBar": true,
   "threshold": 4,
   "toc_cell": false,
   "toc_section_display": "block",
   "toc_window_display": true
  }
 },
 "nbformat": 4,
 "nbformat_minor": 2
}
