{
 "cells": [
  {
   "cell_type": "markdown",
   "metadata": {
    "run_control": {
     "frozen": false,
     "read_only": false
    }
   },
   "source": [
    "- This notebook is to compare some summary statistics between oma releases (number and size of OMA Groups, HOGs, added or removed genomes/taxa levels, number of homoeolog pairs, etc)\n",
    "- By: Natasha Glover\n",
    "- Last updated: 13 Aug 2018\n"
   ]
  },
  {
   "cell_type": "markdown",
   "metadata": {
    "run_control": {
     "frozen": false,
     "read_only": false
    }
   },
   "source": [
    "# Setup"
   ]
  },
  {
   "cell_type": "code",
   "execution_count": 1,
   "metadata": {
    "ExecuteTime": {
     "end_time": "2018-12-20T19:01:20.630965Z",
     "start_time": "2018-12-20T19:01:18.486862Z"
    },
    "run_control": {
     "frozen": false,
     "read_only": false
    }
   },
   "outputs": [
    {
     "name": "stderr",
     "output_type": "stream",
     "text": [
      "/Users/nglover/.pyenv/versions/3.6.0/lib/python3.6/importlib/_bootstrap.py:205: RuntimeWarning: numpy.dtype size changed, may indicate binary incompatibility. Expected 96, got 88\n",
      "  return f(*args, **kwds)\n",
      "/Users/nglover/.pyenv/versions/3.6.0/lib/python3.6/importlib/_bootstrap.py:205: RuntimeWarning: numpy.dtype size changed, may indicate binary incompatibility. Expected 96, got 88\n",
      "  return f(*args, **kwds)\n"
     ]
    }
   ],
   "source": [
    "# Scientific libraries\n",
    "import numpy as np\n",
    "#from scipy import stats\n",
    "import pandas as pd\n",
    "import tables\n",
    "\n",
    "#basic python libraries\n",
    "import re\n",
    "\n",
    "# Pyoma libraries\n",
    "from pyoma.browser import sanitychecks\n",
    "\n",
    "# Graphic libraries\n",
    "import matplotlib\n",
    "import matplotlib.pyplot as plt\n",
    "import seaborn as sns"
   ]
  },
  {
   "cell_type": "markdown",
   "metadata": {
    "run_control": {
     "frozen": false,
     "read_only": false
    }
   },
   "source": [
    "## Aesthetics"
   ]
  },
  {
   "cell_type": "code",
   "execution_count": 3,
   "metadata": {
    "ExecuteTime": {
     "end_time": "2018-09-26T15:45:59.390685Z",
     "start_time": "2018-09-26T15:45:59.378670Z"
    },
    "run_control": {
     "frozen": false,
     "read_only": false
    }
   },
   "outputs": [],
   "source": [
    "# Extra options\n",
    "pd.set_option('max_colwidth',200)\n",
    "pd.options.display.max_rows = 150\n",
    "\n",
    "#style options\n",
    "%matplotlib inline\n",
    "plt.style.use('ggplot')\n",
    "\n",
    "#seaborn options\n",
    "sns.set(rc={'axes.facecolor':'white', 'figure.facecolor':'white'}, font_scale=1.5)\n",
    "sns.set_style('whitegrid')\n",
    "palette=\"husl\""
   ]
  },
  {
   "cell_type": "markdown",
   "metadata": {
    "run_control": {
     "frozen": false,
     "read_only": false
    }
   },
   "source": [
    "## Mounting the oma browser directory"
   ]
  },
  {
   "cell_type": "markdown",
   "metadata": {
    "run_control": {
     "frozen": false,
     "read_only": false
    }
   },
   "source": [
    "To compare oma browser releases, I use the hdf5 file from each. However, since they are so big (~50 Gb each), I mount the directory on vital-it where they are contained. This is done with sshfs and needs to be mounted before the following analyses. The following command is done from command line:\n",
    "- sshfs nglover@prd.vital-it.ch:/scratch/ul/projects/cdessimo/oma-browser ~/oma_mount"
   ]
  },
  {
   "cell_type": "markdown",
   "metadata": {
    "run_control": {
     "frozen": false,
     "read_only": false
    }
   },
   "source": [
    "## Parameters"
   ]
  },
  {
   "cell_type": "markdown",
   "metadata": {
    "run_control": {
     "frozen": false,
     "read_only": false
    }
   },
   "source": [
    "TODO: Make it so that it just detects all the databases automatically and then we can run the notebook automatically after each release."
   ]
  },
  {
   "cell_type": "code",
   "execution_count": 3,
   "metadata": {
    "ExecuteTime": {
     "end_time": "2018-08-13T09:43:44.205365Z",
     "start_time": "2018-08-13T09:43:44.199355Z"
    },
    "run_control": {
     "frozen": false,
     "read_only": false
    }
   },
   "outputs": [],
   "source": [
    "#directory containing the different oma browser releases\n",
    "oma_browser_dir = \"/Users/nglover/oma_mount/\"\n",
    "\n",
    "#list of 4 releases (strings) to be compared (only exactly 4 for now)\n",
    "#note they will be plotted and presented in the order specified in list\n",
    "releases = [\"All.May2016\", \"All.Mar2017\", \"All.Dec2017\", \"All.Jun2018\"]"
   ]
  },
  {
   "cell_type": "markdown",
   "metadata": {
    "run_control": {
     "frozen": false,
     "read_only": false
    }
   },
   "source": [
    "# Running the sanity checks"
   ]
  },
  {
   "cell_type": "markdown",
   "metadata": {
    "run_control": {
     "frozen": false,
     "read_only": false
    }
   },
   "source": [
    "The following code does all the heavy lifting and uses the sanitychecks2 library from pyoma. Since this involves making many computations, especially from the Entries table in each database, this could take a while to run (~40 minutes)."
   ]
  },
  {
   "cell_type": "code",
   "execution_count": 4,
   "metadata": {
    "ExecuteTime": {
     "end_time": "2018-08-13T10:19:57.063213Z",
     "start_time": "2018-08-13T09:43:47.988823Z"
    },
    "run_control": {
     "frozen": true,
     "read_only": true
    }
   },
   "outputs": [
    {
     "name": "stderr",
     "output_type": "stream",
     "text": [
      "/usr/local/Cellar/python3/3.6.4_2/Frameworks/Python.framework/Versions/3.6/lib/python3.6/site-packages/tables/leaf.py:396: PerformanceWarning: The Leaf ``/Protein/_i_Entries/OmaHOG/sorted`` is exceeding the maximum recommended rowsize (104857600 bytes);\n",
      "be ready to see PyTables asking for *lots* of memory and possibly slow\n",
      "I/O.  You may want to reduce the rowsize by trimming the value of\n",
      "dimensions that are orthogonal (and preferably close) to the *main*\n",
      "dimension of this leave.  Alternatively, in case you have specified a\n",
      "very small/large chunksize, you may want to increase/decrease it.\n",
      "  PerformanceWarning)\n",
      "/usr/local/Cellar/python3/3.6.4_2/Frameworks/Python.framework/Versions/3.6/lib/python3.6/site-packages/tables/leaf.py:396: PerformanceWarning: The Leaf ``/_i_HogLevel/ID/sorted`` is exceeding the maximum recommended rowsize (104857600 bytes);\n",
      "be ready to see PyTables asking for *lots* of memory and possibly slow\n",
      "I/O.  You may want to reduce the rowsize by trimming the value of\n",
      "dimensions that are orthogonal (and preferably close) to the *main*\n",
      "dimension of this leave.  Alternatively, in case you have specified a\n",
      "very small/large chunksize, you may want to increase/decrease it.\n",
      "  PerformanceWarning)\n"
     ]
    },
    {
     "name": "stdout",
     "output_type": "stream",
     "text": [
      "All.May2016 done\n",
      "All.Mar2017 done\n"
     ]
    },
    {
     "name": "stderr",
     "output_type": "stream",
     "text": [
      "/usr/local/Cellar/python3/3.6.4_2/Frameworks/Python.framework/Versions/3.6/lib/python3.6/site-packages/tables/leaf.py:396: PerformanceWarning: The Leaf ``/_i_HogLevel/Level/sorted`` is exceeding the maximum recommended rowsize (104857600 bytes);\n",
      "be ready to see PyTables asking for *lots* of memory and possibly slow\n",
      "I/O.  You may want to reduce the rowsize by trimming the value of\n",
      "dimensions that are orthogonal (and preferably close) to the *main*\n",
      "dimension of this leave.  Alternatively, in case you have specified a\n",
      "very small/large chunksize, you may want to increase/decrease it.\n",
      "  PerformanceWarning)\n"
     ]
    },
    {
     "name": "stdout",
     "output_type": "stream",
     "text": [
      "All.Dec2017 done\n",
      "All.Jun2018 done\n"
     ]
    }
   ],
   "source": [
    "import importlib\n",
    "importlib.reload(sanitychecks2)\n",
    "\n",
    "#list of sanity (release) objects, each one corresponding to a different release\n",
    "sanity_sessions = []\n",
    "\n",
    "for release in releases:\n",
    "    release_obj = sanitychecks2.SanitySession(oma_browser_dir, release)\n",
    "    sanity_sessions.append(release_obj)"
   ]
  },
  {
   "cell_type": "markdown",
   "metadata": {
    "run_control": {
     "frozen": false,
     "read_only": false
    }
   },
   "source": [
    "# Functions"
   ]
  },
  {
   "cell_type": "code",
   "execution_count": null,
   "metadata": {
    "run_control": {
     "frozen": false,
     "read_only": false
    }
   },
   "outputs": [],
   "source": [
    "#TODO add these functions to the sanity checks module"
   ]
  },
  {
   "cell_type": "code",
   "execution_count": 216,
   "metadata": {
    "ExecuteTime": {
     "end_time": "2018-08-13T16:35:02.316857Z",
     "start_time": "2018-08-13T16:35:01.446425Z"
    },
    "run_control": {
     "frozen": false,
     "read_only": false
    }
   },
   "outputs": [],
   "source": [
    "def _return_group_object(release_obj, group):\n",
    "    if group == \"hog\":\n",
    "        group_obj = release_obj.all_hogs\n",
    "    if group == \"omagroup\":\n",
    "        group_obj = release_obj.omagroups\n",
    "    return group_obj\n",
    "\n",
    "def count_nb_groups(release_obj, group):\n",
    "    df = pd.DataFrame.from_dict(_return_group_object(release_obj, group), orient='index')\n",
    "    df['release'] = release_obj.release    \n",
    "    return df.groupby('release').size().item()\n",
    "\n",
    "def get_nb_genes_per_group_df(release_obj, group):\n",
    "    df = pd.DataFrame.from_dict(_return_group_object(release_obj, group), orient='index')\n",
    "    df['release'] = release_obj.release\n",
    "    df.reset_index(inplace=True) \n",
    "    df.rename({0:\"nb_genes\", \"index\":group}, inplace=True, axis=1)    \n",
    "    return df\n",
    "\n",
    "def sort_df_by_release(df):\n",
    "    df.release = df.release.astype(\"category\")\n",
    "    df.release.cat.set_categories(releases, inplace=True)\n",
    "    df = df.sort_values(\"release\")\n",
    "    return df\n",
    "\n",
    "def make_countplot_by_release(df, releases, title=\"Don't forget a title\"):\n",
    "    fig, ax = plt.subplots(nrows=1, ncols=1, figsize=(6,4))\n",
    "    ax = sns.countplot(x=\"release\", data=df, order=releases, palette=\"husl\")\n",
    "    ax.set_title(title)\n",
    "    return ax\n",
    "\n",
    "def get_differences_in_genomes_or_taxa(df, old_release, new_release, genomes_or_taxa):\n",
    "    '''old_release and new_release should be sanity session objects'''\n",
    "    \n",
    "    if genomes_or_taxa == \"genomes\":\n",
    "        added = list(set(new_release.species) - set(old_release.species))\n",
    "        removed = list(set(old_release.species) - set(new_release.species))\n",
    "        \n",
    "    if genomes_or_taxa == \"taxa\":\n",
    "        added = list(set(new_release.all_hog_lvls) - set(old_release.all_hog_lvls))\n",
    "        removed = list(set(old_release.all_hog_lvls) - set(new_release.all_hog_lvls))\n",
    "        added = [x.decode(\"utf-8\") for x in added]\n",
    "        removed = [x.decode(\"utf-8\") for x in removed]\n",
    "    res = {'added':added, 'removed': removed}\n",
    "    return res\n",
    "\n",
    "def decode_column_in_df(df, column_to_decode):\n",
    "    df[column_to_decode] = df.apply(lambda x: x[column_to_decode].decode(\"utf-8\"), axis=1)\n",
    "    return df\n",
    "\n",
    "def make_boxplot_by_release(df, releases, column_to_plot, title=\"Don't forget a title\"):\n",
    "    fig, ax = plt.subplots(nrows=1, ncols=2, figsize=(14,4))\n",
    "    sns.boxplot(x=\"release\", y=column_to_plot, data=df, ax=ax[0], palette=palette, order=releases)\n",
    "    ax[0].set_title(\"Outliers shown\")\n",
    "    sns.boxplot(x=\"release\", y=column_to_plot, data=df, ax=ax[1], showfliers=False, palette=palette, order=releases)\n",
    "    ax[1].set_title(\"No outliers shown\")\n",
    "    plt.suptitle(title)\n",
    "    plt.subplots_adjust(top=0.75)\n",
    "    plt.show()\n",
    "    \n",
    "def get_prop_with_n_genes(df, releases, nb_genes=2):\n",
    "    '''get number of groups per release\n",
    "    param releases is the list of string releases'''\n",
    "    df1 = df.groupby('release').size().reset_index()\n",
    "    df1.rename({0:'total_nb_groups'}, axis=1, inplace=True)\n",
    "\n",
    "    #get groups with n genes\n",
    "    df2 = df[df['nb_genes']==nb_genes].groupby('release').size().reset_index()\n",
    "    df2.rename({0:'nb_groups_with_'+str(nb_genes)+'_genes'}, axis=1, inplace=True)\n",
    "    \n",
    "    #get proportion\n",
    "    df3 = pd.merge(left=df1, right=df2, how=\"left\", on=\"release\")\n",
    "    df3['prop_groups_'+str(nb_genes)+'_genes'] = df3['nb_groups_with_'+str(nb_genes)+'_genes']/ df3['total_nb_groups']\n",
    "    df3.set_index(\"release\", inplace=True)\n",
    "    df3 = df3.reindex(releases)\n",
    "    df3.reset_index(level=0, inplace=True)\n",
    "    return df3\n",
    "\n",
    "def get_total_nb_groups(df):\n",
    "    df = df.groupby('release').size().reset_index()\n",
    "    df.rename({0:\"nb_genomes\"}, axis=1, inplace=True)\n",
    "    df = sort_df_by_release(df) \n",
    "    return df\n",
    "\n",
    "def get_summary_stats(df, column_to_summarize):\n",
    "    df= df[['release',column_to_summarize]].groupby('release').describe().reset_index()\n",
    "    df.columns = df.columns.droplevel()\n",
    "    df = df.rename({'':'release'}, axis=1)\n",
    "    df = sort_df_by_release(df)\n",
    "    return df\n",
    "\n",
    "def plot_proportions_of_groups_with_n_genes(low_genes_df, list_of_columns_to_plot,\\\n",
    "                                            title=\"Don't forget a title\", rename_cols=False):\n",
    "    \n",
    "    if rename_cols==True:\n",
    "        low_genes_df = rename_proportion_columns(low_genes_df)\n",
    "        list_of_columns_to_plot = rename_proportion_columns(low_genes_df).columns[1:5]\n",
    "        \n",
    "    \n",
    "    #melt dataframe\n",
    "    melted_low_genes_df = pd.melt(low_genes_df, id_vars=['release'], \\\n",
    "                                  value_vars=list_of_columns_to_plot)\n",
    "    melted_low_genes_df.rename({\"variable\": \"nb genes in group\", \"value\": \"proportion of groups\"}, \\\n",
    "                               axis=1, inplace=True)\n",
    "    \n",
    "    #make plot\n",
    "    fig, ax= plt.subplots(figsize=(8,10))\n",
    "    sns.pointplot(x=\"release\", y=\"proportion of groups\", hue=\"nb genes in group\", data=melted_low_genes_df, \\\n",
    "                 palette=palette)\n",
    "    #plt.legend(loc=\"upper right\")\n",
    "    plt.ylim(0,.7)\n",
    "    plt.title(title)\n",
    "    plt.show()\n",
    "\n",
    "def get_low_genes_df(df, releases, list_of_gene_numbers=[2,3,4,5]):\n",
    "    '''makes a dataframe with proportion of genes with n number for each release.'''\n",
    "    low_genes_df = pd.DataFrame.from_items([('release', releases)])\n",
    "\n",
    "    for i in range(list_of_gene_numbers[0],list_of_gene_numbers[-1]+1):\n",
    "        tmp_df = pd.DataFrame(get_prop_with_n_genes(df, releases, i))\n",
    "        low_genes_df = pd.merge(left=low_genes_df, right=tmp_df[['release',tmp_df.columns[-1]]],\\\n",
    "                                how=\"left\", on=\"release\")\n",
    "\n",
    "    low_genes_df['total_nb_groups'] = get_prop_with_n_genes(df, releases, 2)['total_nb_groups']\n",
    "    return low_genes_df\n",
    "\n",
    "def rename_proportion_columns(df):\n",
    "    columns = df.columns\n",
    "    new_columns = {}\n",
    "    for column in columns:\n",
    "        if \"prop_groups\" in column:\n",
    "            matchObj = re.match(r'prop_groups_(.*)_genes', column)\n",
    "            try:\n",
    "                new_column = matchObj.group(1)\n",
    "                new_columns[column] = new_column\n",
    "            except:\n",
    "                print(\"no match\")\n",
    "    \n",
    "    df = df.rename(new_columns, axis=1)\n",
    "    return df\n"
   ]
  },
  {
   "cell_type": "markdown",
   "metadata": {
    "heading_collapsed": true,
    "run_control": {
     "frozen": false,
     "read_only": false
    }
   },
   "source": [
    "# Compare Genomes"
   ]
  },
  {
   "cell_type": "code",
   "execution_count": 6,
   "metadata": {
    "ExecuteTime": {
     "end_time": "2018-08-13T11:06:10.225592Z",
     "start_time": "2018-08-13T11:06:10.124363Z"
    },
    "hidden": true,
    "run_control": {
     "frozen": false,
     "read_only": false
    }
   },
   "outputs": [],
   "source": [
    "#get genome dataframe\n",
    "genome_df = pd.DataFrame()\n",
    "for release in sanity_sessions:\n",
    "    tmp_df = pd.DataFrame.from_items([('genomes', release.species)])\n",
    "    tmp_df['release'] = release.release\n",
    "    genome_df = genome_df.append(tmp_df)"
   ]
  },
  {
   "cell_type": "markdown",
   "metadata": {
    "hidden": true,
    "run_control": {
     "frozen": false,
     "read_only": false
    }
   },
   "source": [
    "## Nb of genomes"
   ]
  },
  {
   "cell_type": "code",
   "execution_count": 7,
   "metadata": {
    "ExecuteTime": {
     "end_time": "2018-08-13T11:06:18.600502Z",
     "start_time": "2018-08-13T11:06:18.463260Z"
    },
    "hidden": true,
    "run_control": {
     "frozen": false,
     "read_only": false
    }
   },
   "outputs": [
    {
     "data": {
      "text/html": [
       "<div>\n",
       "<style scoped>\n",
       "    .dataframe tbody tr th:only-of-type {\n",
       "        vertical-align: middle;\n",
       "    }\n",
       "\n",
       "    .dataframe tbody tr th {\n",
       "        vertical-align: top;\n",
       "    }\n",
       "\n",
       "    .dataframe thead th {\n",
       "        text-align: right;\n",
       "    }\n",
       "</style>\n",
       "<table border=\"1\" class=\"dataframe\">\n",
       "  <thead>\n",
       "    <tr style=\"text-align: right;\">\n",
       "      <th></th>\n",
       "      <th>release</th>\n",
       "      <th>nb_genomes</th>\n",
       "    </tr>\n",
       "  </thead>\n",
       "  <tbody>\n",
       "    <tr>\n",
       "      <th>3</th>\n",
       "      <td>All.May2016</td>\n",
       "      <td>2024</td>\n",
       "    </tr>\n",
       "    <tr>\n",
       "      <th>2</th>\n",
       "      <td>All.Mar2017</td>\n",
       "      <td>2085</td>\n",
       "    </tr>\n",
       "    <tr>\n",
       "      <th>0</th>\n",
       "      <td>All.Dec2017</td>\n",
       "      <td>2103</td>\n",
       "    </tr>\n",
       "    <tr>\n",
       "      <th>1</th>\n",
       "      <td>All.Jun2018</td>\n",
       "      <td>2167</td>\n",
       "    </tr>\n",
       "  </tbody>\n",
       "</table>\n",
       "</div>"
      ],
      "text/plain": [
       "       release  nb_genomes\n",
       "3  All.May2016        2024\n",
       "2  All.Mar2017        2085\n",
       "0  All.Dec2017        2103\n",
       "1  All.Jun2018        2167"
      ]
     },
     "execution_count": 7,
     "metadata": {},
     "output_type": "execute_result"
    }
   ],
   "source": [
    "get_total_nb_groups(genome_df)"
   ]
  },
  {
   "cell_type": "code",
   "execution_count": 57,
   "metadata": {
    "ExecuteTime": {
     "end_time": "2018-08-13T13:38:32.895747Z",
     "start_time": "2018-08-13T13:38:32.572564Z"
    },
    "hidden": true,
    "run_control": {
     "frozen": false,
     "read_only": false
    }
   },
   "outputs": [
    {
     "data": {
      "text/plain": [
       "<matplotlib.axes._subplots.AxesSubplot at 0x2c3afdcc0>"
      ]
     },
     "execution_count": 57,
     "metadata": {},
     "output_type": "execute_result"
    },
    {
     "data": {
      "image/png": "[encoded data removed]",
      "text/plain": [
       "<matplotlib.figure.Figure at 0x2c68d74e0>"
      ]
     },
     "metadata": {},
     "output_type": "display_data"
    }
   ],
   "source": [
    "make_countplot_by_release(genome_df, releases, \"Number of Genomes\")"
   ]
  },
  {
   "cell_type": "markdown",
   "metadata": {
    "ExecuteTime": {
     "end_time": "2018-08-11T19:31:14.295640Z",
     "start_time": "2018-08-11T19:31:14.276998Z"
    },
    "hidden": true,
    "run_control": {
     "frozen": false,
     "read_only": false
    }
   },
   "source": [
    "## Genomes added"
   ]
  },
  {
   "cell_type": "code",
   "execution_count": 13,
   "metadata": {
    "ExecuteTime": {
     "end_time": "2018-08-13T11:09:46.940507Z",
     "start_time": "2018-08-13T11:09:46.684463Z"
    },
    "hidden": true,
    "run_control": {
     "frozen": false,
     "read_only": false
    },
    "scrolled": true
   },
   "outputs": [
    {
     "data": {
      "text/html": [
       "<div>\n",
       "<style scoped>\n",
       "    .dataframe tbody tr th:only-of-type {\n",
       "        vertical-align: middle;\n",
       "    }\n",
       "\n",
       "    .dataframe tbody tr th {\n",
       "        vertical-align: top;\n",
       "    }\n",
       "\n",
       "    .dataframe thead th {\n",
       "        text-align: right;\n",
       "    }\n",
       "</style>\n",
       "<table border=\"1\" class=\"dataframe\">\n",
       "  <thead>\n",
       "    <tr style=\"text-align: right;\">\n",
       "      <th></th>\n",
       "      <th>NCBITaxonId</th>\n",
       "      <th>UniProtSpeciesCode</th>\n",
       "      <th>TotEntries</th>\n",
       "      <th>TotAA</th>\n",
       "      <th>EntryOff</th>\n",
       "      <th>SciName</th>\n",
       "      <th>CommonName</th>\n",
       "      <th>SynName</th>\n",
       "      <th>Release</th>\n",
       "      <th>Url</th>\n",
       "      <th>Source</th>\n",
       "      <th>Date</th>\n",
       "      <th>IsPolyploid</th>\n",
       "    </tr>\n",
       "  </thead>\n",
       "  <tbody>\n",
       "    <tr>\n",
       "      <th>7</th>\n",
       "      <td>490899</td>\n",
       "      <td>DESA1</td>\n",
       "      <td>1470</td>\n",
       "      <td>400448</td>\n",
       "      <td>11580</td>\n",
       "      <td>b'Desulfurococcus amylolyticus (strain DSM 18924 / JCM 16383 / VKM B-2413 / 1221n)'</td>\n",
       "      <td>b''</td>\n",
       "      <td>b''</td>\n",
       "      <td>b'16-JUN-2009 (Rel. 107, Last updated, Version 3)'</td>\n",
       "      <td>b'http://www.expasy.org/sprot/hamap/DESA1.html'</td>\n",
       "      <td>b'ftp://ftp.ebi.ac.uk/pub/databases/genome_reviews/dat/cellular/CP001140_GR.dat.gz'</td>\n",
       "      <td>1245621600</td>\n",
       "      <td>False</td>\n",
       "    </tr>\n",
       "    <tr>\n",
       "      <th>110</th>\n",
       "      <td>990316</td>\n",
       "      <td>METSG</td>\n",
       "      <td>2782</td>\n",
       "      <td>819844</td>\n",
       "      <td>261938</td>\n",
       "      <td>b'Methanothrix soehngenii (strain ATCC 5969 / DSM 3671 / JCM 10134 / NBRC 103675 / OCM 69 / GP-6)'</td>\n",
       "      <td>b''</td>\n",
       "      <td>b''</td>\n",
       "      <td>b'14-JUL-2011 (Rel. 109, Last updated, Version 3)'</td>\n",
       "      <td>b'http://www.expasy.org/sprot/hamap/METSG.html'</td>\n",
       "      <td>b'http://www.ebi.ac.uk/cgi-bin/dbfetch?db=embl&amp;id=CP002565'</td>\n",
       "      <td>1345413600</td>\n",
       "      <td>False</td>\n",
       "    </tr>\n",
       "    <tr>\n",
       "      <th>145</th>\n",
       "      <td>1579370</td>\n",
       "      <td>ARCG5</td>\n",
       "      <td>1339</td>\n",
       "      <td>374442</td>\n",
       "      <td>336028</td>\n",
       "      <td>b'Archaeon GW2011_AR10'</td>\n",
       "      <td>b''</td>\n",
       "      <td>b''</td>\n",
       "      <td>b'ENA; GCA_000830275.1'</td>\n",
       "      <td>b'http://www.ebi.ac.uk/ena/data/view/GCA_000830275.1'</td>\n",
       "      <td>b'http://www.ebi.ac.uk/ena/data/view/GCA_000830275.1'</td>\n",
       "      <td>1522188000</td>\n",
       "      <td>False</td>\n",
       "    </tr>\n",
       "    <tr>\n",
       "      <th>146</th>\n",
       "      <td>1579373</td>\n",
       "      <td>ARCG3</td>\n",
       "      <td>1308</td>\n",
       "      <td>357400</td>\n",
       "      <td>337367</td>\n",
       "      <td>b'Archaeon GW2011_AR15'</td>\n",
       "      <td>b''</td>\n",
       "      <td>b''</td>\n",
       "      <td>b'ENA; GCA_000830295.1'</td>\n",
       "      <td>b'http://www.ebi.ac.uk/ena/data/view/GCA_000830295.1'</td>\n",
       "      <td>b'http://www.ebi.ac.uk/ena/data/view/GCA_000830295.1'</td>\n",
       "      <td>1522188000</td>\n",
       "      <td>False</td>\n",
       "    </tr>\n",
       "    <tr>\n",
       "      <th>147</th>\n",
       "      <td>1579378</td>\n",
       "      <td>ARCG6</td>\n",
       "      <td>1010</td>\n",
       "      <td>255387</td>\n",
       "      <td>338675</td>\n",
       "      <td>b'Archaeon GW2011_AR20'</td>\n",
       "      <td>b''</td>\n",
       "      <td>b''</td>\n",
       "      <td>b'ENA; GCA_000830315.1'</td>\n",
       "      <td>b'http://www.ebi.ac.uk/ena/data/view/GCA_000830315.1'</td>\n",
       "      <td>b'http://www.ebi.ac.uk/ena/data/view/GCA_000830315.1'</td>\n",
       "      <td>1522188000</td>\n",
       "      <td>False</td>\n",
       "    </tr>\n",
       "    <tr>\n",
       "      <th>148</th>\n",
       "      <td>1579367</td>\n",
       "      <td>ARCGX</td>\n",
       "      <td>1028</td>\n",
       "      <td>256220</td>\n",
       "      <td>339685</td>\n",
       "      <td>b'Archaeon GW2011_AR5'</td>\n",
       "      <td>b''</td>\n",
       "      <td>b''</td>\n",
       "      <td>b'ENA; GCA_000806115.1'</td>\n",
       "      <td>b'http://www.ebi.ac.uk/ena/data/view/GCA_000806115.1'</td>\n",
       "      <td>b'http://www.ebi.ac.uk/ena/data/view/GCA_000806115.1'</td>\n",
       "      <td>1522188000</td>\n",
       "      <td>False</td>\n",
       "    </tr>\n",
       "    <tr>\n",
       "      <th>253</th>\n",
       "      <td>685727</td>\n",
       "      <td>RHOH1</td>\n",
       "      <td>4598</td>\n",
       "      <td>1540306</td>\n",
       "      <td>679298</td>\n",
       "      <td>b'Rhodococcus hoagii (strain 103S)'</td>\n",
       "      <td>b''</td>\n",
       "      <td>b''</td>\n",
       "      <td>b'08-MAR-2011 (Rel. 129, Last updated, Version 1)'</td>\n",
       "      <td>b'http://www.expasy.org/sprot/hamap/RHOH1.html'</td>\n",
       "      <td>b'ftp://ftp.ebi.ac.uk/pub/databases/genome_reviews/dat/cellular/FN563149_GR.dat.gz'</td>\n",
       "      <td>1302472800</td>\n",
       "      <td>False</td>\n",
       "    </tr>\n",
       "    <tr>\n",
       "      <th>269</th>\n",
       "      <td>1703</td>\n",
       "      <td>BRELN</td>\n",
       "      <td>3434</td>\n",
       "      <td>1150451</td>\n",
       "      <td>768064</td>\n",
       "      <td>b'Brevibacterium linens'</td>\n",
       "      <td>b''</td>\n",
       "      <td>b''</td>\n",
       "      <td>b'Ensembl Bacteria 38; Brevibacterium_linens_AE038-8_v1.0'</td>\n",
       "      <td>b'http://bacteria.ensembl.org/Brevibacterium_linens'</td>\n",
       "      <td>b'ftp://ftp.ensemblgenomes.org/pub/bacteria/release-38/embl/brevibacterium_linens'</td>\n",
       "      <td>1518735600</td>\n",
       "      <td>False</td>\n",
       "    </tr>\n",
       "    <tr>\n",
       "      <th>290</th>\n",
       "      <td>743718</td>\n",
       "      <td>ISOV2</td>\n",
       "      <td>2881</td>\n",
       "      <td>987996</td>\n",
       "      <td>835350</td>\n",
       "      <td>b'Isoptericola variabilis (strain 225)'</td>\n",
       "      <td>b''</td>\n",
       "      <td>b''</td>\n",
       "      <td>b'Ensembl Bacteria 37; ASM21510v1'</td>\n",
       "      <td>b'http://bacteria.ensembl.org/Isoptericola_variabilis_225'</td>\n",
       "      <td>b'ftp://ftp.ensemblgenomes.org/pub/bacteria/release-37/embl/isoptericola_variabilis_225'</td>\n",
       "      <td>1510095600</td>\n",
       "      <td>False</td>\n",
       "    </tr>\n",
       "    <tr>\n",
       "      <th>306</th>\n",
       "      <td>267747</td>\n",
       "      <td>CUTAK</td>\n",
       "      <td>2294</td>\n",
       "      <td>760875</td>\n",
       "      <td>911171</td>\n",
       "      <td>b'Cutibacterium acnes (strain DSM 16379 / KPA171202)'</td>\n",
       "      <td>b''</td>\n",
       "      <td>b''</td>\n",
       "      <td>b'02-MAR-2010 (Rel. 118, Last updated, Version 101)'</td>\n",
       "      <td>b'http://www.expasy.org/sprot/hamap/CUTAK.html'</td>\n",
       "      <td>b'ftp://ftp.ebi.ac.uk/pub/databases/genome_reviews/dat/cellular/AE017283_GR.dat.gz'</td>\n",
       "      <td>1269212400</td>\n",
       "      <td>False</td>\n",
       "    </tr>\n",
       "    <tr>\n",
       "      <th>504</th>\n",
       "      <td>1173020</td>\n",
       "      <td>CHAP6</td>\n",
       "      <td>5945</td>\n",
       "      <td>1793467</td>\n",
       "      <td>1597309</td>\n",
       "      <td>b'Chamaesiphon minutus (strain ATCC 27169 / PCC 6605)'</td>\n",
       "      <td>b''</td>\n",
       "      <td>b''</td>\n",
       "      <td>b'Ensembl Bacteria 37; ASM31714v1'</td>\n",
       "      <td>b'http://bacteria.ensembl.org/Chamaesiphon_minutus_PCC_6605'</td>\n",
       "      <td>b'ftp://ftp.ensemblgenomes.org/pub/bacteria/release-37/embl/chamaesiphon_minutus_pcc_6605'</td>\n",
       "      <td>1509318000</td>\n",
       "      <td>False</td>\n",
       "    </tr>\n",
       "    <tr>\n",
       "      <th>656</th>\n",
       "      <td>1284</td>\n",
       "      <td>STAHY</td>\n",
       "      <td>2278</td>\n",
       "      <td>700810</td>\n",
       "      <td>2116460</td>\n",
       "      <td>b'Staphylococcus hyicus'</td>\n",
       "      <td>b''</td>\n",
       "      <td>b''</td>\n",
       "      <td>b'Ensembl Bacteria 38; ASM81608v1'</td>\n",
       "      <td>b'http://bacteria.ensembl.org/Staphylococcus_hyicus'</td>\n",
       "      <td>b'ftp://ftp.ensemblgenomes.org/pub/bacteria/release-38/embl/staphylococcus_hyicus'</td>\n",
       "      <td>1518735600</td>\n",
       "      <td>False</td>\n",
       "    </tr>\n",
       "    <tr>\n",
       "      <th>716</th>\n",
       "      <td>1629</td>\n",
       "      <td>WEIVI</td>\n",
       "      <td>1462</td>\n",
       "      <td>449040</td>\n",
       "      <td>2245826</td>\n",
       "      <td>b'Weissella viridescens'</td>\n",
       "      <td>b''</td>\n",
       "      <td>b'Lactobacillus viridescens'</td>\n",
       "      <td>b'Ensembl Bacteria 38; ASM143735v1'</td>\n",
       "      <td>b'http://bacteria.ensembl.org/Weissella_viridescens'</td>\n",
       "      <td>b'ftp://ftp.ensemblgenomes.org/pub/bacteria/release-38/embl/weissella_viridescens'</td>\n",
       "      <td>1518735600</td>\n",
       "      <td>False</td>\n",
       "    </tr>\n",
       "    <tr>\n",
       "      <th>911</th>\n",
       "      <td>42253</td>\n",
       "      <td>NITMO</td>\n",
       "      <td>4790</td>\n",
       "      <td>1393197</td>\n",
       "      <td>2756427</td>\n",
       "      <td>b'Nitrospira moscoviensis'</td>\n",
       "      <td>b''</td>\n",
       "      <td>b''</td>\n",
       "      <td>b'Ensembl Bacteria 37; ASM127377v1'</td>\n",
       "      <td>b'http://bacteria.ensembl.org/Nitrospira_moscoviensis'</td>\n",
       "      <td>b'ftp://ftp.ensemblgenomes.org/pub/bacteria/release-37/embl/nitrospira_moscoviensis'</td>\n",
       "      <td>1510182000</td>\n",
       "      <td>False</td>\n",
       "    </tr>\n",
       "    <tr>\n",
       "      <th>927</th>\n",
       "      <td>190650</td>\n",
       "      <td>CAUVC</td>\n",
       "      <td>3714</td>\n",
       "      <td>1204535</td>\n",
       "      <td>2823756</td>\n",
       "      <td>b'Caulobacter vibrioides (strain ATCC 19089 / CB15)'</td>\n",
       "      <td>b''</td>\n",
       "      <td>b''</td>\n",
       "      <td>b'01-SEP-2009 (Rel. 110, Last updated, Version 111)'</td>\n",
       "      <td>b'http://www.expasy.org/sprot/hamap/CAUVC.html'</td>\n",
       "      <td>b'ftp://ftp.ebi.ac.uk/pub/databases/genome_reviews/dat/cellular/AE005673_GR.dat.gz'</td>\n",
       "      <td>1253138400</td>\n",
       "      <td>False</td>\n",
       "    </tr>\n",
       "    <tr>\n",
       "      <th>928</th>\n",
       "      <td>565050</td>\n",
       "      <td>CAUVN</td>\n",
       "      <td>3852</td>\n",
       "      <td>1223896</td>\n",
       "      <td>2827470</td>\n",
       "      <td>b'Caulobacter vibrioides (strain NA1000 / CB15N)'</td>\n",
       "      <td>b''</td>\n",
       "      <td>b''</td>\n",
       "      <td>b'13-OCT-2009 (Rel. 112, Last updated, Version 7)'</td>\n",
       "      <td>b'http://www.expasy.org/sprot/hamap/CAUVN.html'</td>\n",
       "      <td>b'ftp://ftp.ebi.ac.uk/pub/databases/genome_reviews/dat/cellular/CP001340_GR.dat.gz'</td>\n",
       "      <td>1257116400</td>\n",
       "      <td>False</td>\n",
       "    </tr>\n",
       "    <tr>\n",
       "      <th>969</th>\n",
       "      <td>1079</td>\n",
       "      <td>BLAVI</td>\n",
       "      <td>3260</td>\n",
       "      <td>1044728</td>\n",
       "      <td>2972924</td>\n",
       "      <td>b'Blastochloris viridis'</td>\n",
       "      <td>b''</td>\n",
       "      <td>b'Rhodopseudomonas viridis'</td>\n",
       "      <td>b'Ensembl Bacteria 38; Blastochloris_viridis_genome'</td>\n",
       "      <td>b'http://bacteria.ensembl.org/Blastochloris_viridis_(GCA_001459775)'</td>\n",
       "      <td>b'ftp://ftp.ensemblgenomes.org/pub/bacteria/release-38/embl/blastochloris_viridis_(gca_001459775)'</td>\n",
       "      <td>1518735600</td>\n",
       "      <td>False</td>\n",
       "    </tr>\n",
       "    <tr>\n",
       "      <th>1016</th>\n",
       "      <td>314256</td>\n",
       "      <td>OCEGH</td>\n",
       "      <td>3792</td>\n",
       "      <td>1231503</td>\n",
       "      <td>3212596</td>\n",
       "      <td>b'Oceanicola granulosus (strain ATCC BAA-861 / DSM 15982 / KCTC 12143 / HTCC2516)'</td>\n",
       "      <td>b''</td>\n",
       "      <td>b''</td>\n",
       "      <td>b'Ensembl Bacteria 38; ASM15330v1'</td>\n",
       "      <td>b'http://bacteria.ensembl.org/Oceanicola_granulosus_HTCC2516'</td>\n",
       "      <td>b'ftp://ftp.ensemblgenomes.org/pub/bacteria/release-38/embl/oceanicola_granulosus_htcc2516'</td>\n",
       "      <td>1520118000</td>\n",
       "      <td>False</td>\n",
       "    </tr>\n",
       "    <tr>\n",
       "      <th>1052</th>\n",
       "      <td>955</td>\n",
       "      <td>WOLPI</td>\n",
       "      <td>851</td>\n",
       "      <td>259823</td>\n",
       "      <td>3325705</td>\n",
       "      <td>b'Wolbachia pipientis'</td>\n",
       "      <td>b''</td>\n",
       "      <td>b''</td>\n",
       "      <td>b'Ensembl Bacteria 38; ASM175266v1'</td>\n",
       "      <td>b'http://bacteria.ensembl.org/Wolbachia_pipientis'</td>\n",
       "      <td>b'ftp://ftp.ensemblgenomes.org/pub/bacteria/release-38/embl/wolbachia_pipientis'</td>\n",
       "      <td>1518735600</td>\n",
       "      <td>False</td>\n",
       "    </tr>\n",
       "    <tr>\n",
       "      <th>1244</th>\n",
       "      <td>638300</td>\n",
       "      <td>CARH6</td>\n",
       "      <td>2581</td>\n",
       "      <td>770766</td>\n",
       "      <td>4042348</td>\n",
       "      <td>b'Cardiobacterium hominis (strain ATCC 15826 / DSM 8339 / NCTC 10426 / 6573)'</td>\n",
       "      <td>b''</td>\n",
       "      <td>b''</td>\n",
       "      <td>b'Ensembl Bacteria 38; ASM16065v1'</td>\n",
       "      <td>b'http://bacteria.ensembl.org/Cardiobacterium_hominis_ATCC_15826'</td>\n",
       "      <td>b'ftp://ftp.ensemblgenomes.org/pub/bacteria/release-38/embl/cardiobacterium_hominis_atcc_15826'</td>\n",
       "      <td>1518735600</td>\n",
       "      <td>False</td>\n",
       "    </tr>\n",
       "    <tr>\n",
       "      <th>1363</th>\n",
       "      <td>118110</td>\n",
       "      <td>BUCSC</td>\n",
       "      <td>499</td>\n",
       "      <td>160319</td>\n",
       "      <td>4515832</td>\n",
       "      <td>b'Buchnera aphidicola subsp. Schlechtendalia chinensis'</td>\n",
       "      <td>b''</td>\n",
       "      <td>b''</td>\n",
       "      <td>b'Ensembl Bacteria 37; ASM164811v1'</td>\n",
       "      <td>b'http://bacteria.ensembl.org/Buchnera_aphidicola_(Schlechtendalia_chinensis)'</td>\n",
       "      <td>b'ftp://ftp.ensemblgenomes.org/pub/bacteria/release-37/embl/buchnera_aphidicola_(schlechtendalia_chinensis)'</td>\n",
       "      <td>1510095600</td>\n",
       "      <td>False</td>\n",
       "    </tr>\n",
       "    <tr>\n",
       "      <th>1382</th>\n",
       "      <td>1141663</td>\n",
       "      <td>PRORD</td>\n",
       "      <td>3848</td>\n",
       "      <td>1173685</td>\n",
       "      <td>4585893</td>\n",
       "      <td>b'Providencia rettgeri (strain Dmel1)'</td>\n",
       "      <td>b''</td>\n",
       "      <td>b'Proteus rettgeri'</td>\n",
       "      <td>b'Ensembl Bacteria 38; ASM31483v2'</td>\n",
       "      <td>b'http://bacteria.ensembl.org/Providencia_rettgeri_Dmel1'</td>\n",
       "      <td>b'ftp://ftp.ensemblgenomes.org/pub/bacteria/release-38/embl/providencia_rettgeri_dmel1'</td>\n",
       "      <td>1517180400</td>\n",
       "      <td>False</td>\n",
       "    </tr>\n",
       "    <tr>\n",
       "      <th>1416</th>\n",
       "      <td>29486</td>\n",
       "      <td>YERRU</td>\n",
       "      <td>3406</td>\n",
       "      <td>1071825</td>\n",
       "      <td>4728628</td>\n",
       "      <td>b'Yersinia ruckeri'</td>\n",
       "      <td>b''</td>\n",
       "      <td>b''</td>\n",
       "      <td>b'Ensembl Bacteria 38; ASM73716v1'</td>\n",
       "      <td>b'http://bacteria.ensembl.org/Yersinia_ruckeri'</td>\n",
       "      <td>b'ftp://ftp.ensemblgenomes.org/pub/bacteria/release-38/embl/yersinia_ruckeri'</td>\n",
       "      <td>1520204400</td>\n",
       "      <td>False</td>\n",
       "    </tr>\n",
       "    <tr>\n",
       "      <th>1477</th>\n",
       "      <td>478</td>\n",
       "      <td>MORNO</td>\n",
       "      <td>1937</td>\n",
       "      <td>609924</td>\n",
       "      <td>4900490</td>\n",
       "      <td>b'Moraxella nonliquefaciens'</td>\n",
       "      <td>b''</td>\n",
       "      <td>b''</td>\n",
       "      <td>b'Ensembl Bacteria 37; ASM167915v1'</td>\n",
       "      <td>b'http://bacteria.ensembl.org/Moraxella_nonliquefaciens'</td>\n",
       "      <td>b'ftp://ftp.ensemblgenomes.org/pub/bacteria/release-37/embl/moraxella_nonliquefaciens'</td>\n",
       "      <td>1510095600</td>\n",
       "      <td>False</td>\n",
       "    </tr>\n",
       "    <tr>\n",
       "      <th>1491</th>\n",
       "      <td>1301098</td>\n",
       "      <td>PSEKB</td>\n",
       "      <td>5750</td>\n",
       "      <td>1816614</td>\n",
       "      <td>4965884</td>\n",
       "      <td>b'Pseudomonas knackmussii (strain DSM 6978 / LMG 23759 / B13)'</td>\n",
       "      <td>b''</td>\n",
       "      <td>b''</td>\n",
       "      <td>b'Ensembl Bacteria 36; PKB13'</td>\n",
       "      <td>b'http://bacteria.ensembl.org/Pseudomonas_knackmussii_B13'</td>\n",
       "      <td>b'ftp://ftp.ensemblgenomes.org/pub/bacteria/release-36/embl/pseudomonas_knackmussii_b13'</td>\n",
       "      <td>1503439200</td>\n",
       "      <td>False</td>\n",
       "    </tr>\n",
       "    <tr>\n",
       "      <th>1519</th>\n",
       "      <td>317025</td>\n",
       "      <td>HYDCU</td>\n",
       "      <td>2187</td>\n",
       "      <td>722179</td>\n",
       "      <td>5061344</td>\n",
       "      <td>b'Hydrogenovibrio crunogenus (strain XCL-2)'</td>\n",
       "      <td>b''</td>\n",
       "      <td>b''</td>\n",
       "      <td>b'30-JAN-2014 (Rel. 119, Last updated, Version 5)'</td>\n",
       "      <td>b'http://www.expasy.org/sprot/hamap/HYDCU.html'</td>\n",
       "      <td>b'http://www.ebi.ac.uk/cgi-bin/dbfetch?db=embl&amp;id=CP000109'</td>\n",
       "      <td>1395702000</td>\n",
       "      <td>False</td>\n",
       "    </tr>\n",
       "    <tr>\n",
       "      <th>1585</th>\n",
       "      <td>643562</td>\n",
       "      <td>PSEA9</td>\n",
       "      <td>3268</td>\n",
       "      <td>1066402</td>\n",
       "      <td>5294405</td>\n",
       "      <td>b'Pseudodesulfovibrio aespoeensis (strain ATCC 700646 / DSM 10631 / Aspo-2)'</td>\n",
       "      <td>b''</td>\n",
       "      <td>b''</td>\n",
       "      <td>b'20-JUN-2014 (Rel. 121, Last updated, Version 3)'</td>\n",
       "      <td>b'http://www.expasy.org/sprot/hamap/PSEA9.html'</td>\n",
       "      <td>b'http://www.ebi.ac.uk/ena/data/view/CP002431'</td>\n",
       "      <td>1447801200</td>\n",
       "      <td>False</td>\n",
       "    </tr>\n",
       "    <tr>\n",
       "      <th>1586</th>\n",
       "      <td>1322246</td>\n",
       "      <td>PSEP2</td>\n",
       "      <td>3342</td>\n",
       "      <td>1080842</td>\n",
       "      <td>5297673</td>\n",
       "      <td>b'Pseudodesulfovibrio piezophilus (strain DSM 21447 / JCM 15486 / C1TLV30)'</td>\n",
       "      <td>b''</td>\n",
       "      <td>b''</td>\n",
       "      <td>b'27-FEB-2015 (Rel. 123, Last updated, Version 3)'</td>\n",
       "      <td>b'http://www.expasy.org/sprot/hamap/PSEP2.html'</td>\n",
       "      <td>b'http://www.ebi.ac.uk/cgi-bin/dbfetch?db=embl&amp;id=FO203427'</td>\n",
       "      <td>1426633200</td>\n",
       "      <td>False</td>\n",
       "    </tr>\n",
       "    <tr>\n",
       "      <th>1759</th>\n",
       "      <td>1197325</td>\n",
       "      <td>MYCWM</td>\n",
       "      <td>652</td>\n",
       "      <td>185828</td>\n",
       "      <td>5667843</td>\n",
       "      <td>b'Mycoplasma wenyonii (strain Massachusetts)'</td>\n",
       "      <td>b''</td>\n",
       "      <td>b'Eperythrozoon wenyonii'</td>\n",
       "      <td>b'Ensembl Bacteria 37; ASM27779v1'</td>\n",
       "      <td>b'http://bacteria.ensembl.org/Mycoplasma_wenyonii_str._Massachusetts'</td>\n",
       "      <td>b'ftp://ftp.ensemblgenomes.org/pub/bacteria/release-37/embl/mycoplasma_wenyonii_str._massachusetts'</td>\n",
       "      <td>1510095600</td>\n",
       "      <td>False</td>\n",
       "    </tr>\n",
       "    <tr>\n",
       "      <th>1783</th>\n",
       "      <td>1619019</td>\n",
       "      <td>YANXG</td>\n",
       "      <td>338</td>\n",
       "      <td>94150</td>\n",
       "      <td>5713922</td>\n",
       "      <td>b'Yanofskybacteria sp. (strain GW2011_GWA1_39_13)'</td>\n",
       "      <td>b''</td>\n",
       "      <td>b''</td>\n",
       "      <td>b'Ensembl Bacteria 37; ASM99349v1'</td>\n",
       "      <td>b'http://bacteria.ensembl.org/Candidatus_Yanofskybacteria_bacterium_GW2011_GWA1_39_13'</td>\n",
       "      <td>b'ftp://ftp.ensemblgenomes.org/pub/bacteria/release-37/embl/candidatus_yanofskybacteria_bacterium_gw2011_gwa1_39_13'</td>\n",
       "      <td>1509318000</td>\n",
       "      <td>False</td>\n",
       "    </tr>\n",
       "    <tr>\n",
       "      <th>...</th>\n",
       "      <td>...</td>\n",
       "      <td>...</td>\n",
       "      <td>...</td>\n",
       "      <td>...</td>\n",
       "      <td>...</td>\n",
       "      <td>...</td>\n",
       "      <td>...</td>\n",
       "      <td>...</td>\n",
       "      <td>...</td>\n",
       "      <td>...</td>\n",
       "      <td>...</td>\n",
       "      <td>...</td>\n",
       "      <td>...</td>\n",
       "    </tr>\n",
       "    <tr>\n",
       "      <th>1894</th>\n",
       "      <td>1071383</td>\n",
       "      <td>KAZNA</td>\n",
       "      <td>5321</td>\n",
       "      <td>2651840</td>\n",
       "      <td>6821099</td>\n",
       "      <td>b'Kazachstania naganishii (strain ATCC MYA-139 / BCRC 22969 / CBS 8797 / CCRC 22969 / KCTC 17520 / NBRC 10181 / NCYC 3082)'</td>\n",
       "      <td>b'Yeast'</td>\n",
       "      <td>b'Saccharomyces naganishii'</td>\n",
       "      <td>b'Ensembl Fungi 36; ASM34898v1'</td>\n",
       "      <td>b'http://fungi.ensembl.org/Kazachstania_naganishii_CBS_8797'</td>\n",
       "      <td>b'ftp://ftp.ensemblgenomes.org/pub/fungi/release-36/embl/kazachstania_naganishii_cbs_8797'</td>\n",
       "      <td>1502920800</td>\n",
       "      <td>False</td>\n",
       "    </tr>\n",
       "    <tr>\n",
       "      <th>1896</th>\n",
       "      <td>559295</td>\n",
       "      <td>LACTC</td>\n",
       "      <td>5092</td>\n",
       "      <td>2500341</td>\n",
       "      <td>6831650</td>\n",
       "      <td>b'Lachancea thermotolerans (strain ATCC 56472 / CBS 6340 / NRRL Y-8284)'</td>\n",
       "      <td>b'Yeast'</td>\n",
       "      <td>b'Kluyveromyces thermotolerans'</td>\n",
       "      <td>b'Ensembl Fungi 38; ASM14280v1'</td>\n",
       "      <td>b'http://fungi.ensembl.org/Lachancea_thermotolerans_CBS_6340'</td>\n",
       "      <td>b'ftp://ftp.ensemblgenomes.org/pub/fungi/release-38/embl/lachancea_thermotolerans_cbs_6340'</td>\n",
       "      <td>1520204400</td>\n",
       "      <td>False</td>\n",
       "    </tr>\n",
       "    <tr>\n",
       "      <th>1899</th>\n",
       "      <td>764097</td>\n",
       "      <td>YEASA</td>\n",
       "      <td>3786</td>\n",
       "      <td>1365521</td>\n",
       "      <td>6847846</td>\n",
       "      <td>b'Saccharomyces cerevisiae (strain AWRI796)'</td>\n",
       "      <td>b\"Baker's yeast\"</td>\n",
       "      <td>b''</td>\n",
       "      <td>b'Ensembl Fungi 38; ScAWRI796_v01'</td>\n",
       "      <td>b'http://fungi.ensembl.org/Saccharomyces_cerevisiae_AWRI796'</td>\n",
       "      <td>b'ftp://ftp.ensemblgenomes.org/pub/fungi/release-38/embl/saccharomyces_cerevisiae_awri796'</td>\n",
       "      <td>1520290800</td>\n",
       "      <td>False</td>\n",
       "    </tr>\n",
       "    <tr>\n",
       "      <th>1900</th>\n",
       "      <td>764101</td>\n",
       "      <td>YEASO</td>\n",
       "      <td>3575</td>\n",
       "      <td>1213471</td>\n",
       "      <td>6851632</td>\n",
       "      <td>b'Saccharomyces cerevisiae (strain FostersO)'</td>\n",
       "      <td>b\"Baker's yeast\"</td>\n",
       "      <td>b''</td>\n",
       "      <td>b'Ensembl Fungi 36; ScFostersO_v01'</td>\n",
       "      <td>b'http://fungi.ensembl.org/Saccharomyces_cerevisiae_FostersO'</td>\n",
       "      <td>b'ftp://ftp.ensemblgenomes.org/pub/fungi/release-36/embl/saccharomyces_cerevisiae_fosterso'</td>\n",
       "      <td>1502920800</td>\n",
       "      <td>False</td>\n",
       "    </tr>\n",
       "    <tr>\n",
       "      <th>1901</th>\n",
       "      <td>764099</td>\n",
       "      <td>YEASV</td>\n",
       "      <td>3930</td>\n",
       "      <td>1473723</td>\n",
       "      <td>6855207</td>\n",
       "      <td>b'Saccharomyces cerevisiae (strain VIN 13)'</td>\n",
       "      <td>b\"Baker's yeast\"</td>\n",
       "      <td>b''</td>\n",
       "      <td>b'Ensembl Fungi 38; ScVIN13_v01'</td>\n",
       "      <td>b'http://fungi.ensembl.org/Saccharomyces_cerevisiae_Vin13'</td>\n",
       "      <td>b'ftp://ftp.ensemblgenomes.org/pub/fungi/release-38/embl/saccharomyces_cerevisiae_vin13'</td>\n",
       "      <td>1520290800</td>\n",
       "      <td>False</td>\n",
       "    </tr>\n",
       "    <tr>\n",
       "      <th>1902</th>\n",
       "      <td>436907</td>\n",
       "      <td>VANPO</td>\n",
       "      <td>5367</td>\n",
       "      <td>2699857</td>\n",
       "      <td>6859137</td>\n",
       "      <td>b'Vanderwaltozyma polyspora (strain ATCC 22028 / DSM 70294)'</td>\n",
       "      <td>b''</td>\n",
       "      <td>b'Kluyveromyces polysporus'</td>\n",
       "      <td>b'Ensembl Fungi 38; ASM15003v1'</td>\n",
       "      <td>b'http://fungi.ensembl.org/Vanderwaltozyma_polyspora_DSM_70294'</td>\n",
       "      <td>b'ftp://ftp.ensemblgenomes.org/pub/fungi/release-38/embl/vanderwaltozyma_polyspora_dsm_70294'</td>\n",
       "      <td>1520290800</td>\n",
       "      <td>False</td>\n",
       "    </tr>\n",
       "    <tr>\n",
       "      <th>1933</th>\n",
       "      <td>948595</td>\n",
       "      <td>VAVCU</td>\n",
       "      <td>2773</td>\n",
       "      <td>953920</td>\n",
       "      <td>7214183</td>\n",
       "      <td>b'Vavraia culicis (isolate floridensis)'</td>\n",
       "      <td>b'Microsporidian parasite'</td>\n",
       "      <td>b''</td>\n",
       "      <td>b'Ensembl Fungi 38; Vavr_culi_floridensis_V1'</td>\n",
       "      <td>b'http://fungi.ensembl.org/Vavraia_culicis_subsp._floridensis'</td>\n",
       "      <td>b'ftp://ftp.ensemblgenomes.org/pub/fungi/release-38/embl/vavraia_culicis_subsp._floridensis'</td>\n",
       "      <td>1520290800</td>\n",
       "      <td>False</td>\n",
       "    </tr>\n",
       "    <tr>\n",
       "      <th>1944</th>\n",
       "      <td>105023</td>\n",
       "      <td>NOTFU</td>\n",
       "      <td>33407</td>\n",
       "      <td>24570423</td>\n",
       "      <td>7404789</td>\n",
       "      <td>b'Nothobranchius furzeri'</td>\n",
       "      <td>b'Turquoise killifish'</td>\n",
       "      <td>b''</td>\n",
       "      <td>b'Refseq; ; GCF_001465895.1; 18-MAR-2016'</td>\n",
       "      <td>b'https://www.ncbi.nlm.nih.gov/genome/?term=Nothobranchius+furzeri'</td>\n",
       "      <td>b'ftp://ftp.ncbi.nlm.nih.gov/genomes/all/GCF/001/465/895/GCF_001465895.1_/'</td>\n",
       "      <td>1517958000</td>\n",
       "      <td>False</td>\n",
       "    </tr>\n",
       "    <tr>\n",
       "      <th>1959</th>\n",
       "      <td>885580</td>\n",
       "      <td>FUKDA</td>\n",
       "      <td>23339</td>\n",
       "      <td>12835668</td>\n",
       "      <td>7737577</td>\n",
       "      <td>b'Fukomys damarensis'</td>\n",
       "      <td>b'Damaraland mole rat'</td>\n",
       "      <td>b'Cryptomys damarensis'</td>\n",
       "      <td>b'Ensembl 91; DMR_v1.0'</td>\n",
       "      <td>b'http://www.ensembl.org/Fukomys_damarensis'</td>\n",
       "      <td>b'ftp://ftp.ensembl.org/pub/release-91/embl/fukomys_damarensis/'</td>\n",
       "      <td>1517180400</td>\n",
       "      <td>False</td>\n",
       "    </tr>\n",
       "    <tr>\n",
       "      <th>1961</th>\n",
       "      <td>34839</td>\n",
       "      <td>CHILA</td>\n",
       "      <td>25278</td>\n",
       "      <td>14803854</td>\n",
       "      <td>7779856</td>\n",
       "      <td>b'Chinchilla lanigera'</td>\n",
       "      <td>b'Long-tailed chinchilla'</td>\n",
       "      <td>b'Chinchilla villidera'</td>\n",
       "      <td>b'Ensembl 90; ChiLan1.0'</td>\n",
       "      <td>b'http://www.ensembl.org/Chinchilla_lanigera'</td>\n",
       "      <td>b'ftp://ftp.ensembl.org/pub/release-90/embl/chinchilla_lanigera/'</td>\n",
       "      <td>1510182000</td>\n",
       "      <td>False</td>\n",
       "    </tr>\n",
       "    <tr>\n",
       "      <th>1962</th>\n",
       "      <td>10160</td>\n",
       "      <td>OCTDE</td>\n",
       "      <td>27047</td>\n",
       "      <td>14026646</td>\n",
       "      <td>7805134</td>\n",
       "      <td>b'Octodon degus'</td>\n",
       "      <td>b'Degu'</td>\n",
       "      <td>b'Sciurus degus'</td>\n",
       "      <td>b'Ensembl 90; OctDeg1.0'</td>\n",
       "      <td>b'http://www.ensembl.org/Octodon_degus'</td>\n",
       "      <td>b'ftp://ftp.ensembl.org/pub/release-90/embl/octodon_degus/'</td>\n",
       "      <td>1503525600</td>\n",
       "      <td>False</td>\n",
       "    </tr>\n",
       "    <tr>\n",
       "      <th>1963</th>\n",
       "      <td>51337</td>\n",
       "      <td>JACJA</td>\n",
       "      <td>25180</td>\n",
       "      <td>13857925</td>\n",
       "      <td>7832181</td>\n",
       "      <td>b'Jaculus jaculus'</td>\n",
       "      <td>b'Lesser Egyptian jerboa'</td>\n",
       "      <td>b''</td>\n",
       "      <td>b'Ensembl 90; JacJac1.0'</td>\n",
       "      <td>b'http://www.ensembl.org/Jaculus_jaculus'</td>\n",
       "      <td>b'ftp://ftp.ensembl.org/pub/release-90/embl/jaculus_jaculus/'</td>\n",
       "      <td>1511996400</td>\n",
       "      <td>False</td>\n",
       "    </tr>\n",
       "    <tr>\n",
       "      <th>1966</th>\n",
       "      <td>1026970</td>\n",
       "      <td>NANGA</td>\n",
       "      <td>26869</td>\n",
       "      <td>14702820</td>\n",
       "      <td>7935459</td>\n",
       "      <td>b'Nannospalax galili'</td>\n",
       "      <td>b'Northern Israeli blind subterranean mole rat'</td>\n",
       "      <td>b'Spalax galili'</td>\n",
       "      <td>b'Ensembl 90; S.galili_v1.0'</td>\n",
       "      <td>b'http://www.ensembl.org/Nannospalax_galili'</td>\n",
       "      <td>b'ftp://ftp.ensembl.org/pub/release-90/embl/nannospalax_galili/'</td>\n",
       "      <td>1510182000</td>\n",
       "      <td>False</td>\n",
       "    </tr>\n",
       "    <tr>\n",
       "      <th>1973</th>\n",
       "      <td>9597</td>\n",
       "      <td>PANPA</td>\n",
       "      <td>43025</td>\n",
       "      <td>22679225</td>\n",
       "      <td>8097169</td>\n",
       "      <td>b'Pan paniscus'</td>\n",
       "      <td>b'Pygmy chimpanzee'</td>\n",
       "      <td>b'Bonobo'</td>\n",
       "      <td>b'Ensembl Main 91; panpan1.1'</td>\n",
       "      <td>b'http://main.ensembl.org/Pan_paniscus'</td>\n",
       "      <td>b'ftp://ftp.ensemblgenomes.org/pub/main/release-91/embl/pan_paniscus'</td>\n",
       "      <td>1515884400</td>\n",
       "      <td>False</td>\n",
       "    </tr>\n",
       "    <tr>\n",
       "      <th>2012</th>\n",
       "      <td>79327</td>\n",
       "      <td>SCHMD</td>\n",
       "      <td>29850</td>\n",
       "      <td>7017863</td>\n",
       "      <td>8850871</td>\n",
       "      <td>b'Schmidtea mediterranea'</td>\n",
       "      <td>b'Freshwater planarian flatworm'</td>\n",
       "      <td>b''</td>\n",
       "      <td>b'Wormbase Parasite WBPS9; SmedGD_c1.3'</td>\n",
       "      <td>b'http://parasite.wormbase.org/Schmidtea_mediterranea_prjna12585/Info/Index/'</td>\n",
       "      <td>b'ftp://ftp.ebi.ac.uk/pub/databases/wormbase/parasite/releases/WBPS9/species/schmidtea_mediterranea/PRJNA12585/'</td>\n",
       "      <td>1517266800</td>\n",
       "      <td>False</td>\n",
       "    </tr>\n",
       "    <tr>\n",
       "      <th>2023</th>\n",
       "      <td>103827</td>\n",
       "      <td>THECL</td>\n",
       "      <td>10912</td>\n",
       "      <td>4446480</td>\n",
       "      <td>9081542</td>\n",
       "      <td>b'Thelazia callipaeda'</td>\n",
       "      <td>b'Oriental eyeworm'</td>\n",
       "      <td>b'Parasitic nematode'</td>\n",
       "      <td>b'Wormbase Parasite WBPS9; T_callipaeda_Ticino_v1_0_4; GCA_000981425.1'</td>\n",
       "      <td>b'http://parasite.wormbase.org/Thelazia_callipaeda_prjeb1205/Info/Index/'</td>\n",
       "      <td>b'ftp://ftp.ebi.ac.uk/pub/databases/wormbase/parasite/releases/WBPS9/species/thelazia_callipaeda/PRJEB1205/'</td>\n",
       "      <td>1517180400</td>\n",
       "      <td>False</td>\n",
       "    </tr>\n",
       "    <tr>\n",
       "      <th>2025</th>\n",
       "      <td>6305</td>\n",
       "      <td>MELHA</td>\n",
       "      <td>14420</td>\n",
       "      <td>5021466</td>\n",
       "      <td>9104867</td>\n",
       "      <td>b'Meloidogyne hapla'</td>\n",
       "      <td>b'Root-knot nematode worm'</td>\n",
       "      <td>b''</td>\n",
       "      <td>b'Wormbase Parasite WBPS9; Freeze_1; GCA_000172435.1'</td>\n",
       "      <td>b'http://parasite.wormbase.org/Meloidogyne_hapla_prjna29083/Info/Index/'</td>\n",
       "      <td>b'ftp://ftp.ebi.ac.uk/pub/databases/wormbase/parasite/releases/WBPS9/species/meloidogyne_hapla/PRJNA29083/'</td>\n",
       "      <td>1517180400</td>\n",
       "      <td>False</td>\n",
       "    </tr>\n",
       "    <tr>\n",
       "      <th>2068</th>\n",
       "      <td>2015173</td>\n",
       "      <td>OOCBI</td>\n",
       "      <td>16303</td>\n",
       "      <td>6761243</td>\n",
       "      <td>9761252</td>\n",
       "      <td>b'Ooceraea biroi'</td>\n",
       "      <td>b'Ant'</td>\n",
       "      <td>b''</td>\n",
       "      <td>b'30-APR-2014 (Rel. 120, Last updated, Version 1)'</td>\n",
       "      <td>b'http://www.uniprot.org/proteomes/UP000053097'</td>\n",
       "      <td>b'http://www.ebi.ac.uk/ena/data/view/KK107008-KK111586&amp;display=text&amp;expanded=true'</td>\n",
       "      <td>1470261600</td>\n",
       "      <td>False</td>\n",
       "    </tr>\n",
       "    <tr>\n",
       "      <th>2076</th>\n",
       "      <td>121845</td>\n",
       "      <td>DIACI</td>\n",
       "      <td>19899</td>\n",
       "      <td>7405646</td>\n",
       "      <td>9907453</td>\n",
       "      <td>b'Diaphorina citri'</td>\n",
       "      <td>b'Asian citrus psyllid'</td>\n",
       "      <td>b''</td>\n",
       "      <td>b'Refseq; Diaci psyllid genome assembly version 1.1; GCF_000475195.1; 30-JUN-2016'</td>\n",
       "      <td>b'https://www.ncbi.nlm.nih.gov/genome/?term=Diaphorina+citri'</td>\n",
       "      <td>b'ftp://ftp.ncbi.nlm.nih.gov/genomes/all/GCF/000/475/195/GCF_000475195.1_Diaci psyllid genome assembly version 1.1/'</td>\n",
       "      <td>1510095600</td>\n",
       "      <td>False</td>\n",
       "    </tr>\n",
       "    <tr>\n",
       "      <th>2088</th>\n",
       "      <td>6087</td>\n",
       "      <td>HYDVU</td>\n",
       "      <td>21330</td>\n",
       "      <td>9740026</td>\n",
       "      <td>10203382</td>\n",
       "      <td>b'Hydra vulgaris'</td>\n",
       "      <td>b'Hydra'</td>\n",
       "      <td>b'Hydra attenuata'</td>\n",
       "      <td>b'08-JUN-2015'</td>\n",
       "      <td>b''</td>\n",
       "      <td>b''</td>\n",
       "      <td>1509055200</td>\n",
       "      <td>False</td>\n",
       "    </tr>\n",
       "    <tr>\n",
       "      <th>2095</th>\n",
       "      <td>412133</td>\n",
       "      <td>TRIVA</td>\n",
       "      <td>59681</td>\n",
       "      <td>18252752</td>\n",
       "      <td>10312411</td>\n",
       "      <td>b'Trichomonas vaginalis'</td>\n",
       "      <td>b''</td>\n",
       "      <td>b''</td>\n",
       "      <td>b'Ensembl Protists 37; ASM282v1'</td>\n",
       "      <td>b'http://protists.ensembl.org/Trichomonas_vaginalis_G3'</td>\n",
       "      <td>b'ftp://ftp.ensemblgenomes.org/pub/protists/release-37/embl/protists_parabasalia1_collection/trichomonas_vaginalis_g3'</td>\n",
       "      <td>1510614000</td>\n",
       "      <td>False</td>\n",
       "    </tr>\n",
       "    <tr>\n",
       "      <th>2109</th>\n",
       "      <td>164328</td>\n",
       "      <td>PHYRM</td>\n",
       "      <td>15605</td>\n",
       "      <td>7445163</td>\n",
       "      <td>10560309</td>\n",
       "      <td>b'Phytophthora ramorum'</td>\n",
       "      <td>b'Sudden oak death agent'</td>\n",
       "      <td>b''</td>\n",
       "      <td>b'Ensembl Protists 37; ASM14973v1'</td>\n",
       "      <td>b'http://protists.ensembl.org/Phytophthora_ramorum'</td>\n",
       "      <td>b'ftp://ftp.ensemblgenomes.org/pub/protists/release-37/embl/phytophthora_ramorum'</td>\n",
       "      <td>1510614000</td>\n",
       "      <td>False</td>\n",
       "    </tr>\n",
       "    <tr>\n",
       "      <th>2122</th>\n",
       "      <td>3197</td>\n",
       "      <td>MARPO</td>\n",
       "      <td>24674</td>\n",
       "      <td>10938663</td>\n",
       "      <td>10744849</td>\n",
       "      <td>b'Marchantia polymorpha'</td>\n",
       "      <td>b'Liverwort'</td>\n",
       "      <td>b'Marchantia aquatica'</td>\n",
       "      <td>b''</td>\n",
       "      <td>b'https://phytozome.jgi.doe.gov/pz/portal.html#!info?alias=Org_Mpolymorpha'</td>\n",
       "      <td>b'https://genome.jgi.doe.gov/pages/dynamicOrganismDownload.jsf?organism=Mpolymorpha'</td>\n",
       "      <td>1512946800</td>\n",
       "      <td>False</td>\n",
       "    </tr>\n",
       "    <tr>\n",
       "      <th>2132</th>\n",
       "      <td>112509</td>\n",
       "      <td>HORVV</td>\n",
       "      <td>194879</td>\n",
       "      <td>69923177</td>\n",
       "      <td>11072138</td>\n",
       "      <td>b'Hordeum vulgare subsp. vulgare'</td>\n",
       "      <td>b'Domesticated barley'</td>\n",
       "      <td>b''</td>\n",
       "      <td>b'Ensembl Plants 38; Hv_IBSC_PGSB_v2'</td>\n",
       "      <td>b'http://plants.ensembl.org/Hordeum_vulgare'</td>\n",
       "      <td>b'ftp://ftp.ensemblgenomes.org/pub/plants/release-38/embl/hordeum_vulgare'</td>\n",
       "      <td>1521673200</td>\n",
       "      <td>False</td>\n",
       "    </tr>\n",
       "    <tr>\n",
       "      <th>2142</th>\n",
       "      <td>63459</td>\n",
       "      <td>CHEQI</td>\n",
       "      <td>44776</td>\n",
       "      <td>18977586</td>\n",
       "      <td>11701164</td>\n",
       "      <td>b'Chenopodium quinoa'</td>\n",
       "      <td>b'Quinoa'</td>\n",
       "      <td>b''</td>\n",
       "      <td>b''</td>\n",
       "      <td>b'http://www.cbrc.kaust.edu.sa/chenopodiumdb/'</td>\n",
       "      <td>b'http://www.cbrc.kaust.edu.sa/chenopodiumdb/download/'</td>\n",
       "      <td>1513551600</td>\n",
       "      <td>False</td>\n",
       "    </tr>\n",
       "    <tr>\n",
       "      <th>2143</th>\n",
       "      <td>49451</td>\n",
       "      <td>NICAT</td>\n",
       "      <td>20969</td>\n",
       "      <td>7759483</td>\n",
       "      <td>11745940</td>\n",
       "      <td>b'Nicotiana attenuata'</td>\n",
       "      <td>b'Coyote tobacco'</td>\n",
       "      <td>b''</td>\n",
       "      <td>b'Ensembl Plants 38; NIATTr2'</td>\n",
       "      <td>b'http://plants.ensembl.org/Nicotiana_attenuata_str._UT'</td>\n",
       "      <td>b'ftp://ftp.ensemblgenomes.org/pub/plants/release-38/embl/nicotiana_attenuata_str._ut'</td>\n",
       "      <td>1520118000</td>\n",
       "      <td>False</td>\n",
       "    </tr>\n",
       "    <tr>\n",
       "      <th>2146</th>\n",
       "      <td>3659</td>\n",
       "      <td>CUCSA</td>\n",
       "      <td>23780</td>\n",
       "      <td>8741522</td>\n",
       "      <td>11842407</td>\n",
       "      <td>b'Cucumis sativus'</td>\n",
       "      <td>b'Cucumber'</td>\n",
       "      <td>b''</td>\n",
       "      <td>b'Ensembl Plants 38; ASM407v2'</td>\n",
       "      <td>b'http://plants.ensembl.org/Cucumis_sativus'</td>\n",
       "      <td>b'ftp://ftp.ensemblgenomes.org/pub/plants/release-38/embl/cucumis_sativus'</td>\n",
       "      <td>1515884400</td>\n",
       "      <td>False</td>\n",
       "    </tr>\n",
       "    <tr>\n",
       "      <th>2147</th>\n",
       "      <td>3871</td>\n",
       "      <td>LUPAN</td>\n",
       "      <td>14126</td>\n",
       "      <td>5991414</td>\n",
       "      <td>11866187</td>\n",
       "      <td>b'Lupinus angustifolius'</td>\n",
       "      <td>b'Narrow-leaved blue lupine'</td>\n",
       "      <td>b''</td>\n",
       "      <td>b'Ensembl Plants 38; LupAngTanjil_v1.0'</td>\n",
       "      <td>b'http://plants.ensembl.org/Lupinus_angustifolius'</td>\n",
       "      <td>b'ftp://ftp.ensemblgenomes.org/pub/plants/release-38/embl/lupinus_angustifolius'</td>\n",
       "      <td>1520722800</td>\n",
       "      <td>False</td>\n",
       "    </tr>\n",
       "    <tr>\n",
       "      <th>2161</th>\n",
       "      <td>210143</td>\n",
       "      <td>COCAP</td>\n",
       "      <td>29356</td>\n",
       "      <td>10095839</td>\n",
       "      <td>12442408</td>\n",
       "      <td>b'Corchorus capsularis'</td>\n",
       "      <td>b'Jute'</td>\n",
       "      <td>b''</td>\n",
       "      <td>b'Ensembl Plants 38; CCACVL1_1.0'</td>\n",
       "      <td>b'http://plants.ensembl.org/Corchorus_capsularis'</td>\n",
       "      <td>b'ftp://ftp.ensemblgenomes.org/pub/plants/release-38/embl/corchorus_capsularis'</td>\n",
       "      <td>1520809200</td>\n",
       "      <td>False</td>\n",
       "    </tr>\n",
       "    <tr>\n",
       "      <th>2163</th>\n",
       "      <td>29730</td>\n",
       "      <td>GOSRA</td>\n",
       "      <td>66820</td>\n",
       "      <td>27745658</td>\n",
       "      <td>12538731</td>\n",
       "      <td>b'Gossypium raimondii'</td>\n",
       "      <td>b'New World cotton'</td>\n",
       "      <td>b''</td>\n",
       "      <td>b'Ensembl Plants 38; Graimondii2_0'</td>\n",
       "      <td>b'http://plants.ensembl.org/Gossypium_raimondii'</td>\n",
       "      <td>b'ftp://ftp.ensemblgenomes.org/pub/plants/release-38/embl/gossypium_raimondii'</td>\n",
       "      <td>1522274400</td>\n",
       "      <td>False</td>\n",
       "    </tr>\n",
       "  </tbody>\n",
       "</table>\n",
       "<p>75 rows × 13 columns</p>\n",
       "</div>"
      ],
      "text/plain": [
       "      NCBITaxonId UniProtSpeciesCode  TotEntries     TotAA  EntryOff  \\\n",
       "7          490899              DESA1        1470    400448     11580   \n",
       "110        990316              METSG        2782    819844    261938   \n",
       "145       1579370              ARCG5        1339    374442    336028   \n",
       "146       1579373              ARCG3        1308    357400    337367   \n",
       "147       1579378              ARCG6        1010    255387    338675   \n",
       "148       1579367              ARCGX        1028    256220    339685   \n",
       "253        685727              RHOH1        4598   1540306    679298   \n",
       "269          1703              BRELN        3434   1150451    768064   \n",
       "290        743718              ISOV2        2881    987996    835350   \n",
       "306        267747              CUTAK        2294    760875    911171   \n",
       "504       1173020              CHAP6        5945   1793467   1597309   \n",
       "656          1284              STAHY        2278    700810   2116460   \n",
       "716          1629              WEIVI        1462    449040   2245826   \n",
       "911         42253              NITMO        4790   1393197   2756427   \n",
       "927        190650              CAUVC        3714   1204535   2823756   \n",
       "928        565050              CAUVN        3852   1223896   2827470   \n",
       "969          1079              BLAVI        3260   1044728   2972924   \n",
       "1016       314256              OCEGH        3792   1231503   3212596   \n",
       "1052          955              WOLPI         851    259823   3325705   \n",
       "1244       638300              CARH6        2581    770766   4042348   \n",
       "1363       118110              BUCSC         499    160319   4515832   \n",
       "1382      1141663              PRORD        3848   1173685   4585893   \n",
       "1416        29486              YERRU        3406   1071825   4728628   \n",
       "1477          478              MORNO        1937    609924   4900490   \n",
       "1491      1301098              PSEKB        5750   1816614   4965884   \n",
       "1519       317025              HYDCU        2187    722179   5061344   \n",
       "1585       643562              PSEA9        3268   1066402   5294405   \n",
       "1586      1322246              PSEP2        3342   1080842   5297673   \n",
       "1759      1197325              MYCWM         652    185828   5667843   \n",
       "1783      1619019              YANXG         338     94150   5713922   \n",
       "...           ...                ...         ...       ...       ...   \n",
       "1894      1071383              KAZNA        5321   2651840   6821099   \n",
       "1896       559295              LACTC        5092   2500341   6831650   \n",
       "1899       764097              YEASA        3786   1365521   6847846   \n",
       "1900       764101              YEASO        3575   1213471   6851632   \n",
       "1901       764099              YEASV        3930   1473723   6855207   \n",
       "1902       436907              VANPO        5367   2699857   6859137   \n",
       "1933       948595              VAVCU        2773    953920   7214183   \n",
       "1944       105023              NOTFU       33407  24570423   7404789   \n",
       "1959       885580              FUKDA       23339  12835668   7737577   \n",
       "1961        34839              CHILA       25278  14803854   7779856   \n",
       "1962        10160              OCTDE       27047  14026646   7805134   \n",
       "1963        51337              JACJA       25180  13857925   7832181   \n",
       "1966      1026970              NANGA       26869  14702820   7935459   \n",
       "1973         9597              PANPA       43025  22679225   8097169   \n",
       "2012        79327              SCHMD       29850   7017863   8850871   \n",
       "2023       103827              THECL       10912   4446480   9081542   \n",
       "2025         6305              MELHA       14420   5021466   9104867   \n",
       "2068      2015173              OOCBI       16303   6761243   9761252   \n",
       "2076       121845              DIACI       19899   7405646   9907453   \n",
       "2088         6087              HYDVU       21330   9740026  10203382   \n",
       "2095       412133              TRIVA       59681  18252752  10312411   \n",
       "2109       164328              PHYRM       15605   7445163  10560309   \n",
       "2122         3197              MARPO       24674  10938663  10744849   \n",
       "2132       112509              HORVV      194879  69923177  11072138   \n",
       "2142        63459              CHEQI       44776  18977586  11701164   \n",
       "2143        49451              NICAT       20969   7759483  11745940   \n",
       "2146         3659              CUCSA       23780   8741522  11842407   \n",
       "2147         3871              LUPAN       14126   5991414  11866187   \n",
       "2161       210143              COCAP       29356  10095839  12442408   \n",
       "2163        29730              GOSRA       66820  27745658  12538731   \n",
       "\n",
       "                                                                                                                          SciName  \\\n",
       "7                                             b'Desulfurococcus amylolyticus (strain DSM 18924 / JCM 16383 / VKM B-2413 / 1221n)'   \n",
       "110                            b'Methanothrix soehngenii (strain ATCC 5969 / DSM 3671 / JCM 10134 / NBRC 103675 / OCM 69 / GP-6)'   \n",
       "145                                                                                                       b'Archaeon GW2011_AR10'   \n",
       "146                                                                                                       b'Archaeon GW2011_AR15'   \n",
       "147                                                                                                       b'Archaeon GW2011_AR20'   \n",
       "148                                                                                                        b'Archaeon GW2011_AR5'   \n",
       "253                                                                                           b'Rhodococcus hoagii (strain 103S)'   \n",
       "269                                                                                                      b'Brevibacterium linens'   \n",
       "290                                                                                       b'Isoptericola variabilis (strain 225)'   \n",
       "306                                                                         b'Cutibacterium acnes (strain DSM 16379 / KPA171202)'   \n",
       "504                                                                        b'Chamaesiphon minutus (strain ATCC 27169 / PCC 6605)'   \n",
       "656                                                                                                      b'Staphylococcus hyicus'   \n",
       "716                                                                                                      b'Weissella viridescens'   \n",
       "911                                                                                                    b'Nitrospira moscoviensis'   \n",
       "927                                                                          b'Caulobacter vibrioides (strain ATCC 19089 / CB15)'   \n",
       "928                                                                             b'Caulobacter vibrioides (strain NA1000 / CB15N)'   \n",
       "969                                                                                                      b'Blastochloris viridis'   \n",
       "1016                                           b'Oceanicola granulosus (strain ATCC BAA-861 / DSM 15982 / KCTC 12143 / HTCC2516)'   \n",
       "1052                                                                                                       b'Wolbachia pipientis'   \n",
       "1244                                                b'Cardiobacterium hominis (strain ATCC 15826 / DSM 8339 / NCTC 10426 / 6573)'   \n",
       "1363                                                                      b'Buchnera aphidicola subsp. Schlechtendalia chinensis'   \n",
       "1382                                                                                       b'Providencia rettgeri (strain Dmel1)'   \n",
       "1416                                                                                                          b'Yersinia ruckeri'   \n",
       "1477                                                                                                 b'Moraxella nonliquefaciens'   \n",
       "1491                                                               b'Pseudomonas knackmussii (strain DSM 6978 / LMG 23759 / B13)'   \n",
       "1519                                                                                 b'Hydrogenovibrio crunogenus (strain XCL-2)'   \n",
       "1585                                                 b'Pseudodesulfovibrio aespoeensis (strain ATCC 700646 / DSM 10631 / Aspo-2)'   \n",
       "1586                                                  b'Pseudodesulfovibrio piezophilus (strain DSM 21447 / JCM 15486 / C1TLV30)'   \n",
       "1759                                                                                b'Mycoplasma wenyonii (strain Massachusetts)'   \n",
       "1783                                                                           b'Yanofskybacteria sp. (strain GW2011_GWA1_39_13)'   \n",
       "...                                                                                                                           ...   \n",
       "1894  b'Kazachstania naganishii (strain ATCC MYA-139 / BCRC 22969 / CBS 8797 / CCRC 22969 / KCTC 17520 / NBRC 10181 / NCYC 3082)'   \n",
       "1896                                                     b'Lachancea thermotolerans (strain ATCC 56472 / CBS 6340 / NRRL Y-8284)'   \n",
       "1899                                                                                 b'Saccharomyces cerevisiae (strain AWRI796)'   \n",
       "1900                                                                                b'Saccharomyces cerevisiae (strain FostersO)'   \n",
       "1901                                                                                  b'Saccharomyces cerevisiae (strain VIN 13)'   \n",
       "1902                                                                 b'Vanderwaltozyma polyspora (strain ATCC 22028 / DSM 70294)'   \n",
       "1933                                                                                     b'Vavraia culicis (isolate floridensis)'   \n",
       "1944                                                                                                    b'Nothobranchius furzeri'   \n",
       "1959                                                                                                        b'Fukomys damarensis'   \n",
       "1961                                                                                                       b'Chinchilla lanigera'   \n",
       "1962                                                                                                             b'Octodon degus'   \n",
       "1963                                                                                                           b'Jaculus jaculus'   \n",
       "1966                                                                                                        b'Nannospalax galili'   \n",
       "1973                                                                                                              b'Pan paniscus'   \n",
       "2012                                                                                                    b'Schmidtea mediterranea'   \n",
       "2023                                                                                                       b'Thelazia callipaeda'   \n",
       "2025                                                                                                         b'Meloidogyne hapla'   \n",
       "2068                                                                                                            b'Ooceraea biroi'   \n",
       "2076                                                                                                          b'Diaphorina citri'   \n",
       "2088                                                                                                            b'Hydra vulgaris'   \n",
       "2095                                                                                                     b'Trichomonas vaginalis'   \n",
       "2109                                                                                                      b'Phytophthora ramorum'   \n",
       "2122                                                                                                     b'Marchantia polymorpha'   \n",
       "2132                                                                                            b'Hordeum vulgare subsp. vulgare'   \n",
       "2142                                                                                                        b'Chenopodium quinoa'   \n",
       "2143                                                                                                       b'Nicotiana attenuata'   \n",
       "2146                                                                                                           b'Cucumis sativus'   \n",
       "2147                                                                                                     b'Lupinus angustifolius'   \n",
       "2161                                                                                                      b'Corchorus capsularis'   \n",
       "2163                                                                                                       b'Gossypium raimondii'   \n",
       "\n",
       "                                           CommonName  \\\n",
       "7                                                 b''   \n",
       "110                                               b''   \n",
       "145                                               b''   \n",
       "146                                               b''   \n",
       "147                                               b''   \n",
       "148                                               b''   \n",
       "253                                               b''   \n",
       "269                                               b''   \n",
       "290                                               b''   \n",
       "306                                               b''   \n",
       "504                                               b''   \n",
       "656                                               b''   \n",
       "716                                               b''   \n",
       "911                                               b''   \n",
       "927                                               b''   \n",
       "928                                               b''   \n",
       "969                                               b''   \n",
       "1016                                              b''   \n",
       "1052                                              b''   \n",
       "1244                                              b''   \n",
       "1363                                              b''   \n",
       "1382                                              b''   \n",
       "1416                                              b''   \n",
       "1477                                              b''   \n",
       "1491                                              b''   \n",
       "1519                                              b''   \n",
       "1585                                              b''   \n",
       "1586                                              b''   \n",
       "1759                                              b''   \n",
       "1783                                              b''   \n",
       "...                                               ...   \n",
       "1894                                         b'Yeast'   \n",
       "1896                                         b'Yeast'   \n",
       "1899                                 b\"Baker's yeast\"   \n",
       "1900                                 b\"Baker's yeast\"   \n",
       "1901                                 b\"Baker's yeast\"   \n",
       "1902                                              b''   \n",
       "1933                       b'Microsporidian parasite'   \n",
       "1944                           b'Turquoise killifish'   \n",
       "1959                           b'Damaraland mole rat'   \n",
       "1961                        b'Long-tailed chinchilla'   \n",
       "1962                                          b'Degu'   \n",
       "1963                        b'Lesser Egyptian jerboa'   \n",
       "1966  b'Northern Israeli blind subterranean mole rat'   \n",
       "1973                              b'Pygmy chimpanzee'   \n",
       "2012                 b'Freshwater planarian flatworm'   \n",
       "2023                              b'Oriental eyeworm'   \n",
       "2025                       b'Root-knot nematode worm'   \n",
       "2068                                           b'Ant'   \n",
       "2076                          b'Asian citrus psyllid'   \n",
       "2088                                         b'Hydra'   \n",
       "2095                                              b''   \n",
       "2109                        b'Sudden oak death agent'   \n",
       "2122                                     b'Liverwort'   \n",
       "2132                           b'Domesticated barley'   \n",
       "2142                                        b'Quinoa'   \n",
       "2143                                b'Coyote tobacco'   \n",
       "2146                                      b'Cucumber'   \n",
       "2147                     b'Narrow-leaved blue lupine'   \n",
       "2161                                          b'Jute'   \n",
       "2163                              b'New World cotton'   \n",
       "\n",
       "                              SynName  \\\n",
       "7                                 b''   \n",
       "110                               b''   \n",
       "145                               b''   \n",
       "146                               b''   \n",
       "147                               b''   \n",
       "148                               b''   \n",
       "253                               b''   \n",
       "269                               b''   \n",
       "290                               b''   \n",
       "306                               b''   \n",
       "504                               b''   \n",
       "656                               b''   \n",
       "716      b'Lactobacillus viridescens'   \n",
       "911                               b''   \n",
       "927                               b''   \n",
       "928                               b''   \n",
       "969       b'Rhodopseudomonas viridis'   \n",
       "1016                              b''   \n",
       "1052                              b''   \n",
       "1244                              b''   \n",
       "1363                              b''   \n",
       "1382              b'Proteus rettgeri'   \n",
       "1416                              b''   \n",
       "1477                              b''   \n",
       "1491                              b''   \n",
       "1519                              b''   \n",
       "1585                              b''   \n",
       "1586                              b''   \n",
       "1759        b'Eperythrozoon wenyonii'   \n",
       "1783                              b''   \n",
       "...                               ...   \n",
       "1894      b'Saccharomyces naganishii'   \n",
       "1896  b'Kluyveromyces thermotolerans'   \n",
       "1899                              b''   \n",
       "1900                              b''   \n",
       "1901                              b''   \n",
       "1902      b'Kluyveromyces polysporus'   \n",
       "1933                              b''   \n",
       "1944                              b''   \n",
       "1959          b'Cryptomys damarensis'   \n",
       "1961          b'Chinchilla villidera'   \n",
       "1962                 b'Sciurus degus'   \n",
       "1963                              b''   \n",
       "1966                 b'Spalax galili'   \n",
       "1973                        b'Bonobo'   \n",
       "2012                              b''   \n",
       "2023            b'Parasitic nematode'   \n",
       "2025                              b''   \n",
       "2068                              b''   \n",
       "2076                              b''   \n",
       "2088               b'Hydra attenuata'   \n",
       "2095                              b''   \n",
       "2109                              b''   \n",
       "2122           b'Marchantia aquatica'   \n",
       "2132                              b''   \n",
       "2142                              b''   \n",
       "2143                              b''   \n",
       "2146                              b''   \n",
       "2147                              b''   \n",
       "2161                              b''   \n",
       "2163                              b''   \n",
       "\n",
       "                                                                                 Release  \\\n",
       "7                                     b'16-JUN-2009 (Rel. 107, Last updated, Version 3)'   \n",
       "110                                   b'14-JUL-2011 (Rel. 109, Last updated, Version 3)'   \n",
       "145                                                              b'ENA; GCA_000830275.1'   \n",
       "146                                                              b'ENA; GCA_000830295.1'   \n",
       "147                                                              b'ENA; GCA_000830315.1'   \n",
       "148                                                              b'ENA; GCA_000806115.1'   \n",
       "253                                   b'08-MAR-2011 (Rel. 129, Last updated, Version 1)'   \n",
       "269                           b'Ensembl Bacteria 38; Brevibacterium_linens_AE038-8_v1.0'   \n",
       "290                                                   b'Ensembl Bacteria 37; ASM21510v1'   \n",
       "306                                 b'02-MAR-2010 (Rel. 118, Last updated, Version 101)'   \n",
       "504                                                   b'Ensembl Bacteria 37; ASM31714v1'   \n",
       "656                                                   b'Ensembl Bacteria 38; ASM81608v1'   \n",
       "716                                                  b'Ensembl Bacteria 38; ASM143735v1'   \n",
       "911                                                  b'Ensembl Bacteria 37; ASM127377v1'   \n",
       "927                                 b'01-SEP-2009 (Rel. 110, Last updated, Version 111)'   \n",
       "928                                   b'13-OCT-2009 (Rel. 112, Last updated, Version 7)'   \n",
       "969                                 b'Ensembl Bacteria 38; Blastochloris_viridis_genome'   \n",
       "1016                                                  b'Ensembl Bacteria 38; ASM15330v1'   \n",
       "1052                                                 b'Ensembl Bacteria 38; ASM175266v1'   \n",
       "1244                                                  b'Ensembl Bacteria 38; ASM16065v1'   \n",
       "1363                                                 b'Ensembl Bacteria 37; ASM164811v1'   \n",
       "1382                                                  b'Ensembl Bacteria 38; ASM31483v2'   \n",
       "1416                                                  b'Ensembl Bacteria 38; ASM73716v1'   \n",
       "1477                                                 b'Ensembl Bacteria 37; ASM167915v1'   \n",
       "1491                                                       b'Ensembl Bacteria 36; PKB13'   \n",
       "1519                                  b'30-JAN-2014 (Rel. 119, Last updated, Version 5)'   \n",
       "1585                                  b'20-JUN-2014 (Rel. 121, Last updated, Version 3)'   \n",
       "1586                                  b'27-FEB-2015 (Rel. 123, Last updated, Version 3)'   \n",
       "1759                                                  b'Ensembl Bacteria 37; ASM27779v1'   \n",
       "1783                                                  b'Ensembl Bacteria 37; ASM99349v1'   \n",
       "...                                                                                  ...   \n",
       "1894                                                     b'Ensembl Fungi 36; ASM34898v1'   \n",
       "1896                                                     b'Ensembl Fungi 38; ASM14280v1'   \n",
       "1899                                                  b'Ensembl Fungi 38; ScAWRI796_v01'   \n",
       "1900                                                 b'Ensembl Fungi 36; ScFostersO_v01'   \n",
       "1901                                                    b'Ensembl Fungi 38; ScVIN13_v01'   \n",
       "1902                                                     b'Ensembl Fungi 38; ASM15003v1'   \n",
       "1933                                       b'Ensembl Fungi 38; Vavr_culi_floridensis_V1'   \n",
       "1944                                           b'Refseq; ; GCF_001465895.1; 18-MAR-2016'   \n",
       "1959                                                             b'Ensembl 91; DMR_v1.0'   \n",
       "1961                                                            b'Ensembl 90; ChiLan1.0'   \n",
       "1962                                                            b'Ensembl 90; OctDeg1.0'   \n",
       "1963                                                            b'Ensembl 90; JacJac1.0'   \n",
       "1966                                                        b'Ensembl 90; S.galili_v1.0'   \n",
       "1973                                                       b'Ensembl Main 91; panpan1.1'   \n",
       "2012                                             b'Wormbase Parasite WBPS9; SmedGD_c1.3'   \n",
       "2023             b'Wormbase Parasite WBPS9; T_callipaeda_Ticino_v1_0_4; GCA_000981425.1'   \n",
       "2025                               b'Wormbase Parasite WBPS9; Freeze_1; GCA_000172435.1'   \n",
       "2068                                  b'30-APR-2014 (Rel. 120, Last updated, Version 1)'   \n",
       "2076  b'Refseq; Diaci psyllid genome assembly version 1.1; GCF_000475195.1; 30-JUN-2016'   \n",
       "2088                                                                      b'08-JUN-2015'   \n",
       "2095                                                    b'Ensembl Protists 37; ASM282v1'   \n",
       "2109                                                  b'Ensembl Protists 37; ASM14973v1'   \n",
       "2122                                                                                 b''   \n",
       "2132                                               b'Ensembl Plants 38; Hv_IBSC_PGSB_v2'   \n",
       "2142                                                                                 b''   \n",
       "2143                                                       b'Ensembl Plants 38; NIATTr2'   \n",
       "2146                                                      b'Ensembl Plants 38; ASM407v2'   \n",
       "2147                                             b'Ensembl Plants 38; LupAngTanjil_v1.0'   \n",
       "2161                                                   b'Ensembl Plants 38; CCACVL1_1.0'   \n",
       "2163                                                 b'Ensembl Plants 38; Graimondii2_0'   \n",
       "\n",
       "                                                                                         Url  \\\n",
       "7                                            b'http://www.expasy.org/sprot/hamap/DESA1.html'   \n",
       "110                                          b'http://www.expasy.org/sprot/hamap/METSG.html'   \n",
       "145                                    b'http://www.ebi.ac.uk/ena/data/view/GCA_000830275.1'   \n",
       "146                                    b'http://www.ebi.ac.uk/ena/data/view/GCA_000830295.1'   \n",
       "147                                    b'http://www.ebi.ac.uk/ena/data/view/GCA_000830315.1'   \n",
       "148                                    b'http://www.ebi.ac.uk/ena/data/view/GCA_000806115.1'   \n",
       "253                                          b'http://www.expasy.org/sprot/hamap/RHOH1.html'   \n",
       "269                                     b'http://bacteria.ensembl.org/Brevibacterium_linens'   \n",
       "290                               b'http://bacteria.ensembl.org/Isoptericola_variabilis_225'   \n",
       "306                                          b'http://www.expasy.org/sprot/hamap/CUTAK.html'   \n",
       "504                             b'http://bacteria.ensembl.org/Chamaesiphon_minutus_PCC_6605'   \n",
       "656                                     b'http://bacteria.ensembl.org/Staphylococcus_hyicus'   \n",
       "716                                     b'http://bacteria.ensembl.org/Weissella_viridescens'   \n",
       "911                                   b'http://bacteria.ensembl.org/Nitrospira_moscoviensis'   \n",
       "927                                          b'http://www.expasy.org/sprot/hamap/CAUVC.html'   \n",
       "928                                          b'http://www.expasy.org/sprot/hamap/CAUVN.html'   \n",
       "969                     b'http://bacteria.ensembl.org/Blastochloris_viridis_(GCA_001459775)'   \n",
       "1016                           b'http://bacteria.ensembl.org/Oceanicola_granulosus_HTCC2516'   \n",
       "1052                                      b'http://bacteria.ensembl.org/Wolbachia_pipientis'   \n",
       "1244                       b'http://bacteria.ensembl.org/Cardiobacterium_hominis_ATCC_15826'   \n",
       "1363          b'http://bacteria.ensembl.org/Buchnera_aphidicola_(Schlechtendalia_chinensis)'   \n",
       "1382                               b'http://bacteria.ensembl.org/Providencia_rettgeri_Dmel1'   \n",
       "1416                                         b'http://bacteria.ensembl.org/Yersinia_ruckeri'   \n",
       "1477                                b'http://bacteria.ensembl.org/Moraxella_nonliquefaciens'   \n",
       "1491                              b'http://bacteria.ensembl.org/Pseudomonas_knackmussii_B13'   \n",
       "1519                                         b'http://www.expasy.org/sprot/hamap/HYDCU.html'   \n",
       "1585                                         b'http://www.expasy.org/sprot/hamap/PSEA9.html'   \n",
       "1586                                         b'http://www.expasy.org/sprot/hamap/PSEP2.html'   \n",
       "1759                   b'http://bacteria.ensembl.org/Mycoplasma_wenyonii_str._Massachusetts'   \n",
       "1783  b'http://bacteria.ensembl.org/Candidatus_Yanofskybacteria_bacterium_GW2011_GWA1_39_13'   \n",
       "...                                                                                      ...   \n",
       "1894                            b'http://fungi.ensembl.org/Kazachstania_naganishii_CBS_8797'   \n",
       "1896                           b'http://fungi.ensembl.org/Lachancea_thermotolerans_CBS_6340'   \n",
       "1899                            b'http://fungi.ensembl.org/Saccharomyces_cerevisiae_AWRI796'   \n",
       "1900                           b'http://fungi.ensembl.org/Saccharomyces_cerevisiae_FostersO'   \n",
       "1901                              b'http://fungi.ensembl.org/Saccharomyces_cerevisiae_Vin13'   \n",
       "1902                         b'http://fungi.ensembl.org/Vanderwaltozyma_polyspora_DSM_70294'   \n",
       "1933                          b'http://fungi.ensembl.org/Vavraia_culicis_subsp._floridensis'   \n",
       "1944                     b'https://www.ncbi.nlm.nih.gov/genome/?term=Nothobranchius+furzeri'   \n",
       "1959                                            b'http://www.ensembl.org/Fukomys_damarensis'   \n",
       "1961                                           b'http://www.ensembl.org/Chinchilla_lanigera'   \n",
       "1962                                                 b'http://www.ensembl.org/Octodon_degus'   \n",
       "1963                                               b'http://www.ensembl.org/Jaculus_jaculus'   \n",
       "1966                                            b'http://www.ensembl.org/Nannospalax_galili'   \n",
       "1973                                                 b'http://main.ensembl.org/Pan_paniscus'   \n",
       "2012           b'http://parasite.wormbase.org/Schmidtea_mediterranea_prjna12585/Info/Index/'   \n",
       "2023               b'http://parasite.wormbase.org/Thelazia_callipaeda_prjeb1205/Info/Index/'   \n",
       "2025                b'http://parasite.wormbase.org/Meloidogyne_hapla_prjna29083/Info/Index/'   \n",
       "2068                                         b'http://www.uniprot.org/proteomes/UP000053097'   \n",
       "2076                           b'https://www.ncbi.nlm.nih.gov/genome/?term=Diaphorina+citri'   \n",
       "2088                                                                                     b''   \n",
       "2095                                 b'http://protists.ensembl.org/Trichomonas_vaginalis_G3'   \n",
       "2109                                     b'http://protists.ensembl.org/Phytophthora_ramorum'   \n",
       "2122             b'https://phytozome.jgi.doe.gov/pz/portal.html#!info?alias=Org_Mpolymorpha'   \n",
       "2132                                            b'http://plants.ensembl.org/Hordeum_vulgare'   \n",
       "2142                                          b'http://www.cbrc.kaust.edu.sa/chenopodiumdb/'   \n",
       "2143                                b'http://plants.ensembl.org/Nicotiana_attenuata_str._UT'   \n",
       "2146                                            b'http://plants.ensembl.org/Cucumis_sativus'   \n",
       "2147                                      b'http://plants.ensembl.org/Lupinus_angustifolius'   \n",
       "2161                                       b'http://plants.ensembl.org/Corchorus_capsularis'   \n",
       "2163                                        b'http://plants.ensembl.org/Gossypium_raimondii'   \n",
       "\n",
       "                                                                                                                      Source  \\\n",
       "7                                        b'ftp://ftp.ebi.ac.uk/pub/databases/genome_reviews/dat/cellular/CP001140_GR.dat.gz'   \n",
       "110                                                              b'http://www.ebi.ac.uk/cgi-bin/dbfetch?db=embl&id=CP002565'   \n",
       "145                                                                    b'http://www.ebi.ac.uk/ena/data/view/GCA_000830275.1'   \n",
       "146                                                                    b'http://www.ebi.ac.uk/ena/data/view/GCA_000830295.1'   \n",
       "147                                                                    b'http://www.ebi.ac.uk/ena/data/view/GCA_000830315.1'   \n",
       "148                                                                    b'http://www.ebi.ac.uk/ena/data/view/GCA_000806115.1'   \n",
       "253                                      b'ftp://ftp.ebi.ac.uk/pub/databases/genome_reviews/dat/cellular/FN563149_GR.dat.gz'   \n",
       "269                                       b'ftp://ftp.ensemblgenomes.org/pub/bacteria/release-38/embl/brevibacterium_linens'   \n",
       "290                                 b'ftp://ftp.ensemblgenomes.org/pub/bacteria/release-37/embl/isoptericola_variabilis_225'   \n",
       "306                                      b'ftp://ftp.ebi.ac.uk/pub/databases/genome_reviews/dat/cellular/AE017283_GR.dat.gz'   \n",
       "504                               b'ftp://ftp.ensemblgenomes.org/pub/bacteria/release-37/embl/chamaesiphon_minutus_pcc_6605'   \n",
       "656                                       b'ftp://ftp.ensemblgenomes.org/pub/bacteria/release-38/embl/staphylococcus_hyicus'   \n",
       "716                                       b'ftp://ftp.ensemblgenomes.org/pub/bacteria/release-38/embl/weissella_viridescens'   \n",
       "911                                     b'ftp://ftp.ensemblgenomes.org/pub/bacteria/release-37/embl/nitrospira_moscoviensis'   \n",
       "927                                      b'ftp://ftp.ebi.ac.uk/pub/databases/genome_reviews/dat/cellular/AE005673_GR.dat.gz'   \n",
       "928                                      b'ftp://ftp.ebi.ac.uk/pub/databases/genome_reviews/dat/cellular/CP001340_GR.dat.gz'   \n",
       "969                       b'ftp://ftp.ensemblgenomes.org/pub/bacteria/release-38/embl/blastochloris_viridis_(gca_001459775)'   \n",
       "1016                             b'ftp://ftp.ensemblgenomes.org/pub/bacteria/release-38/embl/oceanicola_granulosus_htcc2516'   \n",
       "1052                                        b'ftp://ftp.ensemblgenomes.org/pub/bacteria/release-38/embl/wolbachia_pipientis'   \n",
       "1244                         b'ftp://ftp.ensemblgenomes.org/pub/bacteria/release-38/embl/cardiobacterium_hominis_atcc_15826'   \n",
       "1363            b'ftp://ftp.ensemblgenomes.org/pub/bacteria/release-37/embl/buchnera_aphidicola_(schlechtendalia_chinensis)'   \n",
       "1382                                 b'ftp://ftp.ensemblgenomes.org/pub/bacteria/release-38/embl/providencia_rettgeri_dmel1'   \n",
       "1416                                           b'ftp://ftp.ensemblgenomes.org/pub/bacteria/release-38/embl/yersinia_ruckeri'   \n",
       "1477                                  b'ftp://ftp.ensemblgenomes.org/pub/bacteria/release-37/embl/moraxella_nonliquefaciens'   \n",
       "1491                                b'ftp://ftp.ensemblgenomes.org/pub/bacteria/release-36/embl/pseudomonas_knackmussii_b13'   \n",
       "1519                                                             b'http://www.ebi.ac.uk/cgi-bin/dbfetch?db=embl&id=CP000109'   \n",
       "1585                                                                          b'http://www.ebi.ac.uk/ena/data/view/CP002431'   \n",
       "1586                                                             b'http://www.ebi.ac.uk/cgi-bin/dbfetch?db=embl&id=FO203427'   \n",
       "1759                     b'ftp://ftp.ensemblgenomes.org/pub/bacteria/release-37/embl/mycoplasma_wenyonii_str._massachusetts'   \n",
       "1783    b'ftp://ftp.ensemblgenomes.org/pub/bacteria/release-37/embl/candidatus_yanofskybacteria_bacterium_gw2011_gwa1_39_13'   \n",
       "...                                                                                                                      ...   \n",
       "1894                              b'ftp://ftp.ensemblgenomes.org/pub/fungi/release-36/embl/kazachstania_naganishii_cbs_8797'   \n",
       "1896                             b'ftp://ftp.ensemblgenomes.org/pub/fungi/release-38/embl/lachancea_thermotolerans_cbs_6340'   \n",
       "1899                              b'ftp://ftp.ensemblgenomes.org/pub/fungi/release-38/embl/saccharomyces_cerevisiae_awri796'   \n",
       "1900                             b'ftp://ftp.ensemblgenomes.org/pub/fungi/release-36/embl/saccharomyces_cerevisiae_fosterso'   \n",
       "1901                                b'ftp://ftp.ensemblgenomes.org/pub/fungi/release-38/embl/saccharomyces_cerevisiae_vin13'   \n",
       "1902                           b'ftp://ftp.ensemblgenomes.org/pub/fungi/release-38/embl/vanderwaltozyma_polyspora_dsm_70294'   \n",
       "1933                            b'ftp://ftp.ensemblgenomes.org/pub/fungi/release-38/embl/vavraia_culicis_subsp._floridensis'   \n",
       "1944                                             b'ftp://ftp.ncbi.nlm.nih.gov/genomes/all/GCF/001/465/895/GCF_001465895.1_/'   \n",
       "1959                                                        b'ftp://ftp.ensembl.org/pub/release-91/embl/fukomys_damarensis/'   \n",
       "1961                                                       b'ftp://ftp.ensembl.org/pub/release-90/embl/chinchilla_lanigera/'   \n",
       "1962                                                             b'ftp://ftp.ensembl.org/pub/release-90/embl/octodon_degus/'   \n",
       "1963                                                           b'ftp://ftp.ensembl.org/pub/release-90/embl/jaculus_jaculus/'   \n",
       "1966                                                        b'ftp://ftp.ensembl.org/pub/release-90/embl/nannospalax_galili/'   \n",
       "1973                                                   b'ftp://ftp.ensemblgenomes.org/pub/main/release-91/embl/pan_paniscus'   \n",
       "2012        b'ftp://ftp.ebi.ac.uk/pub/databases/wormbase/parasite/releases/WBPS9/species/schmidtea_mediterranea/PRJNA12585/'   \n",
       "2023            b'ftp://ftp.ebi.ac.uk/pub/databases/wormbase/parasite/releases/WBPS9/species/thelazia_callipaeda/PRJEB1205/'   \n",
       "2025             b'ftp://ftp.ebi.ac.uk/pub/databases/wormbase/parasite/releases/WBPS9/species/meloidogyne_hapla/PRJNA29083/'   \n",
       "2068                                      b'http://www.ebi.ac.uk/ena/data/view/KK107008-KK111586&display=text&expanded=true'   \n",
       "2076    b'ftp://ftp.ncbi.nlm.nih.gov/genomes/all/GCF/000/475/195/GCF_000475195.1_Diaci psyllid genome assembly version 1.1/'   \n",
       "2088                                                                                                                     b''   \n",
       "2095  b'ftp://ftp.ensemblgenomes.org/pub/protists/release-37/embl/protists_parabasalia1_collection/trichomonas_vaginalis_g3'   \n",
       "2109                                       b'ftp://ftp.ensemblgenomes.org/pub/protists/release-37/embl/phytophthora_ramorum'   \n",
       "2122                                    b'https://genome.jgi.doe.gov/pages/dynamicOrganismDownload.jsf?organism=Mpolymorpha'   \n",
       "2132                                              b'ftp://ftp.ensemblgenomes.org/pub/plants/release-38/embl/hordeum_vulgare'   \n",
       "2142                                                                 b'http://www.cbrc.kaust.edu.sa/chenopodiumdb/download/'   \n",
       "2143                                  b'ftp://ftp.ensemblgenomes.org/pub/plants/release-38/embl/nicotiana_attenuata_str._ut'   \n",
       "2146                                              b'ftp://ftp.ensemblgenomes.org/pub/plants/release-38/embl/cucumis_sativus'   \n",
       "2147                                        b'ftp://ftp.ensemblgenomes.org/pub/plants/release-38/embl/lupinus_angustifolius'   \n",
       "2161                                         b'ftp://ftp.ensemblgenomes.org/pub/plants/release-38/embl/corchorus_capsularis'   \n",
       "2163                                          b'ftp://ftp.ensemblgenomes.org/pub/plants/release-38/embl/gossypium_raimondii'   \n",
       "\n",
       "            Date  IsPolyploid  \n",
       "7     1245621600        False  \n",
       "110   1345413600        False  \n",
       "145   1522188000        False  \n",
       "146   1522188000        False  \n",
       "147   1522188000        False  \n",
       "148   1522188000        False  \n",
       "253   1302472800        False  \n",
       "269   1518735600        False  \n",
       "290   1510095600        False  \n",
       "306   1269212400        False  \n",
       "504   1509318000        False  \n",
       "656   1518735600        False  \n",
       "716   1518735600        False  \n",
       "911   1510182000        False  \n",
       "927   1253138400        False  \n",
       "928   1257116400        False  \n",
       "969   1518735600        False  \n",
       "1016  1520118000        False  \n",
       "1052  1518735600        False  \n",
       "1244  1518735600        False  \n",
       "1363  1510095600        False  \n",
       "1382  1517180400        False  \n",
       "1416  1520204400        False  \n",
       "1477  1510095600        False  \n",
       "1491  1503439200        False  \n",
       "1519  1395702000        False  \n",
       "1585  1447801200        False  \n",
       "1586  1426633200        False  \n",
       "1759  1510095600        False  \n",
       "1783  1509318000        False  \n",
       "...          ...          ...  \n",
       "1894  1502920800        False  \n",
       "1896  1520204400        False  \n",
       "1899  1520290800        False  \n",
       "1900  1502920800        False  \n",
       "1901  1520290800        False  \n",
       "1902  1520290800        False  \n",
       "1933  1520290800        False  \n",
       "1944  1517958000        False  \n",
       "1959  1517180400        False  \n",
       "1961  1510182000        False  \n",
       "1962  1503525600        False  \n",
       "1963  1511996400        False  \n",
       "1966  1510182000        False  \n",
       "1973  1515884400        False  \n",
       "2012  1517266800        False  \n",
       "2023  1517180400        False  \n",
       "2025  1517180400        False  \n",
       "2068  1470261600        False  \n",
       "2076  1510095600        False  \n",
       "2088  1509055200        False  \n",
       "2095  1510614000        False  \n",
       "2109  1510614000        False  \n",
       "2122  1512946800        False  \n",
       "2132  1521673200        False  \n",
       "2142  1513551600        False  \n",
       "2143  1520118000        False  \n",
       "2146  1515884400        False  \n",
       "2147  1520722800        False  \n",
       "2161  1520809200        False  \n",
       "2163  1522274400        False  \n",
       "\n",
       "[75 rows x 13 columns]"
      ]
     },
     "execution_count": 13,
     "metadata": {},
     "output_type": "execute_result"
    }
   ],
   "source": [
    "#latest genomes added\n",
    "genome1_df = pd.DataFrame(sanity_sessions[2].genome_table.read())\n",
    "genome1_df = decode_column_in_df(genome1_df, \"UniProtSpeciesCode\")\n",
    "genome2_df = pd.DataFrame(sanity_sessions[3].genome_table.read())\n",
    "genome2_df = decode_column_in_df(genome2_df, \"UniProtSpeciesCode\")\n",
    "\n",
    "diff = get_differences_in_genomes_or_taxa(genome_df, sanity_sessions[2], sanity_sessions[3], \"genomes\")\n",
    "genome2_df.loc[genome2_df['UniProtSpeciesCode'].isin(diff['added'])] "
   ]
  },
  {
   "cell_type": "markdown",
   "metadata": {
    "hidden": true,
    "run_control": {
     "frozen": false,
     "read_only": false
    }
   },
   "source": [
    "## Genomes removed"
   ]
  },
  {
   "cell_type": "code",
   "execution_count": 14,
   "metadata": {
    "ExecuteTime": {
     "end_time": "2018-08-13T11:10:07.210526Z",
     "start_time": "2018-08-13T11:10:07.178865Z"
    },
    "hidden": true,
    "run_control": {
     "frozen": false,
     "read_only": false
    },
    "scrolled": true
   },
   "outputs": [
    {
     "data": {
      "text/html": [
       "<div>\n",
       "<style scoped>\n",
       "    .dataframe tbody tr th:only-of-type {\n",
       "        vertical-align: middle;\n",
       "    }\n",
       "\n",
       "    .dataframe tbody tr th {\n",
       "        vertical-align: top;\n",
       "    }\n",
       "\n",
       "    .dataframe thead th {\n",
       "        text-align: right;\n",
       "    }\n",
       "</style>\n",
       "<table border=\"1\" class=\"dataframe\">\n",
       "  <thead>\n",
       "    <tr style=\"text-align: right;\">\n",
       "      <th></th>\n",
       "      <th>NCBITaxonId</th>\n",
       "      <th>UniProtSpeciesCode</th>\n",
       "      <th>TotEntries</th>\n",
       "      <th>TotAA</th>\n",
       "      <th>EntryOff</th>\n",
       "      <th>SciName</th>\n",
       "      <th>CommonName</th>\n",
       "      <th>SynName</th>\n",
       "      <th>Release</th>\n",
       "      <th>Url</th>\n",
       "      <th>Source</th>\n",
       "      <th>IsPolyploid</th>\n",
       "    </tr>\n",
       "  </thead>\n",
       "  <tbody>\n",
       "    <tr>\n",
       "      <th>7</th>\n",
       "      <td>490899</td>\n",
       "      <td>DESK1</td>\n",
       "      <td>1470</td>\n",
       "      <td>400448</td>\n",
       "      <td>11580</td>\n",
       "      <td>b'Desulfurococcus kamchatkensis (strain DSM 18924 / JCM 16383 / VKM B-2413 / 1221n)'</td>\n",
       "      <td>b''</td>\n",
       "      <td>b''</td>\n",
       "      <td>b'16-JUN-2009 (Rel. 107, Last updated, Version 3)'</td>\n",
       "      <td>b'http://www.expasy.org/sprot/hamap/DESK1.html'</td>\n",
       "      <td>b'ftp://ftp.ebi.ac.uk/pub/databases/genome_reviews/dat/cellular/CP001140_GR.dat.gz'</td>\n",
       "      <td>False</td>\n",
       "    </tr>\n",
       "    <tr>\n",
       "      <th>109</th>\n",
       "      <td>990316</td>\n",
       "      <td>METCG</td>\n",
       "      <td>2782</td>\n",
       "      <td>819844</td>\n",
       "      <td>259580</td>\n",
       "      <td>b'Methanosaeta concilii (strain ATCC 5969 / DSM 3671 / JCM 10134 / NBRC 103675 / OCM 69 / GP-6)'</td>\n",
       "      <td>b''</td>\n",
       "      <td>b''</td>\n",
       "      <td>b'14-JUL-2011 (Rel. 109, Last updated, Version 3)'</td>\n",
       "      <td>b'http://www.expasy.org/sprot/hamap/METCG.html'</td>\n",
       "      <td>b'http://www.ebi.ac.uk/cgi-bin/dbfetch?db=embl&amp;id=CP002565'</td>\n",
       "      <td>False</td>\n",
       "    </tr>\n",
       "    <tr>\n",
       "      <th>249</th>\n",
       "      <td>685727</td>\n",
       "      <td>RHOE1</td>\n",
       "      <td>4598</td>\n",
       "      <td>1540306</td>\n",
       "      <td>674613</td>\n",
       "      <td>b'Rhodococcus equi (strain 103S)'</td>\n",
       "      <td>b''</td>\n",
       "      <td>b''</td>\n",
       "      <td>b'08-MAR-2011 (Rel. 129, Last updated, Version 1)'</td>\n",
       "      <td>b'http://www.expasy.org/sprot/hamap/RHOE1.html'</td>\n",
       "      <td>b'ftp://ftp.ebi.ac.uk/pub/databases/genome_reviews/dat/cellular/FN563149_GR.dat.gz'</td>\n",
       "      <td>False</td>\n",
       "    </tr>\n",
       "    <tr>\n",
       "      <th>300</th>\n",
       "      <td>267747</td>\n",
       "      <td>PROAC</td>\n",
       "      <td>2294</td>\n",
       "      <td>760875</td>\n",
       "      <td>900171</td>\n",
       "      <td>b'Propionibacterium acnes (strain KPA171202 / DSM 16379)'</td>\n",
       "      <td>b''</td>\n",
       "      <td>b''</td>\n",
       "      <td>b'02-MAR-2010 (Rel. 118, Last updated, Version 101)'</td>\n",
       "      <td>b'http://www.expasy.org/sprot/hamap/PROAC.html'</td>\n",
       "      <td>b'ftp://ftp.ebi.ac.uk/pub/databases/genome_reviews/dat/cellular/AE017283_GR.dat.gz'</td>\n",
       "      <td>False</td>\n",
       "    </tr>\n",
       "    <tr>\n",
       "      <th>917</th>\n",
       "      <td>190650</td>\n",
       "      <td>CAUCR</td>\n",
       "      <td>3714</td>\n",
       "      <td>1204535</td>\n",
       "      <td>2798281</td>\n",
       "      <td>b'Caulobacter crescentus (strain ATCC 19089 / CB15)'</td>\n",
       "      <td>b''</td>\n",
       "      <td>b''</td>\n",
       "      <td>b'01-SEP-2009 (Rel. 110, Last updated, Version 111)'</td>\n",
       "      <td>b'http://www.expasy.org/sprot/hamap/CAUCR.html'</td>\n",
       "      <td>b'ftp://ftp.ebi.ac.uk/pub/databases/genome_reviews/dat/cellular/AE005673_GR.dat.gz'</td>\n",
       "      <td>False</td>\n",
       "    </tr>\n",
       "    <tr>\n",
       "      <th>918</th>\n",
       "      <td>565050</td>\n",
       "      <td>CAUCN</td>\n",
       "      <td>3852</td>\n",
       "      <td>1223896</td>\n",
       "      <td>2801995</td>\n",
       "      <td>b'Caulobacter crescentus (strain NA1000 / CB15N)'</td>\n",
       "      <td>b''</td>\n",
       "      <td>b''</td>\n",
       "      <td>b'13-OCT-2009 (Rel. 112, Last updated, Version 7)'</td>\n",
       "      <td>b'http://www.expasy.org/sprot/hamap/CAUCN.html'</td>\n",
       "      <td>b'ftp://ftp.ebi.ac.uk/pub/databases/genome_reviews/dat/cellular/CP001340_GR.dat.gz'</td>\n",
       "      <td>False</td>\n",
       "    </tr>\n",
       "    <tr>\n",
       "      <th>1503</th>\n",
       "      <td>317025</td>\n",
       "      <td>THICR</td>\n",
       "      <td>2187</td>\n",
       "      <td>722179</td>\n",
       "      <td>5017519</td>\n",
       "      <td>b'Thiomicrospira crunogena (strain XCL-2)'</td>\n",
       "      <td>b''</td>\n",
       "      <td>b''</td>\n",
       "      <td>b'30-JAN-2014 (Rel. 119, Last updated, Version 5)'</td>\n",
       "      <td>b'http://www.expasy.org/sprot/hamap/THICR.html'</td>\n",
       "      <td>b'http://www.ebi.ac.uk/cgi-bin/dbfetch?db=embl&amp;id=CP000109'</td>\n",
       "      <td>False</td>\n",
       "    </tr>\n",
       "    <tr>\n",
       "      <th>1557</th>\n",
       "      <td>643562</td>\n",
       "      <td>DESAO</td>\n",
       "      <td>3268</td>\n",
       "      <td>1066402</td>\n",
       "      <td>5214347</td>\n",
       "      <td>b'Desulfovibrio aespoeensis (strain ATCC 700646 / DSM 10631 / Aspo-2)'</td>\n",
       "      <td>b''</td>\n",
       "      <td>b''</td>\n",
       "      <td>b'20-JUN-2014 (Rel. 121, Last updated, Version 3)'</td>\n",
       "      <td>b'http://www.expasy.org/sprot/hamap/DESAO.html'</td>\n",
       "      <td>b'http://www.ebi.ac.uk/ena/data/view/CP002431'</td>\n",
       "      <td>False</td>\n",
       "    </tr>\n",
       "    <tr>\n",
       "      <th>1561</th>\n",
       "      <td>1322246</td>\n",
       "      <td>DESPC</td>\n",
       "      <td>3342</td>\n",
       "      <td>1080842</td>\n",
       "      <td>5228342</td>\n",
       "      <td>b'Desulfovibrio piezophilus (strain DSM 21447 / JCM 15486 / C1TLV30)'</td>\n",
       "      <td>b''</td>\n",
       "      <td>b''</td>\n",
       "      <td>b'27-FEB-2015 (Rel. 123, Last updated, Version 3)'</td>\n",
       "      <td>b'http://www.expasy.org/sprot/hamap/DESPC.html'</td>\n",
       "      <td>b'http://www.ebi.ac.uk/cgi-bin/dbfetch?db=embl&amp;id=FO203427'</td>\n",
       "      <td>False</td>\n",
       "    </tr>\n",
       "    <tr>\n",
       "      <th>2015</th>\n",
       "      <td>2015173</td>\n",
       "      <td>CERBI</td>\n",
       "      <td>16303</td>\n",
       "      <td>6761243</td>\n",
       "      <td>9214195</td>\n",
       "      <td>b'Cerapachys biroi'</td>\n",
       "      <td>b'Ant'</td>\n",
       "      <td>b''</td>\n",
       "      <td>b'30-APR-2014 (Rel. 120, Last updated, Version 1)'</td>\n",
       "      <td>b'http://www.uniprot.org/proteomes/UP000053097'</td>\n",
       "      <td>b'http://www.ebi.ac.uk/ena/data/view/KK107008-KK111586&amp;display=text&amp;expanded=true'</td>\n",
       "      <td>False</td>\n",
       "    </tr>\n",
       "    <tr>\n",
       "      <th>2074</th>\n",
       "      <td>1288821</td>\n",
       "      <td>HORVD</td>\n",
       "      <td>29214</td>\n",
       "      <td>9574713</td>\n",
       "      <td>10383892</td>\n",
       "      <td>b'Hordeum vulgare var. distichon'</td>\n",
       "      <td>b'Two-rowed barley'</td>\n",
       "      <td>b''</td>\n",
       "      <td>b'Ensembl Plants 16; 220312v1; 24-OCT-2012'</td>\n",
       "      <td>b'http://plants.ensembl.org/hordeum_vulgare/Info/Index'</td>\n",
       "      <td>b'ftp://ftp.ensemblgenomes.org/pub/plants/release-16/embl/hordeum_vulgare/'</td>\n",
       "      <td>False</td>\n",
       "    </tr>\n",
       "  </tbody>\n",
       "</table>\n",
       "</div>"
      ],
      "text/plain": [
       "      NCBITaxonId UniProtSpeciesCode  TotEntries    TotAA  EntryOff  \\\n",
       "7          490899              DESK1        1470   400448     11580   \n",
       "109        990316              METCG        2782   819844    259580   \n",
       "249        685727              RHOE1        4598  1540306    674613   \n",
       "300        267747              PROAC        2294   760875    900171   \n",
       "917        190650              CAUCR        3714  1204535   2798281   \n",
       "918        565050              CAUCN        3852  1223896   2801995   \n",
       "1503       317025              THICR        2187   722179   5017519   \n",
       "1557       643562              DESAO        3268  1066402   5214347   \n",
       "1561      1322246              DESPC        3342  1080842   5228342   \n",
       "2015      2015173              CERBI       16303  6761243   9214195   \n",
       "2074      1288821              HORVD       29214  9574713  10383892   \n",
       "\n",
       "                                                                                               SciName  \\\n",
       "7                 b'Desulfurococcus kamchatkensis (strain DSM 18924 / JCM 16383 / VKM B-2413 / 1221n)'   \n",
       "109   b'Methanosaeta concilii (strain ATCC 5969 / DSM 3671 / JCM 10134 / NBRC 103675 / OCM 69 / GP-6)'   \n",
       "249                                                                  b'Rhodococcus equi (strain 103S)'   \n",
       "300                                          b'Propionibacterium acnes (strain KPA171202 / DSM 16379)'   \n",
       "917                                               b'Caulobacter crescentus (strain ATCC 19089 / CB15)'   \n",
       "918                                                  b'Caulobacter crescentus (strain NA1000 / CB15N)'   \n",
       "1503                                                        b'Thiomicrospira crunogena (strain XCL-2)'   \n",
       "1557                            b'Desulfovibrio aespoeensis (strain ATCC 700646 / DSM 10631 / Aspo-2)'   \n",
       "1561                             b'Desulfovibrio piezophilus (strain DSM 21447 / JCM 15486 / C1TLV30)'   \n",
       "2015                                                                               b'Cerapachys biroi'   \n",
       "2074                                                                 b'Hordeum vulgare var. distichon'   \n",
       "\n",
       "               CommonName SynName  \\\n",
       "7                     b''     b''   \n",
       "109                   b''     b''   \n",
       "249                   b''     b''   \n",
       "300                   b''     b''   \n",
       "917                   b''     b''   \n",
       "918                   b''     b''   \n",
       "1503                  b''     b''   \n",
       "1557                  b''     b''   \n",
       "1561                  b''     b''   \n",
       "2015               b'Ant'     b''   \n",
       "2074  b'Two-rowed barley'     b''   \n",
       "\n",
       "                                                   Release  \\\n",
       "7       b'16-JUN-2009 (Rel. 107, Last updated, Version 3)'   \n",
       "109     b'14-JUL-2011 (Rel. 109, Last updated, Version 3)'   \n",
       "249     b'08-MAR-2011 (Rel. 129, Last updated, Version 1)'   \n",
       "300   b'02-MAR-2010 (Rel. 118, Last updated, Version 101)'   \n",
       "917   b'01-SEP-2009 (Rel. 110, Last updated, Version 111)'   \n",
       "918     b'13-OCT-2009 (Rel. 112, Last updated, Version 7)'   \n",
       "1503    b'30-JAN-2014 (Rel. 119, Last updated, Version 5)'   \n",
       "1557    b'20-JUN-2014 (Rel. 121, Last updated, Version 3)'   \n",
       "1561    b'27-FEB-2015 (Rel. 123, Last updated, Version 3)'   \n",
       "2015    b'30-APR-2014 (Rel. 120, Last updated, Version 1)'   \n",
       "2074           b'Ensembl Plants 16; 220312v1; 24-OCT-2012'   \n",
       "\n",
       "                                                          Url  \\\n",
       "7             b'http://www.expasy.org/sprot/hamap/DESK1.html'   \n",
       "109           b'http://www.expasy.org/sprot/hamap/METCG.html'   \n",
       "249           b'http://www.expasy.org/sprot/hamap/RHOE1.html'   \n",
       "300           b'http://www.expasy.org/sprot/hamap/PROAC.html'   \n",
       "917           b'http://www.expasy.org/sprot/hamap/CAUCR.html'   \n",
       "918           b'http://www.expasy.org/sprot/hamap/CAUCN.html'   \n",
       "1503          b'http://www.expasy.org/sprot/hamap/THICR.html'   \n",
       "1557          b'http://www.expasy.org/sprot/hamap/DESAO.html'   \n",
       "1561          b'http://www.expasy.org/sprot/hamap/DESPC.html'   \n",
       "2015          b'http://www.uniprot.org/proteomes/UP000053097'   \n",
       "2074  b'http://plants.ensembl.org/hordeum_vulgare/Info/Index'   \n",
       "\n",
       "                                                                                   Source  \\\n",
       "7     b'ftp://ftp.ebi.ac.uk/pub/databases/genome_reviews/dat/cellular/CP001140_GR.dat.gz'   \n",
       "109                           b'http://www.ebi.ac.uk/cgi-bin/dbfetch?db=embl&id=CP002565'   \n",
       "249   b'ftp://ftp.ebi.ac.uk/pub/databases/genome_reviews/dat/cellular/FN563149_GR.dat.gz'   \n",
       "300   b'ftp://ftp.ebi.ac.uk/pub/databases/genome_reviews/dat/cellular/AE017283_GR.dat.gz'   \n",
       "917   b'ftp://ftp.ebi.ac.uk/pub/databases/genome_reviews/dat/cellular/AE005673_GR.dat.gz'   \n",
       "918   b'ftp://ftp.ebi.ac.uk/pub/databases/genome_reviews/dat/cellular/CP001340_GR.dat.gz'   \n",
       "1503                          b'http://www.ebi.ac.uk/cgi-bin/dbfetch?db=embl&id=CP000109'   \n",
       "1557                                       b'http://www.ebi.ac.uk/ena/data/view/CP002431'   \n",
       "1561                          b'http://www.ebi.ac.uk/cgi-bin/dbfetch?db=embl&id=FO203427'   \n",
       "2015   b'http://www.ebi.ac.uk/ena/data/view/KK107008-KK111586&display=text&expanded=true'   \n",
       "2074          b'ftp://ftp.ensemblgenomes.org/pub/plants/release-16/embl/hordeum_vulgare/'   \n",
       "\n",
       "      IsPolyploid  \n",
       "7           False  \n",
       "109         False  \n",
       "249         False  \n",
       "300         False  \n",
       "917         False  \n",
       "918         False  \n",
       "1503        False  \n",
       "1557        False  \n",
       "1561        False  \n",
       "2015        False  \n",
       "2074        False  "
      ]
     },
     "execution_count": 14,
     "metadata": {},
     "output_type": "execute_result"
    }
   ],
   "source": [
    "genome1_df.loc[genome1_df['UniProtSpeciesCode'].isin(diff['removed'])] "
   ]
  },
  {
   "cell_type": "markdown",
   "metadata": {
    "heading_collapsed": true,
    "run_control": {
     "frozen": false,
     "read_only": false
    }
   },
   "source": [
    "# Compare number of proteins"
   ]
  },
  {
   "cell_type": "code",
   "execution_count": 15,
   "metadata": {
    "ExecuteTime": {
     "end_time": "2018-08-13T11:10:22.076388Z",
     "start_time": "2018-08-13T11:10:22.006242Z"
    },
    "hidden": true,
    "run_control": {
     "frozen": false,
     "read_only": false
    }
   },
   "outputs": [
    {
     "data": {
      "text/html": [
       "<div>\n",
       "<style scoped>\n",
       "    .dataframe tbody tr th:only-of-type {\n",
       "        vertical-align: middle;\n",
       "    }\n",
       "\n",
       "    .dataframe tbody tr th {\n",
       "        vertical-align: top;\n",
       "    }\n",
       "\n",
       "    .dataframe thead th {\n",
       "        text-align: right;\n",
       "    }\n",
       "</style>\n",
       "<table border=\"1\" class=\"dataframe\">\n",
       "  <thead>\n",
       "    <tr style=\"text-align: right;\">\n",
       "      <th></th>\n",
       "      <th>nb_entries</th>\n",
       "      <th>release</th>\n",
       "    </tr>\n",
       "  </thead>\n",
       "  <tbody>\n",
       "    <tr>\n",
       "      <th>0</th>\n",
       "      <td>10455627.0</td>\n",
       "      <td>All.May2016</td>\n",
       "    </tr>\n",
       "    <tr>\n",
       "      <th>1</th>\n",
       "      <td>11404511.0</td>\n",
       "      <td>All.Mar2017</td>\n",
       "    </tr>\n",
       "    <tr>\n",
       "      <th>2</th>\n",
       "      <td>11624503.0</td>\n",
       "      <td>All.Dec2017</td>\n",
       "    </tr>\n",
       "    <tr>\n",
       "      <th>3</th>\n",
       "      <td>12691751.0</td>\n",
       "      <td>All.Jun2018</td>\n",
       "    </tr>\n",
       "  </tbody>\n",
       "</table>\n",
       "</div>"
      ],
      "text/plain": [
       "   nb_entries      release\n",
       "0  10455627.0  All.May2016\n",
       "1  11404511.0  All.Mar2017\n",
       "2  11624503.0  All.Dec2017\n",
       "3  12691751.0  All.Jun2018"
      ]
     },
     "execution_count": 15,
     "metadata": {},
     "output_type": "execute_result"
    }
   ],
   "source": [
    "#note this include ASVs\n",
    "df = pd.DataFrame()\n",
    "for release in sanity_sessions:\n",
    "    df = df.append({'release': release.release, \"nb_entries\": release.entries_table.attrs.NROWS}, ignore_index=True)\n",
    "    \n",
    "sort_df_by_release(df)"
   ]
  },
  {
   "cell_type": "code",
   "execution_count": 58,
   "metadata": {
    "ExecuteTime": {
     "end_time": "2018-08-13T13:38:47.019083Z",
     "start_time": "2018-08-13T13:38:46.764214Z"
    },
    "hidden": true,
    "run_control": {
     "frozen": false,
     "read_only": false
    }
   },
   "outputs": [
    {
     "data": {
      "image/png": "[encoded data removed]",
      "text/plain": [
       "<matplotlib.figure.Figure at 0x2c3e0dd30>"
      ]
     },
     "metadata": {},
     "output_type": "display_data"
    }
   ],
   "source": [
    "sns.stripplot(x=\"release\", y=\"nb_entries\",data=df, order=releases, size=15, palette=\"husl\")\n",
    "plt.title(\"Number of Entries\")\n",
    "plt.ticklabel_format(style='plain', axis='y')"
   ]
  },
  {
   "cell_type": "markdown",
   "metadata": {
    "ExecuteTime": {
     "end_time": "2018-08-09T13:12:14.660926Z",
     "start_time": "2018-08-09T13:12:14.654678Z"
    },
    "run_control": {
     "frozen": false,
     "read_only": false
    }
   },
   "source": [
    "# Compare OMA Groups"
   ]
  },
  {
   "cell_type": "code",
   "execution_count": 17,
   "metadata": {
    "ExecuteTime": {
     "end_time": "2018-08-13T11:14:15.635403Z",
     "start_time": "2018-08-13T11:14:13.494832Z"
    },
    "run_control": {
     "frozen": false,
     "read_only": false
    }
   },
   "outputs": [],
   "source": [
    "#get omagroups df\n",
    "omagroups_df = pd.DataFrame()\n",
    "for release in sanity_sessions:\n",
    "    tmp_df = get_nb_genes_per_group_df(release, \"omagroup\")\n",
    "    omagroups_df = omagroups_df.append(tmp_df, ignore_index=True)"
   ]
  },
  {
   "cell_type": "markdown",
   "metadata": {
    "run_control": {
     "frozen": false,
     "read_only": false
    }
   },
   "source": [
    "## Nb of omagroups"
   ]
  },
  {
   "cell_type": "code",
   "execution_count": 18,
   "metadata": {
    "ExecuteTime": {
     "end_time": "2018-08-13T11:17:21.676415Z",
     "start_time": "2018-08-13T11:17:21.373901Z"
    },
    "run_control": {
     "frozen": false,
     "read_only": false
    }
   },
   "outputs": [
    {
     "data": {
      "text/html": [
       "<div>\n",
       "<style scoped>\n",
       "    .dataframe tbody tr th:only-of-type {\n",
       "        vertical-align: middle;\n",
       "    }\n",
       "\n",
       "    .dataframe tbody tr th {\n",
       "        vertical-align: top;\n",
       "    }\n",
       "\n",
       "    .dataframe thead th {\n",
       "        text-align: right;\n",
       "    }\n",
       "</style>\n",
       "<table border=\"1\" class=\"dataframe\">\n",
       "  <thead>\n",
       "    <tr style=\"text-align: right;\">\n",
       "      <th></th>\n",
       "      <th>release</th>\n",
       "      <th>nb_genomes</th>\n",
       "    </tr>\n",
       "  </thead>\n",
       "  <tbody>\n",
       "    <tr>\n",
       "      <th>3</th>\n",
       "      <td>All.May2016</td>\n",
       "      <td>1034997</td>\n",
       "    </tr>\n",
       "    <tr>\n",
       "      <th>2</th>\n",
       "      <td>All.Mar2017</td>\n",
       "      <td>779787</td>\n",
       "    </tr>\n",
       "    <tr>\n",
       "      <th>0</th>\n",
       "      <td>All.Dec2017</td>\n",
       "      <td>798760</td>\n",
       "    </tr>\n",
       "    <tr>\n",
       "      <th>1</th>\n",
       "      <td>All.Jun2018</td>\n",
       "      <td>842789</td>\n",
       "    </tr>\n",
       "  </tbody>\n",
       "</table>\n",
       "</div>"
      ],
      "text/plain": [
       "       release  nb_genomes\n",
       "3  All.May2016     1034997\n",
       "2  All.Mar2017      779787\n",
       "0  All.Dec2017      798760\n",
       "1  All.Jun2018      842789"
      ]
     },
     "execution_count": 18,
     "metadata": {},
     "output_type": "execute_result"
    }
   ],
   "source": [
    "#total number of omagroups\n",
    "get_total_nb_groups(omagroups_df)"
   ]
  },
  {
   "cell_type": "code",
   "execution_count": 59,
   "metadata": {
    "ExecuteTime": {
     "end_time": "2018-08-13T13:38:51.212807Z",
     "start_time": "2018-08-13T13:38:50.386958Z"
    },
    "run_control": {
     "frozen": false,
     "read_only": false
    }
   },
   "outputs": [
    {
     "data": {
      "text/plain": [
       "<matplotlib.axes._subplots.AxesSubplot at 0x2c3df1b38>"
      ]
     },
     "execution_count": 59,
     "metadata": {},
     "output_type": "execute_result"
    },
    {
     "data": {
      "image/png": "[encoded data removed]",
      "text/plain": [
       "<matplotlib.figure.Figure at 0x2c3e11390>"
      ]
     },
     "metadata": {},
     "output_type": "display_data"
    }
   ],
   "source": [
    "make_countplot_by_release(omagroups_df, releases, title=\"Total Number of OMA Groups\")"
   ]
  },
  {
   "cell_type": "markdown",
   "metadata": {
    "run_control": {
     "frozen": false,
     "read_only": false
    }
   },
   "source": [
    "## Nb genes per OMA Groups summary stats"
   ]
  },
  {
   "cell_type": "code",
   "execution_count": 22,
   "metadata": {
    "ExecuteTime": {
     "end_time": "2018-08-13T11:17:54.736724Z",
     "start_time": "2018-08-13T11:17:53.863185Z"
    },
    "run_control": {
     "frozen": false,
     "read_only": false
    }
   },
   "outputs": [
    {
     "data": {
      "text/html": [
       "<div>\n",
       "<style scoped>\n",
       "    .dataframe tbody tr th:only-of-type {\n",
       "        vertical-align: middle;\n",
       "    }\n",
       "\n",
       "    .dataframe tbody tr th {\n",
       "        vertical-align: top;\n",
       "    }\n",
       "\n",
       "    .dataframe thead th {\n",
       "        text-align: right;\n",
       "    }\n",
       "</style>\n",
       "<table border=\"1\" class=\"dataframe\">\n",
       "  <thead>\n",
       "    <tr style=\"text-align: right;\">\n",
       "      <th></th>\n",
       "      <th>release</th>\n",
       "      <th>count</th>\n",
       "      <th>mean</th>\n",
       "      <th>std</th>\n",
       "      <th>min</th>\n",
       "      <th>25%</th>\n",
       "      <th>50%</th>\n",
       "      <th>75%</th>\n",
       "      <th>max</th>\n",
       "    </tr>\n",
       "  </thead>\n",
       "  <tbody>\n",
       "    <tr>\n",
       "      <th>3</th>\n",
       "      <td>All.May2016</td>\n",
       "      <td>1034997.0</td>\n",
       "      <td>8.283003</td>\n",
       "      <td>27.151089</td>\n",
       "      <td>2.0</td>\n",
       "      <td>2.0</td>\n",
       "      <td>3.0</td>\n",
       "      <td>6.0</td>\n",
       "      <td>1720.0</td>\n",
       "    </tr>\n",
       "    <tr>\n",
       "      <th>2</th>\n",
       "      <td>All.Mar2017</td>\n",
       "      <td>779787.0</td>\n",
       "      <td>11.619314</td>\n",
       "      <td>48.575176</td>\n",
       "      <td>2.0</td>\n",
       "      <td>2.0</td>\n",
       "      <td>3.0</td>\n",
       "      <td>7.0</td>\n",
       "      <td>2010.0</td>\n",
       "    </tr>\n",
       "    <tr>\n",
       "      <th>0</th>\n",
       "      <td>All.Dec2017</td>\n",
       "      <td>798760.0</td>\n",
       "      <td>11.539356</td>\n",
       "      <td>48.279524</td>\n",
       "      <td>2.0</td>\n",
       "      <td>2.0</td>\n",
       "      <td>3.0</td>\n",
       "      <td>7.0</td>\n",
       "      <td>2023.0</td>\n",
       "    </tr>\n",
       "    <tr>\n",
       "      <th>1</th>\n",
       "      <td>All.Jun2018</td>\n",
       "      <td>842789.0</td>\n",
       "      <td>11.594424</td>\n",
       "      <td>48.289840</td>\n",
       "      <td>2.0</td>\n",
       "      <td>2.0</td>\n",
       "      <td>3.0</td>\n",
       "      <td>7.0</td>\n",
       "      <td>2079.0</td>\n",
       "    </tr>\n",
       "  </tbody>\n",
       "</table>\n",
       "</div>"
      ],
      "text/plain": [
       "       release      count       mean        std  min  25%  50%  75%     max\n",
       "3  All.May2016  1034997.0   8.283003  27.151089  2.0  2.0  3.0  6.0  1720.0\n",
       "2  All.Mar2017   779787.0  11.619314  48.575176  2.0  2.0  3.0  7.0  2010.0\n",
       "0  All.Dec2017   798760.0  11.539356  48.279524  2.0  2.0  3.0  7.0  2023.0\n",
       "1  All.Jun2018   842789.0  11.594424  48.289840  2.0  2.0  3.0  7.0  2079.0"
      ]
     },
     "execution_count": 22,
     "metadata": {},
     "output_type": "execute_result"
    }
   ],
   "source": [
    "get_summary_stats(omagroups_df, \"nb_genes\")"
   ]
  },
  {
   "cell_type": "markdown",
   "metadata": {
    "run_control": {
     "frozen": false,
     "read_only": false
    }
   },
   "source": [
    "## Plot distributions"
   ]
  },
  {
   "cell_type": "code",
   "execution_count": 63,
   "metadata": {
    "ExecuteTime": {
     "end_time": "2018-08-13T13:39:48.871501Z",
     "start_time": "2018-08-13T13:39:41.245905Z"
    },
    "run_control": {
     "frozen": false,
     "read_only": false
    }
   },
   "outputs": [
    {
     "data": {
      "image/png": "[encoded data removed]",
      "text/plain": [
       "<matplotlib.figure.Figure at 0x2c3a5d240>"
      ]
     },
     "metadata": {},
     "output_type": "display_data"
    }
   ],
   "source": [
    "make_boxplot_by_release(omagroups_df, \"nb_genes\",\"Number of genes per OMA Group\")"
   ]
  },
  {
   "cell_type": "markdown",
   "metadata": {
    "run_control": {
     "frozen": false,
     "read_only": false
    }
   },
   "source": [
    "## Groups with low numbers of genes"
   ]
  },
  {
   "cell_type": "code",
   "execution_count": 126,
   "metadata": {
    "ExecuteTime": {
     "end_time": "2018-08-13T15:00:51.488549Z",
     "start_time": "2018-08-13T15:00:49.798543Z"
    }
   },
   "outputs": [
    {
     "data": {
      "text/html": [
       "<div>\n",
       "<style scoped>\n",
       "    .dataframe tbody tr th:only-of-type {\n",
       "        vertical-align: middle;\n",
       "    }\n",
       "\n",
       "    .dataframe tbody tr th {\n",
       "        vertical-align: top;\n",
       "    }\n",
       "\n",
       "    .dataframe thead th {\n",
       "        text-align: right;\n",
       "    }\n",
       "</style>\n",
       "<table border=\"1\" class=\"dataframe\">\n",
       "  <thead>\n",
       "    <tr style=\"text-align: right;\">\n",
       "      <th></th>\n",
       "      <th>release</th>\n",
       "      <th>prop_groups_2_genes</th>\n",
       "      <th>prop_groups_3_genes</th>\n",
       "      <th>prop_groups_4_genes</th>\n",
       "      <th>prop_groups_5_genes</th>\n",
       "      <th>total_nb_groups</th>\n",
       "    </tr>\n",
       "  </thead>\n",
       "  <tbody>\n",
       "    <tr>\n",
       "      <th>0</th>\n",
       "      <td>All.May2016</td>\n",
       "      <td>0.399239</td>\n",
       "      <td>0.163242</td>\n",
       "      <td>0.094130</td>\n",
       "      <td>0.061720</td>\n",
       "      <td>1034997</td>\n",
       "    </tr>\n",
       "    <tr>\n",
       "      <th>1</th>\n",
       "      <td>All.Mar2017</td>\n",
       "      <td>0.434266</td>\n",
       "      <td>0.121175</td>\n",
       "      <td>0.074918</td>\n",
       "      <td>0.062639</td>\n",
       "      <td>779787</td>\n",
       "    </tr>\n",
       "    <tr>\n",
       "      <th>2</th>\n",
       "      <td>All.Dec2017</td>\n",
       "      <td>0.428975</td>\n",
       "      <td>0.124880</td>\n",
       "      <td>0.075933</td>\n",
       "      <td>0.061164</td>\n",
       "      <td>798760</td>\n",
       "    </tr>\n",
       "    <tr>\n",
       "      <th>3</th>\n",
       "      <td>All.Jun2018</td>\n",
       "      <td>0.429863</td>\n",
       "      <td>0.121433</td>\n",
       "      <td>0.076717</td>\n",
       "      <td>0.061436</td>\n",
       "      <td>842789</td>\n",
       "    </tr>\n",
       "  </tbody>\n",
       "</table>\n",
       "</div>"
      ],
      "text/plain": [
       "       release  prop_groups_2_genes  prop_groups_3_genes  prop_groups_4_genes  \\\n",
       "0  All.May2016             0.399239             0.163242             0.094130   \n",
       "1  All.Mar2017             0.434266             0.121175             0.074918   \n",
       "2  All.Dec2017             0.428975             0.124880             0.075933   \n",
       "3  All.Jun2018             0.429863             0.121433             0.076717   \n",
       "\n",
       "   prop_groups_5_genes  total_nb_groups  \n",
       "0             0.061720          1034997  \n",
       "1             0.062639           779787  \n",
       "2             0.061164           798760  \n",
       "3             0.061436           842789  "
      ]
     },
     "execution_count": 126,
     "metadata": {},
     "output_type": "execute_result"
    }
   ],
   "source": [
    "low_genes_df = get_low_genes_df(omagroups_df, releases)\n",
    "low_genes_df"
   ]
  },
  {
   "cell_type": "code",
   "execution_count": 127,
   "metadata": {
    "ExecuteTime": {
     "end_time": "2018-08-13T15:01:58.930905Z",
     "start_time": "2018-08-13T15:01:58.504198Z"
    }
   },
   "outputs": [
    {
     "data": {
      "image/png": "[encoded data removed]",
      "text/plain": [
       "<matplotlib.figure.Figure at 0x2cc7e8c88>"
      ]
     },
     "metadata": {},
     "output_type": "display_data"
    }
   ],
   "source": [
    "low_genes_df.rename({'prop_groups_2_genes':\"2\",'prop_groups_3_genes':\"3\",\\\n",
    "                     'prop_groups_4_genes':\"4\",'prop_groups_5_genes':\"5\"}, axis=1, inplace=True)\n",
    "\n",
    "\n",
    "plot_proportions_of_groups_with_n_genes(low_genes_df, low_genes_df.columns[1:5],\\\n",
    "                                        \"Proportion of OMA Groups with n number of genes\")"
   ]
  },
  {
   "cell_type": "markdown",
   "metadata": {
    "ExecuteTime": {
     "end_time": "2018-08-09T14:21:31.330032Z",
     "start_time": "2018-08-09T14:21:30.784477Z"
    },
    "run_control": {
     "frozen": false,
     "read_only": false
    }
   },
   "source": [
    "# Compare HOGs (subhogs)"
   ]
  },
  {
   "cell_type": "code",
   "execution_count": 128,
   "metadata": {
    "ExecuteTime": {
     "end_time": "2018-08-13T15:02:32.812136Z",
     "start_time": "2018-08-13T15:02:23.613349Z"
    },
    "run_control": {
     "frozen": false,
     "read_only": false
    },
    "scrolled": true
   },
   "outputs": [],
   "source": [
    "#get hog df\n",
    "hog_df = pd.DataFrame()\n",
    "for release in sanity_sessions:\n",
    "    tmp_df = get_nb_genes_per_group_df(release, \"hog\")\n",
    "    hog_df = hog_df.append(tmp_df, ignore_index=True)"
   ]
  },
  {
   "cell_type": "markdown",
   "metadata": {
    "run_control": {
     "frozen": false,
     "read_only": false
    }
   },
   "source": [
    "## Nb of hogs"
   ]
  },
  {
   "cell_type": "code",
   "execution_count": 129,
   "metadata": {
    "ExecuteTime": {
     "end_time": "2018-08-13T15:03:48.076820Z",
     "start_time": "2018-08-13T15:03:46.506081Z"
    },
    "run_control": {
     "frozen": false,
     "read_only": false
    }
   },
   "outputs": [
    {
     "data": {
      "text/html": [
       "<div>\n",
       "<style scoped>\n",
       "    .dataframe tbody tr th:only-of-type {\n",
       "        vertical-align: middle;\n",
       "    }\n",
       "\n",
       "    .dataframe tbody tr th {\n",
       "        vertical-align: top;\n",
       "    }\n",
       "\n",
       "    .dataframe thead th {\n",
       "        text-align: right;\n",
       "    }\n",
       "</style>\n",
       "<table border=\"1\" class=\"dataframe\">\n",
       "  <thead>\n",
       "    <tr style=\"text-align: right;\">\n",
       "      <th></th>\n",
       "      <th>release</th>\n",
       "      <th>nb_genomes</th>\n",
       "    </tr>\n",
       "  </thead>\n",
       "  <tbody>\n",
       "    <tr>\n",
       "      <th>3</th>\n",
       "      <td>All.May2016</td>\n",
       "      <td>2252466</td>\n",
       "    </tr>\n",
       "    <tr>\n",
       "      <th>2</th>\n",
       "      <td>All.Mar2017</td>\n",
       "      <td>2676228</td>\n",
       "    </tr>\n",
       "    <tr>\n",
       "      <th>0</th>\n",
       "      <td>All.Dec2017</td>\n",
       "      <td>2717565</td>\n",
       "    </tr>\n",
       "    <tr>\n",
       "      <th>1</th>\n",
       "      <td>All.Jun2018</td>\n",
       "      <td>2882980</td>\n",
       "    </tr>\n",
       "  </tbody>\n",
       "</table>\n",
       "</div>"
      ],
      "text/plain": [
       "       release  nb_genomes\n",
       "3  All.May2016     2252466\n",
       "2  All.Mar2017     2676228\n",
       "0  All.Dec2017     2717565\n",
       "1  All.Jun2018     2882980"
      ]
     },
     "execution_count": 129,
     "metadata": {},
     "output_type": "execute_result"
    }
   ],
   "source": [
    "#total number of hogs\n",
    "get_total_nb_groups(hog_df)"
   ]
  },
  {
   "cell_type": "code",
   "execution_count": 130,
   "metadata": {
    "ExecuteTime": {
     "end_time": "2018-08-13T15:03:53.600706Z",
     "start_time": "2018-08-13T15:03:51.892559Z"
    },
    "run_control": {
     "frozen": false,
     "read_only": false
    }
   },
   "outputs": [
    {
     "data": {
      "text/plain": [
       "<matplotlib.axes._subplots.AxesSubplot at 0x2cc2fdc50>"
      ]
     },
     "execution_count": 130,
     "metadata": {},
     "output_type": "execute_result"
    },
    {
     "data": {
      "image/png": "[encoded data removed]",
      "text/plain": [
       "<matplotlib.figure.Figure at 0x2c9da7c18>"
      ]
     },
     "metadata": {},
     "output_type": "display_data"
    }
   ],
   "source": [
    "make_countplot_by_release(hog_df, releases, title=\"Total Number of HOGs\")"
   ]
  },
  {
   "cell_type": "markdown",
   "metadata": {
    "run_control": {
     "frozen": false,
     "read_only": false
    }
   },
   "source": [
    "## Nb genes per HOG summary stats"
   ]
  },
  {
   "cell_type": "code",
   "execution_count": 133,
   "metadata": {
    "ExecuteTime": {
     "end_time": "2018-08-13T15:04:12.733102Z",
     "start_time": "2018-08-13T15:04:10.024754Z"
    },
    "run_control": {
     "frozen": false,
     "read_only": false
    }
   },
   "outputs": [
    {
     "data": {
      "text/html": [
       "<div>\n",
       "<style scoped>\n",
       "    .dataframe tbody tr th:only-of-type {\n",
       "        vertical-align: middle;\n",
       "    }\n",
       "\n",
       "    .dataframe tbody tr th {\n",
       "        vertical-align: top;\n",
       "    }\n",
       "\n",
       "    .dataframe thead th {\n",
       "        text-align: right;\n",
       "    }\n",
       "</style>\n",
       "<table border=\"1\" class=\"dataframe\">\n",
       "  <thead>\n",
       "    <tr style=\"text-align: right;\">\n",
       "      <th></th>\n",
       "      <th>release</th>\n",
       "      <th>count</th>\n",
       "      <th>mean</th>\n",
       "      <th>std</th>\n",
       "      <th>min</th>\n",
       "      <th>25%</th>\n",
       "      <th>50%</th>\n",
       "      <th>75%</th>\n",
       "      <th>max</th>\n",
       "    </tr>\n",
       "  </thead>\n",
       "  <tbody>\n",
       "    <tr>\n",
       "      <th>3</th>\n",
       "      <td>All.May2016</td>\n",
       "      <td>2252466.0</td>\n",
       "      <td>3.768766</td>\n",
       "      <td>15.285949</td>\n",
       "      <td>1.0</td>\n",
       "      <td>1.0</td>\n",
       "      <td>1.0</td>\n",
       "      <td>2.0</td>\n",
       "      <td>1737.0</td>\n",
       "    </tr>\n",
       "    <tr>\n",
       "      <th>2</th>\n",
       "      <td>All.Mar2017</td>\n",
       "      <td>2676228.0</td>\n",
       "      <td>3.528828</td>\n",
       "      <td>16.305082</td>\n",
       "      <td>1.0</td>\n",
       "      <td>1.0</td>\n",
       "      <td>1.0</td>\n",
       "      <td>2.0</td>\n",
       "      <td>1744.0</td>\n",
       "    </tr>\n",
       "    <tr>\n",
       "      <th>0</th>\n",
       "      <td>All.Dec2017</td>\n",
       "      <td>2717565.0</td>\n",
       "      <td>3.534553</td>\n",
       "      <td>16.208430</td>\n",
       "      <td>1.0</td>\n",
       "      <td>1.0</td>\n",
       "      <td>1.0</td>\n",
       "      <td>2.0</td>\n",
       "      <td>1746.0</td>\n",
       "    </tr>\n",
       "    <tr>\n",
       "      <th>1</th>\n",
       "      <td>All.Jun2018</td>\n",
       "      <td>2882980.0</td>\n",
       "      <td>3.536418</td>\n",
       "      <td>16.198242</td>\n",
       "      <td>1.0</td>\n",
       "      <td>1.0</td>\n",
       "      <td>1.0</td>\n",
       "      <td>2.0</td>\n",
       "      <td>1775.0</td>\n",
       "    </tr>\n",
       "  </tbody>\n",
       "</table>\n",
       "</div>"
      ],
      "text/plain": [
       "       release      count      mean        std  min  25%  50%  75%     max\n",
       "3  All.May2016  2252466.0  3.768766  15.285949  1.0  1.0  1.0  2.0  1737.0\n",
       "2  All.Mar2017  2676228.0  3.528828  16.305082  1.0  1.0  1.0  2.0  1744.0\n",
       "0  All.Dec2017  2717565.0  3.534553  16.208430  1.0  1.0  1.0  2.0  1746.0\n",
       "1  All.Jun2018  2882980.0  3.536418  16.198242  1.0  1.0  1.0  2.0  1775.0"
      ]
     },
     "execution_count": 133,
     "metadata": {},
     "output_type": "execute_result"
    }
   ],
   "source": [
    "get_summary_stats(hog_df, \"nb_genes\")"
   ]
  },
  {
   "cell_type": "markdown",
   "metadata": {
    "run_control": {
     "frozen": false,
     "read_only": false
    }
   },
   "source": [
    "## Plot distributions"
   ]
  },
  {
   "cell_type": "code",
   "execution_count": 217,
   "metadata": {
    "ExecuteTime": {
     "end_time": "2018-08-13T16:35:30.694547Z",
     "start_time": "2018-08-13T16:35:25.004370Z"
    },
    "run_control": {
     "frozen": false,
     "read_only": false
    }
   },
   "outputs": [
    {
     "data": {
      "image/png": "[encoded data removed]",
      "text/plain": [
       "<matplotlib.figure.Figure at 0x2c6cee160>"
      ]
     },
     "metadata": {},
     "output_type": "display_data"
    }
   ],
   "source": [
    "make_boxplot_by_release(hog_df, releases, \"nb_genes\", \"Number of genes per HOG\")"
   ]
  },
  {
   "cell_type": "markdown",
   "metadata": {
    "ExecuteTime": {
     "end_time": "2018-08-10T09:34:08.189144Z",
     "start_time": "2018-08-10T09:34:08.164001Z"
    },
    "run_control": {
     "frozen": false,
     "read_only": false
    }
   },
   "source": [
    "## HOGs with low numbers"
   ]
  },
  {
   "cell_type": "code",
   "execution_count": 147,
   "metadata": {
    "ExecuteTime": {
     "end_time": "2018-08-13T15:11:54.223538Z",
     "start_time": "2018-08-13T15:11:49.461353Z"
    },
    "run_control": {
     "frozen": false,
     "read_only": false
    }
   },
   "outputs": [
    {
     "data": {
      "text/html": [
       "<div>\n",
       "<style scoped>\n",
       "    .dataframe tbody tr th:only-of-type {\n",
       "        vertical-align: middle;\n",
       "    }\n",
       "\n",
       "    .dataframe tbody tr th {\n",
       "        vertical-align: top;\n",
       "    }\n",
       "\n",
       "    .dataframe thead th {\n",
       "        text-align: right;\n",
       "    }\n",
       "</style>\n",
       "<table border=\"1\" class=\"dataframe\">\n",
       "  <thead>\n",
       "    <tr style=\"text-align: right;\">\n",
       "      <th></th>\n",
       "      <th>release</th>\n",
       "      <th>prop_groups_1_genes</th>\n",
       "      <th>prop_groups_2_genes</th>\n",
       "      <th>prop_groups_3_genes</th>\n",
       "      <th>prop_groups_4_genes</th>\n",
       "      <th>total_nb_groups</th>\n",
       "    </tr>\n",
       "  </thead>\n",
       "  <tbody>\n",
       "    <tr>\n",
       "      <th>0</th>\n",
       "      <td>All.May2016</td>\n",
       "      <td>0.566203</td>\n",
       "      <td>0.190329</td>\n",
       "      <td>0.066491</td>\n",
       "      <td>0.037233</td>\n",
       "      <td>2252466</td>\n",
       "    </tr>\n",
       "    <tr>\n",
       "      <th>1</th>\n",
       "      <td>All.Mar2017</td>\n",
       "      <td>0.588565</td>\n",
       "      <td>0.202079</td>\n",
       "      <td>0.062200</td>\n",
       "      <td>0.031039</td>\n",
       "      <td>2676228</td>\n",
       "    </tr>\n",
       "    <tr>\n",
       "      <th>2</th>\n",
       "      <td>All.Dec2017</td>\n",
       "      <td>0.585328</td>\n",
       "      <td>0.201484</td>\n",
       "      <td>0.065206</td>\n",
       "      <td>0.031485</td>\n",
       "      <td>2717565</td>\n",
       "    </tr>\n",
       "    <tr>\n",
       "      <th>3</th>\n",
       "      <td>All.Jun2018</td>\n",
       "      <td>0.594853</td>\n",
       "      <td>0.199572</td>\n",
       "      <td>0.058460</td>\n",
       "      <td>0.031824</td>\n",
       "      <td>2882980</td>\n",
       "    </tr>\n",
       "  </tbody>\n",
       "</table>\n",
       "</div>"
      ],
      "text/plain": [
       "       release  prop_groups_1_genes  prop_groups_2_genes  prop_groups_3_genes  \\\n",
       "0  All.May2016             0.566203             0.190329             0.066491   \n",
       "1  All.Mar2017             0.588565             0.202079             0.062200   \n",
       "2  All.Dec2017             0.585328             0.201484             0.065206   \n",
       "3  All.Jun2018             0.594853             0.199572             0.058460   \n",
       "\n",
       "   prop_groups_4_genes  total_nb_groups  \n",
       "0             0.037233          2252466  \n",
       "1             0.031039          2676228  \n",
       "2             0.031485          2717565  \n",
       "3             0.031824          2882980  "
      ]
     },
     "execution_count": 147,
     "metadata": {},
     "output_type": "execute_result"
    }
   ],
   "source": [
    "low_genes_df = get_low_genes_df(hog_df, releases, [1,2,3,4])\n",
    "low_genes_df"
   ]
  },
  {
   "cell_type": "code",
   "execution_count": 218,
   "metadata": {
    "ExecuteTime": {
     "end_time": "2018-08-13T16:35:46.652010Z",
     "start_time": "2018-08-13T16:35:46.223755Z"
    }
   },
   "outputs": [
    {
     "data": {
      "image/png": "[encoded data removed]",
      "text/plain": [
       "<matplotlib.figure.Figure at 0x2c6a29b70>"
      ]
     },
     "metadata": {},
     "output_type": "display_data"
    }
   ],
   "source": [
    "plot_proportions_of_groups_with_n_genes(low_genes_df, low_genes_df.columns[1:5],\\\n",
    "                                        \"Proportion of Subhogs with n number of genes\",\\\n",
    "                                       rename_cols=True)"
   ]
  },
  {
   "cell_type": "markdown",
   "metadata": {
    "ExecuteTime": {
     "end_time": "2018-08-10T08:56:11.822133Z",
     "start_time": "2018-08-10T08:56:11.419237Z"
    },
    "run_control": {
     "frozen": false,
     "read_only": false
    }
   },
   "source": [
    "# Compare families (root hogs)"
   ]
  },
  {
   "cell_type": "code",
   "execution_count": 209,
   "metadata": {
    "ExecuteTime": {
     "end_time": "2018-08-13T16:30:37.032683Z",
     "start_time": "2018-08-13T16:27:42.700713Z"
    },
    "run_control": {
     "frozen": false,
     "read_only": false
    }
   },
   "outputs": [],
   "source": [
    "hog_df['fam'] = hog_df.apply(lambda x: int(x['hog'][4:11]), axis=1)\n",
    "grouped = hog_df.groupby(['release','fam'])\n",
    "fam_df = grouped.sum().reset_index()"
   ]
  },
  {
   "cell_type": "markdown",
   "metadata": {
    "run_control": {
     "frozen": false,
     "read_only": false
    }
   },
   "source": [
    "## Nb of families"
   ]
  },
  {
   "cell_type": "code",
   "execution_count": 210,
   "metadata": {
    "ExecuteTime": {
     "end_time": "2018-08-13T16:30:55.100292Z",
     "start_time": "2018-08-13T16:30:54.865811Z"
    },
    "run_control": {
     "frozen": false,
     "read_only": false
    }
   },
   "outputs": [
    {
     "data": {
      "text/html": [
       "<div>\n",
       "<style scoped>\n",
       "    .dataframe tbody tr th:only-of-type {\n",
       "        vertical-align: middle;\n",
       "    }\n",
       "\n",
       "    .dataframe tbody tr th {\n",
       "        vertical-align: top;\n",
       "    }\n",
       "\n",
       "    .dataframe thead th {\n",
       "        text-align: right;\n",
       "    }\n",
       "</style>\n",
       "<table border=\"1\" class=\"dataframe\">\n",
       "  <thead>\n",
       "    <tr style=\"text-align: right;\">\n",
       "      <th></th>\n",
       "      <th>release</th>\n",
       "      <th>nb_genomes</th>\n",
       "    </tr>\n",
       "  </thead>\n",
       "  <tbody>\n",
       "    <tr>\n",
       "      <th>3</th>\n",
       "      <td>All.May2016</td>\n",
       "      <td>432519</td>\n",
       "    </tr>\n",
       "    <tr>\n",
       "      <th>2</th>\n",
       "      <td>All.Mar2017</td>\n",
       "      <td>589223</td>\n",
       "    </tr>\n",
       "    <tr>\n",
       "      <th>0</th>\n",
       "      <td>All.Dec2017</td>\n",
       "      <td>603285</td>\n",
       "    </tr>\n",
       "    <tr>\n",
       "      <th>1</th>\n",
       "      <td>All.Jun2018</td>\n",
       "      <td>614588</td>\n",
       "    </tr>\n",
       "  </tbody>\n",
       "</table>\n",
       "</div>"
      ],
      "text/plain": [
       "       release  nb_genomes\n",
       "3  All.May2016      432519\n",
       "2  All.Mar2017      589223\n",
       "0  All.Dec2017      603285\n",
       "1  All.Jun2018      614588"
      ]
     },
     "execution_count": 210,
     "metadata": {},
     "output_type": "execute_result"
    }
   ],
   "source": [
    "#total number of families\n",
    "get_total_nb_groups(fam_df)"
   ]
  },
  {
   "cell_type": "markdown",
   "metadata": {
    "run_control": {
     "frozen": false,
     "read_only": false
    }
   },
   "source": [
    "## Nb genes per fam summary stats"
   ]
  },
  {
   "cell_type": "code",
   "execution_count": 212,
   "metadata": {
    "ExecuteTime": {
     "end_time": "2018-08-13T16:31:36.512010Z",
     "start_time": "2018-08-13T16:31:12.998667Z"
    },
    "run_control": {
     "frozen": false,
     "read_only": false
    }
   },
   "outputs": [
    {
     "data": {
      "text/html": [
       "<div>\n",
       "<style scoped>\n",
       "    .dataframe tbody tr th:only-of-type {\n",
       "        vertical-align: middle;\n",
       "    }\n",
       "\n",
       "    .dataframe tbody tr th {\n",
       "        vertical-align: top;\n",
       "    }\n",
       "\n",
       "    .dataframe thead th {\n",
       "        text-align: right;\n",
       "    }\n",
       "</style>\n",
       "<table border=\"1\" class=\"dataframe\">\n",
       "  <thead>\n",
       "    <tr style=\"text-align: right;\">\n",
       "      <th></th>\n",
       "      <th>release</th>\n",
       "      <th>count</th>\n",
       "      <th>mean</th>\n",
       "      <th>std</th>\n",
       "      <th>min</th>\n",
       "      <th>25%</th>\n",
       "      <th>50%</th>\n",
       "      <th>75%</th>\n",
       "      <th>max</th>\n",
       "    </tr>\n",
       "  </thead>\n",
       "  <tbody>\n",
       "    <tr>\n",
       "      <th>3</th>\n",
       "      <td>All.May2016</td>\n",
       "      <td>432519.0</td>\n",
       "      <td>19.626925</td>\n",
       "      <td>123.654094</td>\n",
       "      <td>2.0</td>\n",
       "      <td>2.0</td>\n",
       "      <td>3.0</td>\n",
       "      <td>8.0</td>\n",
       "      <td>17256.0</td>\n",
       "    </tr>\n",
       "    <tr>\n",
       "      <th>2</th>\n",
       "      <td>All.Mar2017</td>\n",
       "      <td>589223.0</td>\n",
       "      <td>16.027798</td>\n",
       "      <td>376.403707</td>\n",
       "      <td>2.0</td>\n",
       "      <td>2.0</td>\n",
       "      <td>3.0</td>\n",
       "      <td>6.0</td>\n",
       "      <td>217038.0</td>\n",
       "    </tr>\n",
       "    <tr>\n",
       "      <th>0</th>\n",
       "      <td>All.Dec2017</td>\n",
       "      <td>603285.0</td>\n",
       "      <td>15.921792</td>\n",
       "      <td>377.489090</td>\n",
       "      <td>2.0</td>\n",
       "      <td>2.0</td>\n",
       "      <td>3.0</td>\n",
       "      <td>6.0</td>\n",
       "      <td>220984.0</td>\n",
       "    </tr>\n",
       "    <tr>\n",
       "      <th>1</th>\n",
       "      <td>All.Jun2018</td>\n",
       "      <td>614588.0</td>\n",
       "      <td>16.589034</td>\n",
       "      <td>208.710918</td>\n",
       "      <td>2.0</td>\n",
       "      <td>2.0</td>\n",
       "      <td>3.0</td>\n",
       "      <td>7.0</td>\n",
       "      <td>116081.0</td>\n",
       "    </tr>\n",
       "  </tbody>\n",
       "</table>\n",
       "</div>"
      ],
      "text/plain": [
       "       release     count       mean         std  min  25%  50%  75%       max\n",
       "3  All.May2016  432519.0  19.626925  123.654094  2.0  2.0  3.0  8.0   17256.0\n",
       "2  All.Mar2017  589223.0  16.027798  376.403707  2.0  2.0  3.0  6.0  217038.0\n",
       "0  All.Dec2017  603285.0  15.921792  377.489090  2.0  2.0  3.0  6.0  220984.0\n",
       "1  All.Jun2018  614588.0  16.589034  208.710918  2.0  2.0  3.0  7.0  116081.0"
      ]
     },
     "execution_count": 212,
     "metadata": {},
     "output_type": "execute_result"
    }
   ],
   "source": [
    "get_summary_stats(fam_df, \"nb_genes\")"
   ]
  },
  {
   "cell_type": "code",
   "execution_count": 213,
   "metadata": {
    "ExecuteTime": {
     "end_time": "2018-08-13T16:32:21.571351Z",
     "start_time": "2018-08-13T16:32:20.949618Z"
    },
    "run_control": {
     "frozen": false,
     "read_only": false
    }
   },
   "outputs": [
    {
     "data": {
      "text/plain": [
       "<matplotlib.axes._subplots.AxesSubplot at 0x2c576be80>"
      ]
     },
     "execution_count": 213,
     "metadata": {},
     "output_type": "execute_result"
    },
    {
     "data": {
      "image/png": "[encoded data removed]",
      "text/plain": [
       "<matplotlib.figure.Figure at 0x2c576bc88>"
      ]
     },
     "metadata": {},
     "output_type": "display_data"
    }
   ],
   "source": [
    "make_countplot_by_release(fam_df, releases, title=\"Number of families\")"
   ]
  },
  {
   "cell_type": "markdown",
   "metadata": {
    "run_control": {
     "frozen": false,
     "read_only": false
    }
   },
   "source": [
    "## Plot distributions"
   ]
  },
  {
   "cell_type": "code",
   "execution_count": 219,
   "metadata": {
    "ExecuteTime": {
     "end_time": "2018-08-13T16:37:10.749669Z",
     "start_time": "2018-08-13T16:37:09.524998Z"
    },
    "run_control": {
     "frozen": false,
     "read_only": false
    }
   },
   "outputs": [
    {
     "data": {
      "image/png": "[encoded data removed]",
      "text/plain": [
       "<matplotlib.figure.Figure at 0x2caed4668>"
      ]
     },
     "metadata": {},
     "output_type": "display_data"
    }
   ],
   "source": [
    "make_boxplot_by_release(fam_df, releases, \"nb_genes\",\"Number of genes per Family\")"
   ]
  },
  {
   "cell_type": "markdown",
   "metadata": {
    "run_control": {
     "frozen": false,
     "read_only": false
    }
   },
   "source": [
    "## Families with low numbers"
   ]
  },
  {
   "cell_type": "code",
   "execution_count": 226,
   "metadata": {
    "ExecuteTime": {
     "end_time": "2018-08-13T16:40:21.000328Z",
     "start_time": "2018-08-13T16:40:20.001307Z"
    },
    "run_control": {
     "frozen": false,
     "read_only": false
    }
   },
   "outputs": [
    {
     "data": {
      "text/html": [
       "<div>\n",
       "<style scoped>\n",
       "    .dataframe tbody tr th:only-of-type {\n",
       "        vertical-align: middle;\n",
       "    }\n",
       "\n",
       "    .dataframe tbody tr th {\n",
       "        vertical-align: top;\n",
       "    }\n",
       "\n",
       "    .dataframe thead th {\n",
       "        text-align: right;\n",
       "    }\n",
       "</style>\n",
       "<table border=\"1\" class=\"dataframe\">\n",
       "  <thead>\n",
       "    <tr style=\"text-align: right;\">\n",
       "      <th></th>\n",
       "      <th>release</th>\n",
       "      <th>prop_groups_2_genes</th>\n",
       "      <th>prop_groups_3_genes</th>\n",
       "      <th>prop_groups_4_genes</th>\n",
       "      <th>prop_groups_5_genes</th>\n",
       "      <th>total_nb_groups</th>\n",
       "    </tr>\n",
       "  </thead>\n",
       "  <tbody>\n",
       "    <tr>\n",
       "      <th>0</th>\n",
       "      <td>All.May2016</td>\n",
       "      <td>0.426314</td>\n",
       "      <td>0.132864</td>\n",
       "      <td>0.077569</td>\n",
       "      <td>0.053632</td>\n",
       "      <td>432519</td>\n",
       "    </tr>\n",
       "    <tr>\n",
       "      <th>1</th>\n",
       "      <td>All.Mar2017</td>\n",
       "      <td>0.455921</td>\n",
       "      <td>0.158453</td>\n",
       "      <td>0.078602</td>\n",
       "      <td>0.050998</td>\n",
       "      <td>589223</td>\n",
       "    </tr>\n",
       "    <tr>\n",
       "      <th>2</th>\n",
       "      <td>All.Dec2017</td>\n",
       "      <td>0.448829</td>\n",
       "      <td>0.163876</td>\n",
       "      <td>0.081030</td>\n",
       "      <td>0.046845</td>\n",
       "      <td>603285</td>\n",
       "    </tr>\n",
       "    <tr>\n",
       "      <th>3</th>\n",
       "      <td>All.Jun2018</td>\n",
       "      <td>0.448442</td>\n",
       "      <td>0.127899</td>\n",
       "      <td>0.083209</td>\n",
       "      <td>0.047240</td>\n",
       "      <td>614588</td>\n",
       "    </tr>\n",
       "  </tbody>\n",
       "</table>\n",
       "</div>"
      ],
      "text/plain": [
       "       release  prop_groups_2_genes  prop_groups_3_genes  prop_groups_4_genes  \\\n",
       "0  All.May2016             0.426314             0.132864             0.077569   \n",
       "1  All.Mar2017             0.455921             0.158453             0.078602   \n",
       "2  All.Dec2017             0.448829             0.163876             0.081030   \n",
       "3  All.Jun2018             0.448442             0.127899             0.083209   \n",
       "\n",
       "   prop_groups_5_genes  total_nb_groups  \n",
       "0             0.053632           432519  \n",
       "1             0.050998           589223  \n",
       "2             0.046845           603285  \n",
       "3             0.047240           614588  "
      ]
     },
     "execution_count": 226,
     "metadata": {},
     "output_type": "execute_result"
    }
   ],
   "source": [
    "low_genes_df = get_low_genes_df(fam_df, releases, [2,3,4,5])\n",
    "low_genes_df"
   ]
  },
  {
   "cell_type": "code",
   "execution_count": 227,
   "metadata": {
    "ExecuteTime": {
     "end_time": "2018-08-13T16:40:27.030758Z",
     "start_time": "2018-08-13T16:40:26.587002Z"
    },
    "run_control": {
     "frozen": false,
     "read_only": false
    }
   },
   "outputs": [
    {
     "data": {
      "image/png": "[encoded data removed]",
      "text/plain": [
       "<matplotlib.figure.Figure at 0x2c6d2b7f0>"
      ]
     },
     "metadata": {},
     "output_type": "display_data"
    }
   ],
   "source": [
    "plot_proportions_of_groups_with_n_genes(low_genes_df, low_genes_df.columns[1:5],\\\n",
    "                                        \"Proportion of Root Hogs with n number of genes\",\\\n",
    "                                       rename_cols=True)"
   ]
  },
  {
   "cell_type": "markdown",
   "metadata": {
    "run_control": {
     "frozen": false,
     "read_only": false
    }
   },
   "source": [
    "# Compare at different taxa levels"
   ]
  },
  {
   "cell_type": "code",
   "execution_count": 229,
   "metadata": {
    "ExecuteTime": {
     "end_time": "2018-08-13T16:43:13.497023Z",
     "start_time": "2018-08-13T16:43:13.014796Z"
    },
    "run_control": {
     "frozen": false,
     "read_only": false
    },
    "scrolled": true
   },
   "outputs": [],
   "source": [
    "tax_df = pd.DataFrame()\n",
    "for release in sanity_sessions:\n",
    "    tmp_df = pd.DataFrame.from_dict(release.all_hog_lvls, orient=\"index\")\n",
    "    tmp_df = tmp_df.rename({0:'nb_hogs'}, axis=1)\n",
    "    tmp_df = tmp_df.reset_index()\n",
    "    tmp_df['release'] = release.release\n",
    "    tax_df = tax_df.append(tmp_df)\n",
    "\n",
    "tax_df.rename({'index':'taxa'}, axis=1, inplace=True)\n",
    "tax_df['taxa'] = tax_df.apply(lambda x: x['taxa'].decode(\"utf-8\"), axis=1)"
   ]
  },
  {
   "cell_type": "markdown",
   "metadata": {
    "run_control": {
     "frozen": false,
     "read_only": false
    }
   },
   "source": [
    "## Nb of taxa levels"
   ]
  },
  {
   "cell_type": "code",
   "execution_count": 230,
   "metadata": {
    "ExecuteTime": {
     "end_time": "2018-08-13T16:43:17.054209Z",
     "start_time": "2018-08-13T16:43:17.037589Z"
    },
    "run_control": {
     "frozen": false,
     "read_only": false
    }
   },
   "outputs": [
    {
     "data": {
      "text/html": [
       "<div>\n",
       "<style scoped>\n",
       "    .dataframe tbody tr th:only-of-type {\n",
       "        vertical-align: middle;\n",
       "    }\n",
       "\n",
       "    .dataframe tbody tr th {\n",
       "        vertical-align: top;\n",
       "    }\n",
       "\n",
       "    .dataframe thead th {\n",
       "        text-align: right;\n",
       "    }\n",
       "</style>\n",
       "<table border=\"1\" class=\"dataframe\">\n",
       "  <thead>\n",
       "    <tr style=\"text-align: right;\">\n",
       "      <th></th>\n",
       "      <th>release</th>\n",
       "      <th>nb_genomes</th>\n",
       "    </tr>\n",
       "  </thead>\n",
       "  <tbody>\n",
       "    <tr>\n",
       "      <th>3</th>\n",
       "      <td>All.May2016</td>\n",
       "      <td>5458</td>\n",
       "    </tr>\n",
       "    <tr>\n",
       "      <th>2</th>\n",
       "      <td>All.Mar2017</td>\n",
       "      <td>2920</td>\n",
       "    </tr>\n",
       "    <tr>\n",
       "      <th>0</th>\n",
       "      <td>All.Dec2017</td>\n",
       "      <td>2956</td>\n",
       "    </tr>\n",
       "    <tr>\n",
       "      <th>1</th>\n",
       "      <td>All.Jun2018</td>\n",
       "      <td>3048</td>\n",
       "    </tr>\n",
       "  </tbody>\n",
       "</table>\n",
       "</div>"
      ],
      "text/plain": [
       "       release  nb_genomes\n",
       "3  All.May2016        5458\n",
       "2  All.Mar2017        2920\n",
       "0  All.Dec2017        2956\n",
       "1  All.Jun2018        3048"
      ]
     },
     "execution_count": 230,
     "metadata": {},
     "output_type": "execute_result"
    }
   ],
   "source": [
    "get_total_nb_groups(tax_df)"
   ]
  },
  {
   "cell_type": "code",
   "execution_count": 232,
   "metadata": {
    "ExecuteTime": {
     "end_time": "2018-08-13T16:43:51.964287Z",
     "start_time": "2018-08-13T16:43:51.709855Z"
    },
    "run_control": {
     "frozen": false,
     "read_only": false
    }
   },
   "outputs": [
    {
     "data": {
      "text/plain": [
       "<matplotlib.axes._subplots.AxesSubplot at 0x2cc303978>"
      ]
     },
     "execution_count": 232,
     "metadata": {},
     "output_type": "execute_result"
    },
    {
     "data": {
      "image/png": "[encoded data removed]",
      "text/plain": [
       "<matplotlib.figure.Figure at 0x2c4a42f28>"
      ]
     },
     "metadata": {},
     "output_type": "display_data"
    }
   ],
   "source": [
    "#number of taxa\n",
    "make_countplot_by_release(tax_df, releases, title=\"Number of taxonomic levels\")"
   ]
  },
  {
   "cell_type": "markdown",
   "metadata": {
    "run_control": {
     "frozen": false,
     "read_only": false
    }
   },
   "source": [
    "## Nb hogs per taxa summary stats"
   ]
  },
  {
   "cell_type": "code",
   "execution_count": 233,
   "metadata": {
    "ExecuteTime": {
     "end_time": "2018-08-13T16:44:04.636031Z",
     "start_time": "2018-08-13T16:44:04.579796Z"
    },
    "run_control": {
     "frozen": false,
     "read_only": false
    }
   },
   "outputs": [
    {
     "data": {
      "text/html": [
       "<div>\n",
       "<style scoped>\n",
       "    .dataframe tbody tr th:only-of-type {\n",
       "        vertical-align: middle;\n",
       "    }\n",
       "\n",
       "    .dataframe tbody tr th {\n",
       "        vertical-align: top;\n",
       "    }\n",
       "\n",
       "    .dataframe thead th {\n",
       "        text-align: right;\n",
       "    }\n",
       "</style>\n",
       "<table border=\"1\" class=\"dataframe\">\n",
       "  <thead>\n",
       "    <tr style=\"text-align: right;\">\n",
       "      <th></th>\n",
       "      <th>release</th>\n",
       "      <th>count</th>\n",
       "      <th>mean</th>\n",
       "      <th>std</th>\n",
       "      <th>min</th>\n",
       "      <th>25%</th>\n",
       "      <th>50%</th>\n",
       "      <th>75%</th>\n",
       "      <th>max</th>\n",
       "    </tr>\n",
       "  </thead>\n",
       "  <tbody>\n",
       "    <tr>\n",
       "      <th>3</th>\n",
       "      <td>All.May2016</td>\n",
       "      <td>5458.0</td>\n",
       "      <td>5243.927812</td>\n",
       "      <td>5774.193137</td>\n",
       "      <td>4.0</td>\n",
       "      <td>1943.00</td>\n",
       "      <td>3198.5</td>\n",
       "      <td>5666.00</td>\n",
       "      <td>67352.0</td>\n",
       "    </tr>\n",
       "    <tr>\n",
       "      <th>2</th>\n",
       "      <td>All.Mar2017</td>\n",
       "      <td>2920.0</td>\n",
       "      <td>5982.007877</td>\n",
       "      <td>7857.964114</td>\n",
       "      <td>69.0</td>\n",
       "      <td>2062.50</td>\n",
       "      <td>3533.0</td>\n",
       "      <td>5878.25</td>\n",
       "      <td>90253.0</td>\n",
       "    </tr>\n",
       "    <tr>\n",
       "      <th>0</th>\n",
       "      <td>All.Dec2017</td>\n",
       "      <td>2956.0</td>\n",
       "      <td>6009.267591</td>\n",
       "      <td>7858.234757</td>\n",
       "      <td>69.0</td>\n",
       "      <td>2078.75</td>\n",
       "      <td>3546.5</td>\n",
       "      <td>6002.50</td>\n",
       "      <td>90288.0</td>\n",
       "    </tr>\n",
       "    <tr>\n",
       "      <th>1</th>\n",
       "      <td>All.Jun2018</td>\n",
       "      <td>3048.0</td>\n",
       "      <td>6205.886483</td>\n",
       "      <td>8190.807309</td>\n",
       "      <td>69.0</td>\n",
       "      <td>2089.75</td>\n",
       "      <td>3597.0</td>\n",
       "      <td>6126.25</td>\n",
       "      <td>90818.0</td>\n",
       "    </tr>\n",
       "  </tbody>\n",
       "</table>\n",
       "</div>"
      ],
      "text/plain": [
       "       release   count         mean          std   min      25%     50%  \\\n",
       "3  All.May2016  5458.0  5243.927812  5774.193137   4.0  1943.00  3198.5   \n",
       "2  All.Mar2017  2920.0  5982.007877  7857.964114  69.0  2062.50  3533.0   \n",
       "0  All.Dec2017  2956.0  6009.267591  7858.234757  69.0  2078.75  3546.5   \n",
       "1  All.Jun2018  3048.0  6205.886483  8190.807309  69.0  2089.75  3597.0   \n",
       "\n",
       "       75%      max  \n",
       "3  5666.00  67352.0  \n",
       "2  5878.25  90253.0  \n",
       "0  6002.50  90288.0  \n",
       "1  6126.25  90818.0  "
      ]
     },
     "execution_count": 233,
     "metadata": {},
     "output_type": "execute_result"
    }
   ],
   "source": [
    "#number of hogs per taxonomic level summary stats\n",
    "get_summary_stats(tax_df, 'nb_hogs')"
   ]
  },
  {
   "cell_type": "code",
   "execution_count": 234,
   "metadata": {
    "ExecuteTime": {
     "end_time": "2018-08-13T16:44:11.431982Z",
     "start_time": "2018-08-13T16:44:10.963503Z"
    },
    "run_control": {
     "frozen": false,
     "read_only": false
    }
   },
   "outputs": [
    {
     "data": {
      "image/png": "[encoded data removed]",
      "text/plain": [
       "<matplotlib.figure.Figure at 0x2c7da67f0>"
      ]
     },
     "metadata": {},
     "output_type": "display_data"
    }
   ],
   "source": [
    "#distribution of number of hogs per taxa level\n",
    "make_boxplot_by_release(tax_df, releases, 'nb_hogs', \"Number of HOGS per taxa\")"
   ]
  },
  {
   "cell_type": "markdown",
   "metadata": {
    "run_control": {
     "frozen": false,
     "read_only": false
    }
   },
   "source": [
    "## Taxa added"
   ]
  },
  {
   "cell_type": "code",
   "execution_count": 329,
   "metadata": {
    "ExecuteTime": {
     "end_time": "2018-08-13T19:20:09.657408Z",
     "start_time": "2018-08-13T19:20:09.645643Z"
    },
    "run_control": {
     "frozen": false,
     "read_only": false
    },
    "scrolled": true
   },
   "outputs": [
    {
     "data": {
      "text/plain": [
       "['Moraxella',\n",
       " 'Rhodococcus hoagii (strain 103S)',\n",
       " 'Dictyostelids',\n",
       " 'Tylenchida',\n",
       " 'Plasmodium fragile',\n",
       " 'Microsporidia',\n",
       " 'Schizosaccharomyces japonicus (strain yFS275 / FY16936)',\n",
       " 'Myomorpha',\n",
       " 'Hydrogenovibrio crunogenus (strain XCL-2)',\n",
       " 'Buchnera aphidicola subsp. Schlechtendalia chinensis',\n",
       " 'Thelazia callipaeda',\n",
       " 'Providencia rettgeri (strain Dmel1)',\n",
       " 'Wolbachia pipientis',\n",
       " 'Kinetoplastida',\n",
       " 'Chenopodium quinoa',\n",
       " 'Spiruromorpha',\n",
       " 'Gossypium raimondii',\n",
       " 'Muroidea',\n",
       " 'Verticillium dahliae (strain VdLs.17 / ATCC MYA-4575 / FGSC 10137)',\n",
       " 'Plasmodium falciparum (isolate Palo Alto / Uganda)',\n",
       " 'Isoptericola variabilis (strain 225)',\n",
       " 'Trichormus',\n",
       " 'Nicotiana attenuata',\n",
       " 'Marchantia polymorpha',\n",
       " 'Chlorobaculum tepidum (strain ATCC 49652 / DSM 12025 / NBRC 103806 / TLS)',\n",
       " 'Meloidogyne hapla',\n",
       " 'Caulobacter vibrioides (strain NA1000 / CB15N)',\n",
       " 'Plasmodium falciparum (isolate Dd2)',\n",
       " 'Plasmodium malariae',\n",
       " 'Chinchilla lanigera',\n",
       " 'Schizosaccharomyces',\n",
       " 'Pan',\n",
       " 'Dothistroma septosporum (strain NZE10 / CBS 128990)',\n",
       " 'Eurotiomycetidae',\n",
       " 'unclassified Archaea (miscellaneous)',\n",
       " 'Diaphorina citri',\n",
       " 'Pseudodesulfovibrio piezophilus (strain DSM 21447 / JCM 15486 / C1TLV30)',\n",
       " 'Weissella',\n",
       " 'Tissierellales',\n",
       " 'Phytophthora ramorum',\n",
       " 'Vavraia culicis (isolate floridensis)',\n",
       " 'Pseudodesulfovibrio aespoeensis (strain ATCC 700646 / DSM 10631 / Aspo-2)',\n",
       " 'Yanofskybacteria sp. (strain GW2011_GWA1_39_13)',\n",
       " 'Bodo saltans',\n",
       " 'Archaeon GW2011_AR20',\n",
       " 'Hordeum vulgare subsp. vulgare',\n",
       " 'Fukomys damarensis',\n",
       " 'Desulfurococcus amylolyticus (strain DSM 18924 / JCM 16383 / VKM B-2413 / 1221n)',\n",
       " 'Weissella viridescens',\n",
       " 'Cyprinodontiformes',\n",
       " 'Archaeon GW2011_AR5',\n",
       " 'Vanderwaltozyma polyspora (strain ATCC 22028 / DSM 70294)',\n",
       " 'Saccharomyces cerevisiae (strain AWRI796)',\n",
       " 'Plasmodium falciparum',\n",
       " 'Octodon degus',\n",
       " 'Caulobacter vibrioides (strain ATCC 19089 / CB15)',\n",
       " 'Fusarium oxysporum',\n",
       " 'Kazachstania naganishii (strain ATCC MYA-139 / BCRC 22969 / CBS 8797 / CCRC 22969 / KCTC 17520 / NBRC 10181 / NCYC 3082)',\n",
       " 'Chamaesiphon minutus (strain ATCC 27169 / PCC 6605)',\n",
       " 'Nitrospira moscoviensis',\n",
       " 'Schizosaccharomyces octosporus (strain yFS286)',\n",
       " 'Gibberella moniliformis (strain M3125 / FGSC 7600)',\n",
       " 'Thermogladius calderae (strain DSM 22663 / VKM B-2946 / 1633)',\n",
       " 'Saccharomyces cerevisiae (strain VIN 13)',\n",
       " 'Hydra vulgaris',\n",
       " 'Brevibacterium linens',\n",
       " 'Listeria monocytogenes serotype 4b',\n",
       " 'Magnaporthe oryzae (strain 70-15 / ATCC MYA-4617 / FGSC 8958)',\n",
       " 'Pestalotiopsis fici (strain W106-1 / CGMCC3.15140)',\n",
       " 'Mycoplasma wenyonii (strain Massachusetts)',\n",
       " 'Lupinus angustifolius',\n",
       " 'Corchorus capsularis',\n",
       " 'Hystricomorpha',\n",
       " 'Promicromonosporaceae',\n",
       " 'Clavibacter',\n",
       " 'Solanaceae',\n",
       " 'Clostridium acidurici (strain ATCC 7906 / DSM 604 / BCRC 14475 / CIP 104303 / NCIMB 10678 / 9a)',\n",
       " 'Schmidtea mediterranea',\n",
       " 'Moraxella nonliquefaciens',\n",
       " 'Archaeon GW2011_AR10',\n",
       " 'Sternorrhyncha',\n",
       " 'Oceanicola granulosus (strain ATCC BAA-861 / DSM 15982 / KCTC 12143 / HTCC2516)',\n",
       " 'Ooceraea biroi',\n",
       " 'Providencia',\n",
       " 'Polyporaceae',\n",
       " 'Pseudodesulfovibrio',\n",
       " 'Plasmodium (Plasmodium)',\n",
       " 'Thiomicrospira cyclica (strain DSM 14477 / JCM 11371 / ALM1)',\n",
       " 'Burkholderia lata (strain ATCC 17760 / DSM 23089 / LMG 22485 / NCIMB 9086 / R18194 / 383)',\n",
       " 'Nannospalax galili',\n",
       " 'Archaeon GW2011_AR15',\n",
       " 'Saccharomyces cerevisiae',\n",
       " 'Saccharomyces cerevisiae (strain FostersO)',\n",
       " 'Nothobranchius furzeri',\n",
       " 'Methanothrix',\n",
       " 'Schizosaccharomyces cryophilus (strain OY26 / ATCC MYA-4695 / CBS 11777 / NBRC 106824 / NRRL Y48691)',\n",
       " 'Jaculus jaculus',\n",
       " 'Methanothrix soehngenii (strain ATCC 5969 / DSM 3671 / JCM 10134 / NBRC 103675 / OCM 69 / GP-6)',\n",
       " 'Oligoflexia',\n",
       " 'Cardiobacterium hominis (strain ATCC 15826 / DSM 8339 / NCTC 10426 / 6573)',\n",
       " 'Yersinia ruckeri',\n",
       " 'Pan paniscus',\n",
       " 'Cutibacterium acnes (strain DSM 16379 / KPA171202)',\n",
       " 'Staphylococcus hyicus',\n",
       " 'Cardiobacteriaceae',\n",
       " 'Lachancea thermotolerans (strain ATCC 56472 / CBS 6340 / NRRL Y-8284)',\n",
       " 'Magnaporthe',\n",
       " 'Pseudomonas knackmussii (strain DSM 6978 / LMG 23759 / B13)',\n",
       " 'Blastochloris viridis',\n",
       " 'Fusarium oxysporum f. sp. cubense (strain race 1)',\n",
       " 'Methanothrix thermoacetophila (strain DSM 6194 / JCM 14653 / NBRC 101360 / PT)',\n",
       " 'Platyhelminthes',\n",
       " 'Paracoccidioides lutzii (strain ATCC MYA-826 / Pb01)',\n",
       " 'Gossypium',\n",
       " 'Cucumis sativus',\n",
       " 'Trichomonas vaginalis']"
      ]
     },
     "execution_count": 329,
     "metadata": {},
     "output_type": "execute_result"
    }
   ],
   "source": [
    "old_release = sanity_sessions[-2]\n",
    "new_release = sanity_sessions[-1]\n",
    "get_differences_in_genomes_or_taxa(tax_df, old_release, new_release, \"taxa\")['added']"
   ]
  },
  {
   "cell_type": "markdown",
   "metadata": {
    "ExecuteTime": {
     "end_time": "2018-08-11T17:50:15.224930Z",
     "start_time": "2018-08-11T17:50:15.207544Z"
    },
    "run_control": {
     "frozen": false,
     "read_only": false
    }
   },
   "source": [
    "## Taxa removed"
   ]
  },
  {
   "cell_type": "code",
   "execution_count": 330,
   "metadata": {
    "ExecuteTime": {
     "end_time": "2018-08-13T19:20:14.014457Z",
     "start_time": "2018-08-13T19:20:14.003563Z"
    },
    "run_control": {
     "frozen": false,
     "read_only": false
    },
    "scrolled": true
   },
   "outputs": [
    {
     "data": {
      "text/plain": [
       "['Anabaena',\n",
       " 'Thiomicrospira crunogena (strain XCL-2)',\n",
       " 'Desulfovibrio aespoeensis (strain ATCC 700646 / DSM 10631 / Aspo-2)',\n",
       " 'Coriolaceae',\n",
       " 'Chlorobium tepidum (strain ATCC 49652 / DSM 12025 / NBRC 103806 / TLS)',\n",
       " 'Propionibacterium acnes (strain KPA171202 / DSM 16379)',\n",
       " 'Methanosaeta',\n",
       " 'Caulobacter crescentus (strain ATCC 19089 / CB15)',\n",
       " 'Clavibacter michiganensis',\n",
       " 'Thermogladius cellulolyticus (strain 1633)',\n",
       " 'Rhodococcus equi (strain 103S)',\n",
       " 'Dictyosteliida',\n",
       " 'Desulfurococcus kamchatkensis (strain DSM 18924 / JCM 16383 / VKM B-2413 / 1221n)',\n",
       " 'Methanosaeta concilii (strain ATCC 5969 / DSM 3671 / JCM 10134 / NBRC 103675 / OCM 69 / GP-6)',\n",
       " 'Hordeum vulgare var. distichon',\n",
       " 'Desulfovibrio piezophilus (strain DSM 21447 / JCM 15486 / C1TLV30)',\n",
       " 'Rhabditida',\n",
       " 'Burkholderia lata (strain ATCC 17760 / LMG 22485 / NCIMB 9086 / R18194 / 383)',\n",
       " 'Thioalkalimicrobium cyclicum (strain DSM 14477 / JCM 11371 / ALM1)',\n",
       " 'Clostridium acidurici (strain ATCC 7906 / CIP 104303 / DSM 604 / NCIMB 10678 / BCRC 14475 / NCCB 46094 / 9a)',\n",
       " 'Bdellovibrionales',\n",
       " 'Methanosaeta thermophila (strain DSM 6194 / JCM 14653 / NBRC 101360 / PT)',\n",
       " 'Cerapachys biroi',\n",
       " 'Caulobacter crescentus (strain NA1000 / CB15N)']"
      ]
     },
     "execution_count": 330,
     "metadata": {},
     "output_type": "execute_result"
    }
   ],
   "source": [
    "get_differences_in_genomes_or_taxa(tax_df, old_release, new_release, \"taxa\")['removed']"
   ]
  },
  {
   "cell_type": "markdown",
   "metadata": {},
   "source": [
    "## Taxa with 2 genes in family"
   ]
  },
  {
   "cell_type": "markdown",
   "metadata": {},
   "source": [
    "The following analysis uses the latest release."
   ]
  },
  {
   "cell_type": "code",
   "execution_count": 301,
   "metadata": {
    "ExecuteTime": {
     "end_time": "2018-08-13T18:25:13.931546Z",
     "start_time": "2018-08-13T18:25:13.685355Z"
    },
    "scrolled": true
   },
   "outputs": [
    {
     "name": "stderr",
     "output_type": "stream",
     "text": [
      "/usr/local/Cellar/python3/3.6.4_2/Frameworks/Python.framework/Versions/3.6/lib/python3.6/site-packages/tables/leaf.py:396: PerformanceWarning: The Leaf ``/_i_HogLevel/ID/sorted`` is exceeding the maximum recommended rowsize (104857600 bytes);\n",
      "be ready to see PyTables asking for *lots* of memory and possibly slow\n",
      "I/O.  You may want to reduce the rowsize by trimming the value of\n",
      "dimensions that are orthogonal (and preferably close) to the *main*\n",
      "dimension of this leave.  Alternatively, in case you have specified a\n",
      "very small/large chunksize, you may want to increase/decrease it.\n",
      "  PerformanceWarning)\n",
      "/usr/local/Cellar/python3/3.6.4_2/Frameworks/Python.framework/Versions/3.6/lib/python3.6/site-packages/tables/leaf.py:396: PerformanceWarning: The Leaf ``/_i_HogLevel/Level/sorted`` is exceeding the maximum recommended rowsize (104857600 bytes);\n",
      "be ready to see PyTables asking for *lots* of memory and possibly slow\n",
      "I/O.  You may want to reduce the rowsize by trimming the value of\n",
      "dimensions that are orthogonal (and preferably close) to the *main*\n",
      "dimension of this leave.  Alternatively, in case you have specified a\n",
      "very small/large chunksize, you may want to increase/decrease it.\n",
      "  PerformanceWarning)\n"
     ]
    }
   ],
   "source": [
    "#get families with 2 genes\n",
    "families_2_genes = fam_df[(fam_df['nb_genes']==2) & (fam_df['release']==releases[3])]['fam']\n",
    "\n",
    "#open up latest h5 file\n",
    "h5file = tables.open_file(oma_browser_dir+\"/\"+releases[3]+\"/data/OmaServer.h5\", \"r\")\n",
    "\n",
    "#read hog level table and make df\n",
    "hog_level_df = pd.DataFrame(h5file.root.HogLevel.read())"
   ]
  },
  {
   "cell_type": "code",
   "execution_count": 322,
   "metadata": {
    "ExecuteTime": {
     "end_time": "2018-08-13T19:01:33.062855Z",
     "start_time": "2018-08-13T19:01:30.264183Z"
    }
   },
   "outputs": [],
   "source": [
    "#get rows with rootlevel taxa matching list of families w/ 2 genes\n",
    "taxa_2_genes_at_root_df = hog_level_df[hog_level_df['Fam'].isin(families_2_genes)].\\\n",
    "                                                            drop_duplicates(subset='Fam').\\\n",
    "                                                            groupby('Level').\\\n",
    "                                                            size().\\\n",
    "                                                            reset_index().\\\n",
    "                                                            sort_values(0, ascending=False)\n",
    "taxa_2_genes_at_root_df = taxa_2_genes_at_root_df.rename({0:\"nb_families\"}, axis=1)\n",
    "taxa_2_genes_at_root_df = decode_column_in_df(taxa_2_genes_at_root_df, \"Level\")"
   ]
  },
  {
   "cell_type": "code",
   "execution_count": 331,
   "metadata": {
    "ExecuteTime": {
     "end_time": "2018-08-13T19:41:13.419461Z",
     "start_time": "2018-08-13T19:41:13.407786Z"
    }
   },
   "outputs": [
    {
     "data": {
      "text/html": [
       "<div>\n",
       "<style scoped>\n",
       "    .dataframe tbody tr th:only-of-type {\n",
       "        vertical-align: middle;\n",
       "    }\n",
       "\n",
       "    .dataframe tbody tr th {\n",
       "        vertical-align: top;\n",
       "    }\n",
       "\n",
       "    .dataframe thead th {\n",
       "        text-align: right;\n",
       "    }\n",
       "</style>\n",
       "<table border=\"1\" class=\"dataframe\">\n",
       "  <thead>\n",
       "    <tr style=\"text-align: right;\">\n",
       "      <th></th>\n",
       "      <th>Level</th>\n",
       "      <th>nb_families</th>\n",
       "    </tr>\n",
       "  </thead>\n",
       "  <tbody>\n",
       "    <tr>\n",
       "      <th>661</th>\n",
       "      <td>Puccinia graminis</td>\n",
       "      <td>14508</td>\n",
       "    </tr>\n",
       "    <tr>\n",
       "      <th>154</th>\n",
       "      <td>Capitella</td>\n",
       "      <td>12189</td>\n",
       "    </tr>\n",
       "    <tr>\n",
       "      <th>121</th>\n",
       "      <td>Brassica</td>\n",
       "      <td>9013</td>\n",
       "    </tr>\n",
       "    <tr>\n",
       "      <th>499</th>\n",
       "      <td>Musa acuminata</td>\n",
       "      <td>8680</td>\n",
       "    </tr>\n",
       "    <tr>\n",
       "      <th>306</th>\n",
       "      <td>Eukaryota</td>\n",
       "      <td>6712</td>\n",
       "    </tr>\n",
       "    <tr>\n",
       "      <th>572</th>\n",
       "      <td>Oryza</td>\n",
       "      <td>5536</td>\n",
       "    </tr>\n",
       "    <tr>\n",
       "      <th>613</th>\n",
       "      <td>Phaeosphaeria nodorum</td>\n",
       "      <td>4888</td>\n",
       "    </tr>\n",
       "    <tr>\n",
       "      <th>107</th>\n",
       "      <td>Bilateria</td>\n",
       "      <td>4334</td>\n",
       "    </tr>\n",
       "    <tr>\n",
       "      <th>89</th>\n",
       "      <td>Bacteria</td>\n",
       "      <td>3838</td>\n",
       "    </tr>\n",
       "    <tr>\n",
       "      <th>719</th>\n",
       "      <td>Sarcocystidae</td>\n",
       "      <td>3345</td>\n",
       "    </tr>\n",
       "    <tr>\n",
       "      <th>96</th>\n",
       "      <td>Batrachochytrium dendrobatidis</td>\n",
       "      <td>3245</td>\n",
       "    </tr>\n",
       "    <tr>\n",
       "      <th>835</th>\n",
       "      <td>Triticinae</td>\n",
       "      <td>3030</td>\n",
       "    </tr>\n",
       "    <tr>\n",
       "      <th>341</th>\n",
       "      <td>Giardia intestinalis</td>\n",
       "      <td>3020</td>\n",
       "    </tr>\n",
       "    <tr>\n",
       "      <th>737</th>\n",
       "      <td>Sophophora</td>\n",
       "      <td>2744</td>\n",
       "    </tr>\n",
       "    <tr>\n",
       "      <th>173</th>\n",
       "      <td>Chlamydomonadales</td>\n",
       "      <td>2628</td>\n",
       "    </tr>\n",
       "    <tr>\n",
       "      <th>307</th>\n",
       "      <td>Eumetazoa</td>\n",
       "      <td>2449</td>\n",
       "    </tr>\n",
       "    <tr>\n",
       "      <th>436</th>\n",
       "      <td>Magnaporthe</td>\n",
       "      <td>2250</td>\n",
       "    </tr>\n",
       "    <tr>\n",
       "      <th>447</th>\n",
       "      <td>Mesangiospermae</td>\n",
       "      <td>2214</td>\n",
       "    </tr>\n",
       "    <tr>\n",
       "      <th>345</th>\n",
       "      <td>Gossypium</td>\n",
       "      <td>2096</td>\n",
       "    </tr>\n",
       "    <tr>\n",
       "      <th>644</th>\n",
       "      <td>Proteobacteria</td>\n",
       "      <td>2032</td>\n",
       "    </tr>\n",
       "  </tbody>\n",
       "</table>\n",
       "</div>"
      ],
      "text/plain": [
       "                              Level  nb_families\n",
       "661               Puccinia graminis        14508\n",
       "154                       Capitella        12189\n",
       "121                        Brassica         9013\n",
       "499                  Musa acuminata         8680\n",
       "306                       Eukaryota         6712\n",
       "572                           Oryza         5536\n",
       "613           Phaeosphaeria nodorum         4888\n",
       "107                       Bilateria         4334\n",
       "89                         Bacteria         3838\n",
       "719                   Sarcocystidae         3345\n",
       "96   Batrachochytrium dendrobatidis         3245\n",
       "835                      Triticinae         3030\n",
       "341            Giardia intestinalis         3020\n",
       "737                      Sophophora         2744\n",
       "173               Chlamydomonadales         2628\n",
       "307                       Eumetazoa         2449\n",
       "436                     Magnaporthe         2250\n",
       "447                 Mesangiospermae         2214\n",
       "345                       Gossypium         2096\n",
       "644                  Proteobacteria         2032"
      ]
     },
     "execution_count": 331,
     "metadata": {},
     "output_type": "execute_result"
    }
   ],
   "source": [
    "#top 20 taxa with the most families consisting of 2 genes\n",
    "taxa_2_genes_at_root_df[:20]"
   ]
  },
  {
   "cell_type": "code",
   "execution_count": null,
   "metadata": {},
   "outputs": [],
   "source": []
  }
 ],
 "metadata": {
  "kernelspec": {
   "display_name": "Python 3",
   "language": "python",
   "name": "python3"
  },
  "language_info": {
   "codemirror_mode": {
    "name": "ipython",
    "version": 3
   },
   "file_extension": ".py",
   "mimetype": "text/x-python",
   "name": "python",
   "nbconvert_exporter": "python",
   "pygments_lexer": "ipython3",
   "version": "3.6.0"
  },
  "toc": {
   "colors": {
    "hover_highlight": "#DAA520",
    "running_highlight": "#FF0000",
    "selected_highlight": "#FFD700"
   },
   "moveMenuLeft": true,
   "nav_menu": {
    "height": "512px",
    "width": "252px"
   },
   "navigate_menu": true,
   "number_sections": true,
   "sideBar": true,
   "threshold": 4,
   "toc_cell": false,
   "toc_section_display": "block",
   "toc_window_display": true
  }
 },
 "nbformat": 4,
 "nbformat_minor": 2
}
